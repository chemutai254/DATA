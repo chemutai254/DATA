{
 "cells": [
  {
   "cell_type": "markdown",
   "metadata": {},
   "source": [
    "## Pizza Sales Analysis"
   ]
  },
  {
   "cell_type": "code",
   "execution_count": 7,
   "metadata": {},
   "outputs": [],
   "source": [
    "# Import libraries\n",
    "import pandas as pd \n",
    "# pd?"
   ]
  },
  {
   "cell_type": "code",
   "execution_count": null,
   "metadata": {},
   "outputs": [],
   "source": [
    "# %pip install openpyxl"
   ]
  },
  {
   "cell_type": "code",
   "execution_count": 17,
   "metadata": {},
   "outputs": [
    {
     "data": {
      "application/vnd.microsoft.datawrangler.viewer.v0+json": {
       "columns": [
        {
         "name": "order_details_id",
         "rawType": "int64",
         "type": "integer"
        },
        {
         "name": "order_id",
         "rawType": "int64",
         "type": "integer"
        },
        {
         "name": "pizza_id",
         "rawType": "object",
         "type": "string"
        },
        {
         "name": "quantity",
         "rawType": "int64",
         "type": "integer"
        },
        {
         "name": "order_date",
         "rawType": "datetime64[ns]",
         "type": "datetime"
        },
        {
         "name": "order_time",
         "rawType": "object",
         "type": "unknown"
        },
        {
         "name": "unit_price",
         "rawType": "float64",
         "type": "float"
        },
        {
         "name": "total_price",
         "rawType": "float64",
         "type": "float"
        },
        {
         "name": "pizza_size",
         "rawType": "object",
         "type": "string"
        },
        {
         "name": "pizza_category",
         "rawType": "object",
         "type": "string"
        },
        {
         "name": "pizza_ingredients",
         "rawType": "object",
         "type": "string"
        },
        {
         "name": "pizza_name",
         "rawType": "object",
         "type": "string"
        }
       ],
       "conversionMethod": "pd.DataFrame",
       "ref": "ca9e0e78-1023-4ceb-a424-04bee9b663ef",
       "rows": [
        [
         "1",
         "1",
         "hawaiian_m",
         "1",
         "2015-01-01 00:00:00",
         "11:38:36",
         "13.25",
         "13.25",
         "M",
         "Classic",
         "Sliced Ham, Pineapple, Mozzarella Cheese",
         "The Hawaiian Pizza"
        ],
        [
         "2",
         "2",
         "classic_dlx_m",
         "1",
         "2015-01-01 00:00:00",
         "11:57:40",
         "16.0",
         "16.0",
         "M",
         "Classic",
         "Pepperoni, Mushrooms, Red Onions, Red Peppers, Bacon",
         "The Classic Deluxe Pizza"
        ],
        [
         "3",
         "2",
         "five_cheese_l",
         "1",
         "2015-01-01 00:00:00",
         "11:57:40",
         "18.5",
         "18.5",
         "L",
         "Veggie",
         "Mozzarella Cheese, Provolone Cheese, Smoked Gouda Cheese, Romano Cheese, Blue Cheese, Garlic",
         "The Five Cheese Pizza"
        ],
        [
         "4",
         "2",
         "ital_supr_l",
         "1",
         "2015-01-01 00:00:00",
         "11:57:40",
         "20.75",
         "20.75",
         "L",
         "Supreme",
         "Calabrese Salami, Capocollo, Tomatoes, Red Onions, Green Olives, Garlic",
         "The Italian Supreme Pizza"
        ],
        [
         "5",
         "2",
         "mexicana_m",
         "1",
         "2015-01-01 00:00:00",
         "11:57:40",
         "16.0",
         "16.0",
         "M",
         "Veggie",
         "Tomatoes, Red Peppers, Jalapeno Peppers, Red Onions, Cilantro, Corn, Chipotle Sauce, Garlic",
         "The Mexicana Pizza"
        ]
       ],
       "shape": {
        "columns": 11,
        "rows": 5
       }
      },
      "text/html": [
       "<div>\n",
       "<style scoped>\n",
       "    .dataframe tbody tr th:only-of-type {\n",
       "        vertical-align: middle;\n",
       "    }\n",
       "\n",
       "    .dataframe tbody tr th {\n",
       "        vertical-align: top;\n",
       "    }\n",
       "\n",
       "    .dataframe thead th {\n",
       "        text-align: right;\n",
       "    }\n",
       "</style>\n",
       "<table border=\"1\" class=\"dataframe\">\n",
       "  <thead>\n",
       "    <tr style=\"text-align: right;\">\n",
       "      <th></th>\n",
       "      <th>order_id</th>\n",
       "      <th>pizza_id</th>\n",
       "      <th>quantity</th>\n",
       "      <th>order_date</th>\n",
       "      <th>order_time</th>\n",
       "      <th>unit_price</th>\n",
       "      <th>total_price</th>\n",
       "      <th>pizza_size</th>\n",
       "      <th>pizza_category</th>\n",
       "      <th>pizza_ingredients</th>\n",
       "      <th>pizza_name</th>\n",
       "    </tr>\n",
       "    <tr>\n",
       "      <th>order_details_id</th>\n",
       "      <th></th>\n",
       "      <th></th>\n",
       "      <th></th>\n",
       "      <th></th>\n",
       "      <th></th>\n",
       "      <th></th>\n",
       "      <th></th>\n",
       "      <th></th>\n",
       "      <th></th>\n",
       "      <th></th>\n",
       "      <th></th>\n",
       "    </tr>\n",
       "  </thead>\n",
       "  <tbody>\n",
       "    <tr>\n",
       "      <th>1</th>\n",
       "      <td>1</td>\n",
       "      <td>hawaiian_m</td>\n",
       "      <td>1</td>\n",
       "      <td>2015-01-01</td>\n",
       "      <td>11:38:36</td>\n",
       "      <td>13.25</td>\n",
       "      <td>13.25</td>\n",
       "      <td>M</td>\n",
       "      <td>Classic</td>\n",
       "      <td>Sliced Ham, Pineapple, Mozzarella Cheese</td>\n",
       "      <td>The Hawaiian Pizza</td>\n",
       "    </tr>\n",
       "    <tr>\n",
       "      <th>2</th>\n",
       "      <td>2</td>\n",
       "      <td>classic_dlx_m</td>\n",
       "      <td>1</td>\n",
       "      <td>2015-01-01</td>\n",
       "      <td>11:57:40</td>\n",
       "      <td>16.00</td>\n",
       "      <td>16.00</td>\n",
       "      <td>M</td>\n",
       "      <td>Classic</td>\n",
       "      <td>Pepperoni, Mushrooms, Red Onions, Red Peppers,...</td>\n",
       "      <td>The Classic Deluxe Pizza</td>\n",
       "    </tr>\n",
       "    <tr>\n",
       "      <th>3</th>\n",
       "      <td>2</td>\n",
       "      <td>five_cheese_l</td>\n",
       "      <td>1</td>\n",
       "      <td>2015-01-01</td>\n",
       "      <td>11:57:40</td>\n",
       "      <td>18.50</td>\n",
       "      <td>18.50</td>\n",
       "      <td>L</td>\n",
       "      <td>Veggie</td>\n",
       "      <td>Mozzarella Cheese, Provolone Cheese, Smoked Go...</td>\n",
       "      <td>The Five Cheese Pizza</td>\n",
       "    </tr>\n",
       "    <tr>\n",
       "      <th>4</th>\n",
       "      <td>2</td>\n",
       "      <td>ital_supr_l</td>\n",
       "      <td>1</td>\n",
       "      <td>2015-01-01</td>\n",
       "      <td>11:57:40</td>\n",
       "      <td>20.75</td>\n",
       "      <td>20.75</td>\n",
       "      <td>L</td>\n",
       "      <td>Supreme</td>\n",
       "      <td>Calabrese Salami, Capocollo, Tomatoes, Red Oni...</td>\n",
       "      <td>The Italian Supreme Pizza</td>\n",
       "    </tr>\n",
       "    <tr>\n",
       "      <th>5</th>\n",
       "      <td>2</td>\n",
       "      <td>mexicana_m</td>\n",
       "      <td>1</td>\n",
       "      <td>2015-01-01</td>\n",
       "      <td>11:57:40</td>\n",
       "      <td>16.00</td>\n",
       "      <td>16.00</td>\n",
       "      <td>M</td>\n",
       "      <td>Veggie</td>\n",
       "      <td>Tomatoes, Red Peppers, Jalapeno Peppers, Red O...</td>\n",
       "      <td>The Mexicana Pizza</td>\n",
       "    </tr>\n",
       "  </tbody>\n",
       "</table>\n",
       "</div>"
      ],
      "text/plain": [
       "                  order_id       pizza_id  quantity order_date order_time  \\\n",
       "order_details_id                                                            \n",
       "1                        1     hawaiian_m         1 2015-01-01   11:38:36   \n",
       "2                        2  classic_dlx_m         1 2015-01-01   11:57:40   \n",
       "3                        2  five_cheese_l         1 2015-01-01   11:57:40   \n",
       "4                        2    ital_supr_l         1 2015-01-01   11:57:40   \n",
       "5                        2     mexicana_m         1 2015-01-01   11:57:40   \n",
       "\n",
       "                  unit_price  total_price pizza_size pizza_category  \\\n",
       "order_details_id                                                      \n",
       "1                      13.25        13.25          M        Classic   \n",
       "2                      16.00        16.00          M        Classic   \n",
       "3                      18.50        18.50          L         Veggie   \n",
       "4                      20.75        20.75          L        Supreme   \n",
       "5                      16.00        16.00          M         Veggie   \n",
       "\n",
       "                                                  pizza_ingredients  \\\n",
       "order_details_id                                                      \n",
       "1                          Sliced Ham, Pineapple, Mozzarella Cheese   \n",
       "2                 Pepperoni, Mushrooms, Red Onions, Red Peppers,...   \n",
       "3                 Mozzarella Cheese, Provolone Cheese, Smoked Go...   \n",
       "4                 Calabrese Salami, Capocollo, Tomatoes, Red Oni...   \n",
       "5                 Tomatoes, Red Peppers, Jalapeno Peppers, Red O...   \n",
       "\n",
       "                                 pizza_name  \n",
       "order_details_id                             \n",
       "1                        The Hawaiian Pizza  \n",
       "2                  The Classic Deluxe Pizza  \n",
       "3                     The Five Cheese Pizza  \n",
       "4                 The Italian Supreme Pizza  \n",
       "5                        The Mexicana Pizza  "
      ]
     },
     "execution_count": 17,
     "metadata": {},
     "output_type": "execute_result"
    }
   ],
   "source": [
    "pizza_df = pd.read_excel(\"../EDA/PizzaSalesData.xlsx\", index_col=0)\n",
    "pizza_df.head()"
   ]
  },
  {
   "cell_type": "code",
   "execution_count": null,
   "metadata": {},
   "outputs": [
    {
     "data": {
      "text/plain": [
       "Index(['order_id', 'pizza_id', 'quantity', 'order_date', 'order_time',\n",
       "       'unit_price', 'total_price', 'pizza_size', 'pizza_category',\n",
       "       'pizza_ingredients', 'pizza_name'],\n",
       "      dtype='object')"
      ]
     },
     "execution_count": 18,
     "metadata": {},
     "output_type": "execute_result"
    }
   ],
   "source": [
    "# Columns present in the dataset\n",
    "pizza_df.columns"
   ]
  },
  {
   "cell_type": "code",
   "execution_count": null,
   "metadata": {},
   "outputs": [
    {
     "data": {
      "text/plain": [
       "(48620, 11)"
      ]
     },
     "execution_count": 19,
     "metadata": {},
     "output_type": "execute_result"
    }
   ],
   "source": [
    "# Number of rows and columns\n",
    "pizza_df.shape"
   ]
  },
  {
   "cell_type": "code",
   "execution_count": 21,
   "metadata": {},
   "outputs": [
    {
     "name": "stdout",
     "output_type": "stream",
     "text": [
      "<class 'pandas.core.frame.DataFrame'>\n",
      "Index: 48620 entries, 1 to 48620\n",
      "Data columns (total 11 columns):\n",
      " #   Column             Non-Null Count  Dtype         \n",
      "---  ------             --------------  -----         \n",
      " 0   order_id           48620 non-null  int64         \n",
      " 1   pizza_id           48620 non-null  object        \n",
      " 2   quantity           48620 non-null  int64         \n",
      " 3   order_date         48620 non-null  datetime64[ns]\n",
      " 4   order_time         48620 non-null  object        \n",
      " 5   unit_price         48620 non-null  float64       \n",
      " 6   total_price        48620 non-null  float64       \n",
      " 7   pizza_size         48620 non-null  object        \n",
      " 8   pizza_category     48620 non-null  object        \n",
      " 9   pizza_ingredients  48620 non-null  object        \n",
      " 10  pizza_name         48620 non-null  object        \n",
      "dtypes: datetime64[ns](1), float64(2), int64(2), object(6)\n",
      "memory usage: 4.5+ MB\n"
     ]
    }
   ],
   "source": [
    "# Data types of the columns\n",
    "pizza_df.info()"
   ]
  },
  {
   "cell_type": "markdown",
   "metadata": {},
   "source": [
    "### Data Cleaning\n",
    "- Change datatypes of the following columns to *category* using *.astype('')*:\n",
    "    - pizza_size\n",
    "    - pizza_category\n",
    "    - pizza_ingredients\n",
    "    - pizza_name"
   ]
  },
  {
   "cell_type": "code",
   "execution_count": null,
   "metadata": {},
   "outputs": [],
   "source": [
    "pizza_df['pizza_size'] = pizza_df['pizza_size'].astype('category')\n",
    "pizza_df['pizza_category'] = pizza_df['pizza_category'].astype('category')\n",
    "pizza_df['pizza_ingredients'] = pizza_df['pizza_ingredients'].astype('category')\n",
    "pizza_df['pizza_name'] = pizza_df['pizza_name'].astype('category')"
   ]
  },
  {
   "cell_type": "code",
   "execution_count": 28,
   "metadata": {},
   "outputs": [
    {
     "name": "stdout",
     "output_type": "stream",
     "text": [
      "Unique values in pizza_size are: ['L', 'M', 'S', 'XL', 'XXL']\n",
      "Categories (5, object): ['L', 'M', 'S', 'XL', 'XXL']\n",
      "\n",
      "Unique values in pizza_category are: ['Chicken', 'Classic', 'Supreme', 'Veggie']\n",
      "Categories (4, object): ['Chicken', 'Classic', 'Supreme', 'Veggie']\n",
      "\n",
      "Unique values in pizza_ingredients are: ['Bacon, Pepperoni, Italian Sausage, Chorizo Sa..., 'Barbecued Chicken, Red Peppers, Green Peppers..., 'Brie Carre Cheese, Prosciutto, Caramelized On..., 'Calabrese Salami, Capocollo, Tomatoes, Red On..., 'Capocollo, Red Peppers, Tomatoes, Goat Cheese..., ..., 'Spinach, Mushrooms, Tomatoes, Green Olives, F..., 'Spinach, Red Onions, Pepperoni, Tomatoes, Art..., 'Tomatoes, Anchovies, Green Olives, Red Onions..., 'Tomatoes, Red Peppers, Jalapeno Peppers, Red ..., '慛duja Salami, Pancetta, Tomatoes, Red Onions,...]\n",
      "Length: 32\n",
      "Categories (32, object): ['Bacon, Pepperoni, Italian Sausage, Chorizo Sa..., 'Barbecued Chicken, Red Peppers, Green Peppers..., 'Brie Carre Cheese, Prosciutto, Caramelized On..., 'Calabrese Salami, Capocollo, Tomatoes, Red On..., ..., 'Spinach, Red Onions, Pepperoni, Tomatoes, Art..., 'Tomatoes, Anchovies, Green Olives, Red Onions..., 'Tomatoes, Red Peppers, Jalapeno Peppers, Red ..., '慛duja Salami, Pancetta, Tomatoes, Red Onions,...]\n",
      "\n",
      "Unique values in pizza_name are: ['The Barbecue Chicken Pizza', 'The Big Meat Pizza', 'The Brie Carre Pizza', 'The Calabrese Pizza', 'The California Chicken Pizza', ..., 'The Spinach Pesto Pizza', 'The Spinach Supreme Pizza', 'The Spinach and Feta Pizza', 'The Thai Chicken Pizza', 'The Vegetables + Vegetables Pizza']\n",
      "Length: 32\n",
      "Categories (32, object): ['The Barbecue Chicken Pizza', 'The Big Meat Pizza', 'The Brie Carre Pizza', 'The Calabrese Pizza', ..., 'The Spinach Supreme Pizza', 'The Spinach and Feta Pizza', 'The Thai Chicken Pizza', 'The Vegetables + Vegetables Pizza']\n",
      "\n"
     ]
    }
   ],
   "source": [
    "# Inspect unique values in the Categorical columns\n",
    "for category in ['pizza_size', 'pizza_category', 'pizza_ingredients', 'pizza_name']:\n",
    "    # print(category)\n",
    "    print(f\"Unique values in {category} are: {pizza_df[category].sort_values().unique()}\\n\")\n",
    "    "
   ]
  },
  {
   "cell_type": "code",
   "execution_count": 29,
   "metadata": {},
   "outputs": [
    {
     "data": {
      "application/vnd.microsoft.datawrangler.viewer.v0+json": {
       "columns": [
        {
         "name": "index",
         "rawType": "object",
         "type": "string"
        },
        {
         "name": "order_id",
         "rawType": "float64",
         "type": "float"
        },
        {
         "name": "quantity",
         "rawType": "float64",
         "type": "float"
        },
        {
         "name": "order_date",
         "rawType": "object",
         "type": "unknown"
        },
        {
         "name": "unit_price",
         "rawType": "float64",
         "type": "float"
        },
        {
         "name": "total_price",
         "rawType": "float64",
         "type": "float"
        }
       ],
       "conversionMethod": "pd.DataFrame",
       "ref": "3a451a80-0042-46ed-826a-36e6d5c4ec75",
       "rows": [
        [
         "count",
         "48620.0",
         "48620.0",
         "48620",
         "48620.0",
         "48620.0"
        ],
        [
         "mean",
         "10701.479761415056",
         "1.0196215549156726",
         "2015-06-29 11:03:43.611682560",
         "16.494132044426163",
         "16.821473673385437"
        ],
        [
         "min",
         "1.0",
         "1.0",
         "2015-01-01 00:00:00",
         "9.75",
         "9.75"
        ],
        [
         "25%",
         "5337.0",
         "1.0",
         "2015-03-31 00:00:00",
         "12.75",
         "12.75"
        ],
        [
         "50%",
         "10682.5",
         "1.0",
         "2015-06-28 00:00:00",
         "16.5",
         "16.5"
        ],
        [
         "75%",
         "16100.0",
         "1.0",
         "2015-09-28 00:00:00",
         "20.25",
         "20.5"
        ],
        [
         "max",
         "21350.0",
         "4.0",
         "2015-12-31 00:00:00",
         "35.95",
         "83.0"
        ],
        [
         "std",
         "6180.11977037765",
         "0.14307700932472198",
         null,
         "3.6217891586575446",
         "4.4373975811810835"
        ]
       ],
       "shape": {
        "columns": 5,
        "rows": 8
       }
      },
      "text/html": [
       "<div>\n",
       "<style scoped>\n",
       "    .dataframe tbody tr th:only-of-type {\n",
       "        vertical-align: middle;\n",
       "    }\n",
       "\n",
       "    .dataframe tbody tr th {\n",
       "        vertical-align: top;\n",
       "    }\n",
       "\n",
       "    .dataframe thead th {\n",
       "        text-align: right;\n",
       "    }\n",
       "</style>\n",
       "<table border=\"1\" class=\"dataframe\">\n",
       "  <thead>\n",
       "    <tr style=\"text-align: right;\">\n",
       "      <th></th>\n",
       "      <th>order_id</th>\n",
       "      <th>quantity</th>\n",
       "      <th>order_date</th>\n",
       "      <th>unit_price</th>\n",
       "      <th>total_price</th>\n",
       "    </tr>\n",
       "  </thead>\n",
       "  <tbody>\n",
       "    <tr>\n",
       "      <th>count</th>\n",
       "      <td>48620.000000</td>\n",
       "      <td>48620.000000</td>\n",
       "      <td>48620</td>\n",
       "      <td>48620.000000</td>\n",
       "      <td>48620.000000</td>\n",
       "    </tr>\n",
       "    <tr>\n",
       "      <th>mean</th>\n",
       "      <td>10701.479761</td>\n",
       "      <td>1.019622</td>\n",
       "      <td>2015-06-29 11:03:43.611682560</td>\n",
       "      <td>16.494132</td>\n",
       "      <td>16.821474</td>\n",
       "    </tr>\n",
       "    <tr>\n",
       "      <th>min</th>\n",
       "      <td>1.000000</td>\n",
       "      <td>1.000000</td>\n",
       "      <td>2015-01-01 00:00:00</td>\n",
       "      <td>9.750000</td>\n",
       "      <td>9.750000</td>\n",
       "    </tr>\n",
       "    <tr>\n",
       "      <th>25%</th>\n",
       "      <td>5337.000000</td>\n",
       "      <td>1.000000</td>\n",
       "      <td>2015-03-31 00:00:00</td>\n",
       "      <td>12.750000</td>\n",
       "      <td>12.750000</td>\n",
       "    </tr>\n",
       "    <tr>\n",
       "      <th>50%</th>\n",
       "      <td>10682.500000</td>\n",
       "      <td>1.000000</td>\n",
       "      <td>2015-06-28 00:00:00</td>\n",
       "      <td>16.500000</td>\n",
       "      <td>16.500000</td>\n",
       "    </tr>\n",
       "    <tr>\n",
       "      <th>75%</th>\n",
       "      <td>16100.000000</td>\n",
       "      <td>1.000000</td>\n",
       "      <td>2015-09-28 00:00:00</td>\n",
       "      <td>20.250000</td>\n",
       "      <td>20.500000</td>\n",
       "    </tr>\n",
       "    <tr>\n",
       "      <th>max</th>\n",
       "      <td>21350.000000</td>\n",
       "      <td>4.000000</td>\n",
       "      <td>2015-12-31 00:00:00</td>\n",
       "      <td>35.950000</td>\n",
       "      <td>83.000000</td>\n",
       "    </tr>\n",
       "    <tr>\n",
       "      <th>std</th>\n",
       "      <td>6180.119770</td>\n",
       "      <td>0.143077</td>\n",
       "      <td>NaN</td>\n",
       "      <td>3.621789</td>\n",
       "      <td>4.437398</td>\n",
       "    </tr>\n",
       "  </tbody>\n",
       "</table>\n",
       "</div>"
      ],
      "text/plain": [
       "           order_id      quantity                     order_date  \\\n",
       "count  48620.000000  48620.000000                          48620   \n",
       "mean   10701.479761      1.019622  2015-06-29 11:03:43.611682560   \n",
       "min        1.000000      1.000000            2015-01-01 00:00:00   \n",
       "25%     5337.000000      1.000000            2015-03-31 00:00:00   \n",
       "50%    10682.500000      1.000000            2015-06-28 00:00:00   \n",
       "75%    16100.000000      1.000000            2015-09-28 00:00:00   \n",
       "max    21350.000000      4.000000            2015-12-31 00:00:00   \n",
       "std     6180.119770      0.143077                            NaN   \n",
       "\n",
       "         unit_price   total_price  \n",
       "count  48620.000000  48620.000000  \n",
       "mean      16.494132     16.821474  \n",
       "min        9.750000      9.750000  \n",
       "25%       12.750000     12.750000  \n",
       "50%       16.500000     16.500000  \n",
       "75%       20.250000     20.500000  \n",
       "max       35.950000     83.000000  \n",
       "std        3.621789      4.437398  "
      ]
     },
     "execution_count": 29,
     "metadata": {},
     "output_type": "execute_result"
    }
   ],
   "source": [
    "# Summary statistics of the numerical columns\n",
    "pizza_df.describe()"
   ]
  },
  {
   "cell_type": "code",
   "execution_count": 35,
   "metadata": {},
   "outputs": [
    {
     "name": "stdout",
     "output_type": "stream",
     "text": [
      "pizza_size\n",
      "Summary statistics of pizza_size are: \n",
      "count     48620\n",
      "unique        5\n",
      "top           L\n",
      "freq      18526\n",
      "Name: pizza_size, dtype: object\n",
      "\n",
      "pizza_category\n",
      "Summary statistics of pizza_category are: \n",
      "count       48620\n",
      "unique          4\n",
      "top       Classic\n",
      "freq        14579\n",
      "Name: pizza_category, dtype: object\n",
      "\n",
      "pizza_ingredients\n",
      "Summary statistics of pizza_ingredients are: \n",
      "count                                                 48620\n",
      "unique                                                   32\n",
      "top       Pepperoni, Mushrooms, Red Onions, Red Peppers,...\n",
      "freq                                                   2416\n",
      "Name: pizza_ingredients, dtype: object\n",
      "\n",
      "pizza_name\n",
      "Summary statistics of pizza_name are: \n",
      "count                        48620\n",
      "unique                          32\n",
      "top       The Classic Deluxe Pizza\n",
      "freq                          2416\n",
      "Name: pizza_name, dtype: object\n",
      "\n"
     ]
    }
   ],
   "source": [
    "# Summary statistics of the categorical columns\n",
    "for category in ['pizza_size', 'pizza_category', 'pizza_ingredients', 'pizza_name']:\n",
    "    print(category)\n",
    "    print(f\"Summary statistics of {category} are: \\n{pizza_df[category].describe()}\\n\")"
   ]
  },
  {
   "cell_type": "code",
   "execution_count": 36,
   "metadata": {},
   "outputs": [
    {
     "data": {
      "text/plain": [
       "order_id             0\n",
       "pizza_id             0\n",
       "quantity             0\n",
       "order_date           0\n",
       "order_time           0\n",
       "unit_price           0\n",
       "total_price          0\n",
       "pizza_size           0\n",
       "pizza_category       0\n",
       "pizza_ingredients    0\n",
       "pizza_name           0\n",
       "dtype: int64"
      ]
     },
     "execution_count": 36,
     "metadata": {},
     "output_type": "execute_result"
    }
   ],
   "source": [
    "# Check for null values in the dataset\n",
    "pizza_df.isnull().sum()"
   ]
  },
  {
   "cell_type": "code",
   "execution_count": null,
   "metadata": {},
   "outputs": [],
   "source": []
  }
 ],
 "metadata": {
  "kernelspec": {
   "display_name": "Python 3",
   "language": "python",
   "name": "python3"
  },
  "language_info": {
   "codemirror_mode": {
    "name": "ipython",
    "version": 3
   },
   "file_extension": ".py",
   "mimetype": "text/x-python",
   "name": "python",
   "nbconvert_exporter": "python",
   "pygments_lexer": "ipython3",
   "version": "3.12.9"
  }
 },
 "nbformat": 4,
 "nbformat_minor": 2
}
