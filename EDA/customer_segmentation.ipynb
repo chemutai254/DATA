{
 "cells": [
  {
   "cell_type": "markdown",
   "metadata": {},
   "source": [
    "### Customer Segmentation"
   ]
  },
  {
   "cell_type": "code",
   "execution_count": 1,
   "metadata": {},
   "outputs": [],
   "source": [
    "import pandas as pd \n",
    "import numpy as np \n",
    "import seaborn as sns \n",
    "import matplotlib.pyplot as plt \n",
    "from sklearn.preprocessing import StandardScaler \n",
    "from sklearn.cluster import KMeans"
   ]
  },
  {
   "cell_type": "code",
   "execution_count": 2,
   "metadata": {},
   "outputs": [
    {
     "data": {
      "application/vnd.microsoft.datawrangler.viewer.v0+json": {
       "columns": [
        {
         "name": "index",
         "rawType": "int64",
         "type": "integer"
        },
        {
         "name": "customer_id",
         "rawType": "int64",
         "type": "integer"
        },
        {
         "name": "age",
         "rawType": "int64",
         "type": "integer"
        },
        {
         "name": "gender",
         "rawType": "object",
         "type": "string"
        },
        {
         "name": "dependent_count",
         "rawType": "int64",
         "type": "integer"
        },
        {
         "name": "education_level",
         "rawType": "object",
         "type": "string"
        },
        {
         "name": "marital_status",
         "rawType": "object",
         "type": "string"
        },
        {
         "name": "estimated_income",
         "rawType": "int64",
         "type": "integer"
        },
        {
         "name": "months_on_book",
         "rawType": "int64",
         "type": "integer"
        },
        {
         "name": "total_relationship_count",
         "rawType": "int64",
         "type": "integer"
        },
        {
         "name": "months_inactive_12_mon",
         "rawType": "int64",
         "type": "integer"
        },
        {
         "name": "credit_limit",
         "rawType": "float64",
         "type": "float"
        },
        {
         "name": "total_trans_amount",
         "rawType": "int64",
         "type": "integer"
        },
        {
         "name": "total_trans_count",
         "rawType": "int64",
         "type": "integer"
        },
        {
         "name": "avg_utilization_ratio",
         "rawType": "float64",
         "type": "float"
        }
       ],
       "conversionMethod": "pd.DataFrame",
       "ref": "806a3372-7763-4499-a8ed-b7e4b629007e",
       "rows": [
        [
         "0",
         "768805383",
         "45",
         "M",
         "3",
         "High School",
         "Married",
         "69000",
         "39",
         "5",
         "1",
         "12691.0",
         "1144",
         "42",
         "0.061"
        ],
        [
         "1",
         "818770008",
         "49",
         "F",
         "5",
         "Graduate",
         "Single",
         "24000",
         "44",
         "6",
         "1",
         "8256.0",
         "1291",
         "33",
         "0.105"
        ],
        [
         "2",
         "713982108",
         "51",
         "M",
         "3",
         "Graduate",
         "Married",
         "93000",
         "36",
         "4",
         "1",
         "3418.0",
         "1887",
         "20",
         "0.0"
        ],
        [
         "3",
         "769911858",
         "40",
         "F",
         "4",
         "High School",
         "Unknown",
         "37000",
         "34",
         "3",
         "4",
         "3313.0",
         "1171",
         "20",
         "0.76"
        ],
        [
         "4",
         "709106358",
         "40",
         "M",
         "3",
         "Uneducated",
         "Married",
         "65000",
         "21",
         "5",
         "1",
         "4716.0",
         "816",
         "28",
         "0.0"
        ]
       ],
       "shape": {
        "columns": 14,
        "rows": 5
       }
      },
      "text/html": [
       "<div>\n",
       "<style scoped>\n",
       "    .dataframe tbody tr th:only-of-type {\n",
       "        vertical-align: middle;\n",
       "    }\n",
       "\n",
       "    .dataframe tbody tr th {\n",
       "        vertical-align: top;\n",
       "    }\n",
       "\n",
       "    .dataframe thead th {\n",
       "        text-align: right;\n",
       "    }\n",
       "</style>\n",
       "<table border=\"1\" class=\"dataframe\">\n",
       "  <thead>\n",
       "    <tr style=\"text-align: right;\">\n",
       "      <th></th>\n",
       "      <th>customer_id</th>\n",
       "      <th>age</th>\n",
       "      <th>gender</th>\n",
       "      <th>dependent_count</th>\n",
       "      <th>education_level</th>\n",
       "      <th>marital_status</th>\n",
       "      <th>estimated_income</th>\n",
       "      <th>months_on_book</th>\n",
       "      <th>total_relationship_count</th>\n",
       "      <th>months_inactive_12_mon</th>\n",
       "      <th>credit_limit</th>\n",
       "      <th>total_trans_amount</th>\n",
       "      <th>total_trans_count</th>\n",
       "      <th>avg_utilization_ratio</th>\n",
       "    </tr>\n",
       "  </thead>\n",
       "  <tbody>\n",
       "    <tr>\n",
       "      <th>0</th>\n",
       "      <td>768805383</td>\n",
       "      <td>45</td>\n",
       "      <td>M</td>\n",
       "      <td>3</td>\n",
       "      <td>High School</td>\n",
       "      <td>Married</td>\n",
       "      <td>69000</td>\n",
       "      <td>39</td>\n",
       "      <td>5</td>\n",
       "      <td>1</td>\n",
       "      <td>12691.0</td>\n",
       "      <td>1144</td>\n",
       "      <td>42</td>\n",
       "      <td>0.061</td>\n",
       "    </tr>\n",
       "    <tr>\n",
       "      <th>1</th>\n",
       "      <td>818770008</td>\n",
       "      <td>49</td>\n",
       "      <td>F</td>\n",
       "      <td>5</td>\n",
       "      <td>Graduate</td>\n",
       "      <td>Single</td>\n",
       "      <td>24000</td>\n",
       "      <td>44</td>\n",
       "      <td>6</td>\n",
       "      <td>1</td>\n",
       "      <td>8256.0</td>\n",
       "      <td>1291</td>\n",
       "      <td>33</td>\n",
       "      <td>0.105</td>\n",
       "    </tr>\n",
       "    <tr>\n",
       "      <th>2</th>\n",
       "      <td>713982108</td>\n",
       "      <td>51</td>\n",
       "      <td>M</td>\n",
       "      <td>3</td>\n",
       "      <td>Graduate</td>\n",
       "      <td>Married</td>\n",
       "      <td>93000</td>\n",
       "      <td>36</td>\n",
       "      <td>4</td>\n",
       "      <td>1</td>\n",
       "      <td>3418.0</td>\n",
       "      <td>1887</td>\n",
       "      <td>20</td>\n",
       "      <td>0.000</td>\n",
       "    </tr>\n",
       "    <tr>\n",
       "      <th>3</th>\n",
       "      <td>769911858</td>\n",
       "      <td>40</td>\n",
       "      <td>F</td>\n",
       "      <td>4</td>\n",
       "      <td>High School</td>\n",
       "      <td>Unknown</td>\n",
       "      <td>37000</td>\n",
       "      <td>34</td>\n",
       "      <td>3</td>\n",
       "      <td>4</td>\n",
       "      <td>3313.0</td>\n",
       "      <td>1171</td>\n",
       "      <td>20</td>\n",
       "      <td>0.760</td>\n",
       "    </tr>\n",
       "    <tr>\n",
       "      <th>4</th>\n",
       "      <td>709106358</td>\n",
       "      <td>40</td>\n",
       "      <td>M</td>\n",
       "      <td>3</td>\n",
       "      <td>Uneducated</td>\n",
       "      <td>Married</td>\n",
       "      <td>65000</td>\n",
       "      <td>21</td>\n",
       "      <td>5</td>\n",
       "      <td>1</td>\n",
       "      <td>4716.0</td>\n",
       "      <td>816</td>\n",
       "      <td>28</td>\n",
       "      <td>0.000</td>\n",
       "    </tr>\n",
       "  </tbody>\n",
       "</table>\n",
       "</div>"
      ],
      "text/plain": [
       "   customer_id  age gender  dependent_count education_level marital_status  \\\n",
       "0    768805383   45      M                3     High School        Married   \n",
       "1    818770008   49      F                5        Graduate         Single   \n",
       "2    713982108   51      M                3        Graduate        Married   \n",
       "3    769911858   40      F                4     High School        Unknown   \n",
       "4    709106358   40      M                3      Uneducated        Married   \n",
       "\n",
       "   estimated_income  months_on_book  total_relationship_count  \\\n",
       "0             69000              39                         5   \n",
       "1             24000              44                         6   \n",
       "2             93000              36                         4   \n",
       "3             37000              34                         3   \n",
       "4             65000              21                         5   \n",
       "\n",
       "   months_inactive_12_mon  credit_limit  total_trans_amount  \\\n",
       "0                       1       12691.0                1144   \n",
       "1                       1        8256.0                1291   \n",
       "2                       1        3418.0                1887   \n",
       "3                       4        3313.0                1171   \n",
       "4                       1        4716.0                 816   \n",
       "\n",
       "   total_trans_count  avg_utilization_ratio  \n",
       "0                 42                  0.061  \n",
       "1                 33                  0.105  \n",
       "2                 20                  0.000  \n",
       "3                 20                  0.760  \n",
       "4                 28                  0.000  "
      ]
     },
     "execution_count": 2,
     "metadata": {},
     "output_type": "execute_result"
    }
   ],
   "source": [
    "df = pd.read_csv(\"customer_segmentation.csv\")\n",
    "df.head()"
   ]
  },
  {
   "cell_type": "code",
   "execution_count": 3,
   "metadata": {},
   "outputs": [
    {
     "name": "stdout",
     "output_type": "stream",
     "text": [
      "<class 'pandas.core.frame.DataFrame'>\n",
      "RangeIndex: 10127 entries, 0 to 10126\n",
      "Data columns (total 14 columns):\n",
      " #   Column                    Non-Null Count  Dtype  \n",
      "---  ------                    --------------  -----  \n",
      " 0   customer_id               10127 non-null  int64  \n",
      " 1   age                       10127 non-null  int64  \n",
      " 2   gender                    10127 non-null  object \n",
      " 3   dependent_count           10127 non-null  int64  \n",
      " 4   education_level           10127 non-null  object \n",
      " 5   marital_status            10127 non-null  object \n",
      " 6   estimated_income          10127 non-null  int64  \n",
      " 7   months_on_book            10127 non-null  int64  \n",
      " 8   total_relationship_count  10127 non-null  int64  \n",
      " 9   months_inactive_12_mon    10127 non-null  int64  \n",
      " 10  credit_limit              10127 non-null  float64\n",
      " 11  total_trans_amount        10127 non-null  int64  \n",
      " 12  total_trans_count         10127 non-null  int64  \n",
      " 13  avg_utilization_ratio     10127 non-null  float64\n",
      "dtypes: float64(2), int64(9), object(3)\n",
      "memory usage: 1.1+ MB\n"
     ]
    }
   ],
   "source": [
    "df.info()"
   ]
  },
  {
   "cell_type": "code",
   "execution_count": 6,
   "metadata": {},
   "outputs": [
    {
     "data": {
      "text/plain": [
       "marital_status\n",
       "Married     4687\n",
       "Single      3943\n",
       "Unknown      749\n",
       "Divorced     748\n",
       "Name: count, dtype: int64"
      ]
     },
     "execution_count": 6,
     "metadata": {},
     "output_type": "execute_result"
    }
   ],
   "source": [
    "df[\"marital_status\"].value_counts()"
   ]
  },
  {
   "cell_type": "code",
   "execution_count": 4,
   "metadata": {},
   "outputs": [
    {
     "data": {
      "text/plain": [
       "gender\n",
       "F    5358\n",
       "M    4769\n",
       "Name: count, dtype: int64"
      ]
     },
     "execution_count": 4,
     "metadata": {},
     "output_type": "execute_result"
    }
   ],
   "source": [
    "df[\"gender\"].value_counts()"
   ]
  },
  {
   "cell_type": "code",
   "execution_count": 5,
   "metadata": {},
   "outputs": [
    {
     "data": {
      "text/plain": [
       "education_level\n",
       "Graduate         3685\n",
       "High School      2351\n",
       "Uneducated       1755\n",
       "College          1192\n",
       "Post-Graduate     616\n",
       "Doctorate         528\n",
       "Name: count, dtype: int64"
      ]
     },
     "execution_count": 5,
     "metadata": {},
     "output_type": "execute_result"
    }
   ],
   "source": [
    "df[\"education_level\"].value_counts()"
   ]
  },
  {
   "cell_type": "code",
   "execution_count": 7,
   "metadata": {},
   "outputs": [
    {
     "data": {
      "application/vnd.microsoft.datawrangler.viewer.v0+json": {
       "columns": [
        {
         "name": "index",
         "rawType": "object",
         "type": "string"
        },
        {
         "name": "customer_id",
         "rawType": "float64",
         "type": "float"
        },
        {
         "name": "age",
         "rawType": "float64",
         "type": "float"
        },
        {
         "name": "dependent_count",
         "rawType": "float64",
         "type": "float"
        },
        {
         "name": "estimated_income",
         "rawType": "float64",
         "type": "float"
        },
        {
         "name": "months_on_book",
         "rawType": "float64",
         "type": "float"
        },
        {
         "name": "total_relationship_count",
         "rawType": "float64",
         "type": "float"
        },
        {
         "name": "months_inactive_12_mon",
         "rawType": "float64",
         "type": "float"
        },
        {
         "name": "credit_limit",
         "rawType": "float64",
         "type": "float"
        },
        {
         "name": "total_trans_amount",
         "rawType": "float64",
         "type": "float"
        },
        {
         "name": "total_trans_count",
         "rawType": "float64",
         "type": "float"
        },
        {
         "name": "avg_utilization_ratio",
         "rawType": "float64",
         "type": "float"
        }
       ],
       "conversionMethod": "pd.DataFrame",
       "ref": "2ae8d89e-ec5e-4cc9-a8c2-e3334bd77a92",
       "rows": [
        [
         "count",
         "10127.0",
         "10127.0",
         "10127.0",
         "10127.0",
         "10127.0",
         "10127.0",
         "10127.0",
         "10127.0",
         "10127.0",
         "10127.0",
         "10127.0"
        ],
        [
         "mean",
         "739177606.3336625",
         "46.32596030413745",
         "2.3462032191172115",
         "62078.206773970574",
         "35.928409203120374",
         "3.8125802310654686",
         "2.3411671768539546",
         "8631.953698034955",
         "4404.086303939963",
         "64.85869457884863",
         "0.2748935518909845"
        ],
        [
         "std",
         "36903783.45023115",
         "8.016814032549028",
         "1.2989083489037903",
         "39372.861290806206",
         "7.986416330872062",
         "1.5544078653388251",
         "1.0106223994182812",
         "9088.776650223155",
         "3397.129253557087",
         "23.472570449232997",
         "0.27569146925238774"
        ],
        [
         "min",
         "708082083.0",
         "26.0",
         "0.0",
         "20000.0",
         "13.0",
         "1.0",
         "0.0",
         "1438.3",
         "510.0",
         "10.0",
         "0.0"
        ],
        [
         "25%",
         "713036770.5",
         "41.0",
         "1.0",
         "32000.0",
         "31.0",
         "3.0",
         "2.0",
         "2555.0",
         "2155.5",
         "45.0",
         "0.023"
        ],
        [
         "50%",
         "717926358.0",
         "46.0",
         "2.0",
         "50000.0",
         "36.0",
         "4.0",
         "2.0",
         "4549.0",
         "3899.0",
         "67.0",
         "0.176"
        ],
        [
         "75%",
         "773143533.0",
         "52.0",
         "3.0",
         "80000.0",
         "40.0",
         "5.0",
         "3.0",
         "11067.5",
         "4741.0",
         "81.0",
         "0.503"
        ],
        [
         "max",
         "828343083.0",
         "73.0",
         "5.0",
         "200000.0",
         "56.0",
         "6.0",
         "6.0",
         "34516.0",
         "18484.0",
         "139.0",
         "0.999"
        ]
       ],
       "shape": {
        "columns": 11,
        "rows": 8
       }
      },
      "text/html": [
       "<div>\n",
       "<style scoped>\n",
       "    .dataframe tbody tr th:only-of-type {\n",
       "        vertical-align: middle;\n",
       "    }\n",
       "\n",
       "    .dataframe tbody tr th {\n",
       "        vertical-align: top;\n",
       "    }\n",
       "\n",
       "    .dataframe thead th {\n",
       "        text-align: right;\n",
       "    }\n",
       "</style>\n",
       "<table border=\"1\" class=\"dataframe\">\n",
       "  <thead>\n",
       "    <tr style=\"text-align: right;\">\n",
       "      <th></th>\n",
       "      <th>customer_id</th>\n",
       "      <th>age</th>\n",
       "      <th>dependent_count</th>\n",
       "      <th>estimated_income</th>\n",
       "      <th>months_on_book</th>\n",
       "      <th>total_relationship_count</th>\n",
       "      <th>months_inactive_12_mon</th>\n",
       "      <th>credit_limit</th>\n",
       "      <th>total_trans_amount</th>\n",
       "      <th>total_trans_count</th>\n",
       "      <th>avg_utilization_ratio</th>\n",
       "    </tr>\n",
       "  </thead>\n",
       "  <tbody>\n",
       "    <tr>\n",
       "      <th>count</th>\n",
       "      <td>1.012700e+04</td>\n",
       "      <td>10127.000000</td>\n",
       "      <td>10127.000000</td>\n",
       "      <td>10127.000000</td>\n",
       "      <td>10127.000000</td>\n",
       "      <td>10127.000000</td>\n",
       "      <td>10127.000000</td>\n",
       "      <td>10127.000000</td>\n",
       "      <td>10127.000000</td>\n",
       "      <td>10127.000000</td>\n",
       "      <td>10127.000000</td>\n",
       "    </tr>\n",
       "    <tr>\n",
       "      <th>mean</th>\n",
       "      <td>7.391776e+08</td>\n",
       "      <td>46.325960</td>\n",
       "      <td>2.346203</td>\n",
       "      <td>62078.206774</td>\n",
       "      <td>35.928409</td>\n",
       "      <td>3.812580</td>\n",
       "      <td>2.341167</td>\n",
       "      <td>8631.953698</td>\n",
       "      <td>4404.086304</td>\n",
       "      <td>64.858695</td>\n",
       "      <td>0.274894</td>\n",
       "    </tr>\n",
       "    <tr>\n",
       "      <th>std</th>\n",
       "      <td>3.690378e+07</td>\n",
       "      <td>8.016814</td>\n",
       "      <td>1.298908</td>\n",
       "      <td>39372.861291</td>\n",
       "      <td>7.986416</td>\n",
       "      <td>1.554408</td>\n",
       "      <td>1.010622</td>\n",
       "      <td>9088.776650</td>\n",
       "      <td>3397.129254</td>\n",
       "      <td>23.472570</td>\n",
       "      <td>0.275691</td>\n",
       "    </tr>\n",
       "    <tr>\n",
       "      <th>min</th>\n",
       "      <td>7.080821e+08</td>\n",
       "      <td>26.000000</td>\n",
       "      <td>0.000000</td>\n",
       "      <td>20000.000000</td>\n",
       "      <td>13.000000</td>\n",
       "      <td>1.000000</td>\n",
       "      <td>0.000000</td>\n",
       "      <td>1438.300000</td>\n",
       "      <td>510.000000</td>\n",
       "      <td>10.000000</td>\n",
       "      <td>0.000000</td>\n",
       "    </tr>\n",
       "    <tr>\n",
       "      <th>25%</th>\n",
       "      <td>7.130368e+08</td>\n",
       "      <td>41.000000</td>\n",
       "      <td>1.000000</td>\n",
       "      <td>32000.000000</td>\n",
       "      <td>31.000000</td>\n",
       "      <td>3.000000</td>\n",
       "      <td>2.000000</td>\n",
       "      <td>2555.000000</td>\n",
       "      <td>2155.500000</td>\n",
       "      <td>45.000000</td>\n",
       "      <td>0.023000</td>\n",
       "    </tr>\n",
       "    <tr>\n",
       "      <th>50%</th>\n",
       "      <td>7.179264e+08</td>\n",
       "      <td>46.000000</td>\n",
       "      <td>2.000000</td>\n",
       "      <td>50000.000000</td>\n",
       "      <td>36.000000</td>\n",
       "      <td>4.000000</td>\n",
       "      <td>2.000000</td>\n",
       "      <td>4549.000000</td>\n",
       "      <td>3899.000000</td>\n",
       "      <td>67.000000</td>\n",
       "      <td>0.176000</td>\n",
       "    </tr>\n",
       "    <tr>\n",
       "      <th>75%</th>\n",
       "      <td>7.731435e+08</td>\n",
       "      <td>52.000000</td>\n",
       "      <td>3.000000</td>\n",
       "      <td>80000.000000</td>\n",
       "      <td>40.000000</td>\n",
       "      <td>5.000000</td>\n",
       "      <td>3.000000</td>\n",
       "      <td>11067.500000</td>\n",
       "      <td>4741.000000</td>\n",
       "      <td>81.000000</td>\n",
       "      <td>0.503000</td>\n",
       "    </tr>\n",
       "    <tr>\n",
       "      <th>max</th>\n",
       "      <td>8.283431e+08</td>\n",
       "      <td>73.000000</td>\n",
       "      <td>5.000000</td>\n",
       "      <td>200000.000000</td>\n",
       "      <td>56.000000</td>\n",
       "      <td>6.000000</td>\n",
       "      <td>6.000000</td>\n",
       "      <td>34516.000000</td>\n",
       "      <td>18484.000000</td>\n",
       "      <td>139.000000</td>\n",
       "      <td>0.999000</td>\n",
       "    </tr>\n",
       "  </tbody>\n",
       "</table>\n",
       "</div>"
      ],
      "text/plain": [
       "        customer_id           age  dependent_count  estimated_income  \\\n",
       "count  1.012700e+04  10127.000000     10127.000000      10127.000000   \n",
       "mean   7.391776e+08     46.325960         2.346203      62078.206774   \n",
       "std    3.690378e+07      8.016814         1.298908      39372.861291   \n",
       "min    7.080821e+08     26.000000         0.000000      20000.000000   \n",
       "25%    7.130368e+08     41.000000         1.000000      32000.000000   \n",
       "50%    7.179264e+08     46.000000         2.000000      50000.000000   \n",
       "75%    7.731435e+08     52.000000         3.000000      80000.000000   \n",
       "max    8.283431e+08     73.000000         5.000000     200000.000000   \n",
       "\n",
       "       months_on_book  total_relationship_count  months_inactive_12_mon  \\\n",
       "count    10127.000000              10127.000000            10127.000000   \n",
       "mean        35.928409                  3.812580                2.341167   \n",
       "std          7.986416                  1.554408                1.010622   \n",
       "min         13.000000                  1.000000                0.000000   \n",
       "25%         31.000000                  3.000000                2.000000   \n",
       "50%         36.000000                  4.000000                2.000000   \n",
       "75%         40.000000                  5.000000                3.000000   \n",
       "max         56.000000                  6.000000                6.000000   \n",
       "\n",
       "       credit_limit  total_trans_amount  total_trans_count  \\\n",
       "count  10127.000000        10127.000000       10127.000000   \n",
       "mean    8631.953698         4404.086304          64.858695   \n",
       "std     9088.776650         3397.129254          23.472570   \n",
       "min     1438.300000          510.000000          10.000000   \n",
       "25%     2555.000000         2155.500000          45.000000   \n",
       "50%     4549.000000         3899.000000          67.000000   \n",
       "75%    11067.500000         4741.000000          81.000000   \n",
       "max    34516.000000        18484.000000         139.000000   \n",
       "\n",
       "       avg_utilization_ratio  \n",
       "count           10127.000000  \n",
       "mean                0.274894  \n",
       "std                 0.275691  \n",
       "min                 0.000000  \n",
       "25%                 0.023000  \n",
       "50%                 0.176000  \n",
       "75%                 0.503000  \n",
       "max                 0.999000  "
      ]
     },
     "execution_count": 7,
     "metadata": {},
     "output_type": "execute_result"
    }
   ],
   "source": [
    "df.describe()"
   ]
  },
  {
   "cell_type": "markdown",
   "metadata": {},
   "source": [
    "### Visualizations"
   ]
  },
  {
   "cell_type": "code",
   "execution_count": null,
   "metadata": {},
   "outputs": [
    {
     "data": {
      "image/png": "[encoded data removed]",
      "text/plain": [
       "<Figure size 1000x600 with 1 Axes>"
      ]
     },
     "metadata": {},
     "output_type": "display_data"
    }
   ],
   "source": [
    "fig, ax = plt.subplots(figsize=(10, 6))\n",
    "for column in df.drop(\"customer_id\", axis=1).columns:\n",
    "    sns.histplot(df[column], kde=True, ax=ax, label=column)"
   ]
  },
  {
   "cell_type": "code",
   "execution_count": 11,
   "metadata": {},
   "outputs": [
    {
     "ename": "TypeError",
     "evalue": "Cannot perform 'ror_' with a dtyped [bool] array and scalar of type [bool]",
     "output_type": "error",
     "traceback": [
      "\u001b[1;31m---------------------------------------------------------------------------\u001b[0m",
      "\u001b[1;31mTypeError\u001b[0m                                 Traceback (most recent call last)",
      "File \u001b[1;32m~\\AppData\\Local\\Packages\\PythonSoftwareFoundation.Python.3.12_qbz5n2kfra8p0\\LocalCache\\local-packages\\Python312\\site-packages\\pandas\\core\\ops\\array_ops.py:362\u001b[0m, in \u001b[0;36mna_logical_op\u001b[1;34m(x, y, op)\u001b[0m\n\u001b[0;32m    353\u001b[0m \u001b[38;5;28;01mtry\u001b[39;00m:\n\u001b[0;32m    354\u001b[0m     \u001b[38;5;66;03m# For exposition, write:\u001b[39;00m\n\u001b[0;32m    355\u001b[0m     \u001b[38;5;66;03m#  yarr = isinstance(y, np.ndarray)\u001b[39;00m\n\u001b[1;32m   (...)\u001b[0m\n\u001b[0;32m    360\u001b[0m     \u001b[38;5;66;03m# Then Cases where this goes through without raising include:\u001b[39;00m\n\u001b[0;32m    361\u001b[0m     \u001b[38;5;66;03m#  (xint or xbool) and (yint or bool)\u001b[39;00m\n\u001b[1;32m--> 362\u001b[0m     result \u001b[38;5;241m=\u001b[39m \u001b[43mop\u001b[49m\u001b[43m(\u001b[49m\u001b[43mx\u001b[49m\u001b[43m,\u001b[49m\u001b[43m \u001b[49m\u001b[43my\u001b[49m\u001b[43m)\u001b[49m\n\u001b[0;32m    363\u001b[0m \u001b[38;5;28;01mexcept\u001b[39;00m \u001b[38;5;167;01mTypeError\u001b[39;00m:\n",
      "File \u001b[1;32m~\\AppData\\Local\\Packages\\PythonSoftwareFoundation.Python.3.12_qbz5n2kfra8p0\\LocalCache\\local-packages\\Python312\\site-packages\\pandas\\core\\roperator.py:58\u001b[0m, in \u001b[0;36mror_\u001b[1;34m(left, right)\u001b[0m\n\u001b[0;32m     57\u001b[0m \u001b[38;5;28;01mdef\u001b[39;00m \u001b[38;5;21mror_\u001b[39m(left, right):\n\u001b[1;32m---> 58\u001b[0m     \u001b[38;5;28;01mreturn\u001b[39;00m \u001b[43moperator\u001b[49m\u001b[38;5;241;43m.\u001b[39;49m\u001b[43mor_\u001b[49m\u001b[43m(\u001b[49m\u001b[43mright\u001b[49m\u001b[43m,\u001b[49m\u001b[43m \u001b[49m\u001b[43mleft\u001b[49m\u001b[43m)\u001b[49m\n",
      "\u001b[1;31mTypeError\u001b[0m: ufunc 'bitwise_or' not supported for the input types, and the inputs could not be safely coerced to any supported types according to the casting rule ''safe''",
      "\nDuring handling of the above exception, another exception occurred:\n",
      "\u001b[1;31mValueError\u001b[0m                                Traceback (most recent call last)",
      "File \u001b[1;32m~\\AppData\\Local\\Packages\\PythonSoftwareFoundation.Python.3.12_qbz5n2kfra8p0\\LocalCache\\local-packages\\Python312\\site-packages\\pandas\\core\\ops\\array_ops.py:376\u001b[0m, in \u001b[0;36mna_logical_op\u001b[1;34m(x, y, op)\u001b[0m\n\u001b[0;32m    375\u001b[0m \u001b[38;5;28;01mtry\u001b[39;00m:\n\u001b[1;32m--> 376\u001b[0m     result \u001b[38;5;241m=\u001b[39m \u001b[43mlibops\u001b[49m\u001b[38;5;241;43m.\u001b[39;49m\u001b[43mscalar_binop\u001b[49m\u001b[43m(\u001b[49m\u001b[43mx\u001b[49m\u001b[43m,\u001b[49m\u001b[43m \u001b[49m\u001b[43my\u001b[49m\u001b[43m,\u001b[49m\u001b[43m \u001b[49m\u001b[43mop\u001b[49m\u001b[43m)\u001b[49m\n\u001b[0;32m    377\u001b[0m \u001b[38;5;28;01mexcept\u001b[39;00m (\n\u001b[0;32m    378\u001b[0m     \u001b[38;5;167;01mTypeError\u001b[39;00m,\n\u001b[0;32m    379\u001b[0m     \u001b[38;5;167;01mValueError\u001b[39;00m,\n\u001b[1;32m   (...)\u001b[0m\n\u001b[0;32m    382\u001b[0m     \u001b[38;5;167;01mNotImplementedError\u001b[39;00m,\n\u001b[0;32m    383\u001b[0m ) \u001b[38;5;28;01mas\u001b[39;00m err:\n",
      "File \u001b[1;32mops.pyx:180\u001b[0m, in \u001b[0;36mpandas._libs.ops.scalar_binop\u001b[1;34m()\u001b[0m\n",
      "\u001b[1;31mValueError\u001b[0m: Buffer has wrong number of dimensions (expected 1, got 2)",
      "\nThe above exception was the direct cause of the following exception:\n",
      "\u001b[1;31mTypeError\u001b[0m                                 Traceback (most recent call last)",
      "Cell \u001b[1;32mIn[11], line 3\u001b[0m\n\u001b[0;32m      1\u001b[0m correlations \u001b[38;5;241m=\u001b[39m df\u001b[38;5;241m.\u001b[39mdrop(\u001b[38;5;124m\"\u001b[39m\u001b[38;5;124mcustomer_id\u001b[39m\u001b[38;5;124m\"\u001b[39m, axis\u001b[38;5;241m=\u001b[39m\u001b[38;5;241m1\u001b[39m)\u001b[38;5;241m.\u001b[39mcorr(numeric_only\u001b[38;5;241m=\u001b[39m\u001b[38;5;28;01mTrue\u001b[39;00m)\n\u001b[0;32m      2\u001b[0m plt\u001b[38;5;241m.\u001b[39mfigure(figsize\u001b[38;5;241m=\u001b[39m(\u001b[38;5;241m12\u001b[39m, \u001b[38;5;241m8\u001b[39m))\n\u001b[1;32m----> 3\u001b[0m sns\u001b[38;5;241m.\u001b[39mheatmap(correlations[(correlations) \u001b[38;5;241m>\u001b[39m \u001b[38;5;241;43m0.30\u001b[39;49m\u001b[43m \u001b[49m\u001b[38;5;241;43m|\u001b[39;49m\u001b[43m \u001b[49m\u001b[43m(\u001b[49m\u001b[43mcorrelations\u001b[49m\u001b[43m \u001b[49m\u001b[38;5;241;43m<\u001b[39;49m\u001b[43m \u001b[49m\u001b[38;5;241;43m-\u001b[39;49m\u001b[38;5;241;43m0.30\u001b[39;49m\u001b[43m)\u001b[49m], annot\u001b[38;5;241m=\u001b[39m\u001b[38;5;28;01mTrue\u001b[39;00m, cmap\u001b[38;5;241m=\u001b[39m\u001b[38;5;124m\"\u001b[39m\u001b[38;5;124mcoolwarm\u001b[39m\u001b[38;5;124m\"\u001b[39m, fmt\u001b[38;5;241m=\u001b[39m\u001b[38;5;124m\"\u001b[39m\u001b[38;5;124m.2f\u001b[39m\u001b[38;5;124m\"\u001b[39m)\n",
      "File \u001b[1;32m~\\AppData\\Local\\Packages\\PythonSoftwareFoundation.Python.3.12_qbz5n2kfra8p0\\LocalCache\\local-packages\\Python312\\site-packages\\pandas\\core\\ops\\common.py:76\u001b[0m, in \u001b[0;36m_unpack_zerodim_and_defer.<locals>.new_method\u001b[1;34m(self, other)\u001b[0m\n\u001b[0;32m     72\u001b[0m             \u001b[38;5;28;01mreturn\u001b[39;00m \u001b[38;5;28mNotImplemented\u001b[39m\n\u001b[0;32m     74\u001b[0m other \u001b[38;5;241m=\u001b[39m item_from_zerodim(other)\n\u001b[1;32m---> 76\u001b[0m \u001b[38;5;28;01mreturn\u001b[39;00m \u001b[43mmethod\u001b[49m\u001b[43m(\u001b[49m\u001b[38;5;28;43mself\u001b[39;49m\u001b[43m,\u001b[49m\u001b[43m \u001b[49m\u001b[43mother\u001b[49m\u001b[43m)\u001b[49m\n",
      "File \u001b[1;32m~\\AppData\\Local\\Packages\\PythonSoftwareFoundation.Python.3.12_qbz5n2kfra8p0\\LocalCache\\local-packages\\Python312\\site-packages\\pandas\\core\\arraylike.py:82\u001b[0m, in \u001b[0;36mOpsMixin.__ror__\u001b[1;34m(self, other)\u001b[0m\n\u001b[0;32m     80\u001b[0m \u001b[38;5;129m@unpack_zerodim_and_defer\u001b[39m(\u001b[38;5;124m\"\u001b[39m\u001b[38;5;124m__ror__\u001b[39m\u001b[38;5;124m\"\u001b[39m)\n\u001b[0;32m     81\u001b[0m \u001b[38;5;28;01mdef\u001b[39;00m \u001b[38;5;21m__ror__\u001b[39m(\u001b[38;5;28mself\u001b[39m, other):\n\u001b[1;32m---> 82\u001b[0m     \u001b[38;5;28;01mreturn\u001b[39;00m \u001b[38;5;28;43mself\u001b[39;49m\u001b[38;5;241;43m.\u001b[39;49m\u001b[43m_logical_method\u001b[49m\u001b[43m(\u001b[49m\u001b[43mother\u001b[49m\u001b[43m,\u001b[49m\u001b[43m \u001b[49m\u001b[43mroperator\u001b[49m\u001b[38;5;241;43m.\u001b[39;49m\u001b[43mror_\u001b[49m\u001b[43m)\u001b[49m\n",
      "File \u001b[1;32m~\\AppData\\Local\\Packages\\PythonSoftwareFoundation.Python.3.12_qbz5n2kfra8p0\\LocalCache\\local-packages\\Python312\\site-packages\\pandas\\core\\frame.py:7897\u001b[0m, in \u001b[0;36mDataFrame._arith_method\u001b[1;34m(self, other, op)\u001b[0m\n\u001b[0;32m   7894\u001b[0m \u001b[38;5;28mself\u001b[39m, other \u001b[38;5;241m=\u001b[39m \u001b[38;5;28mself\u001b[39m\u001b[38;5;241m.\u001b[39m_align_for_op(other, axis, flex\u001b[38;5;241m=\u001b[39m\u001b[38;5;28;01mTrue\u001b[39;00m, level\u001b[38;5;241m=\u001b[39m\u001b[38;5;28;01mNone\u001b[39;00m)\n\u001b[0;32m   7896\u001b[0m \u001b[38;5;28;01mwith\u001b[39;00m np\u001b[38;5;241m.\u001b[39merrstate(\u001b[38;5;28mall\u001b[39m\u001b[38;5;241m=\u001b[39m\u001b[38;5;124m\"\u001b[39m\u001b[38;5;124mignore\u001b[39m\u001b[38;5;124m\"\u001b[39m):\n\u001b[1;32m-> 7897\u001b[0m     new_data \u001b[38;5;241m=\u001b[39m \u001b[38;5;28;43mself\u001b[39;49m\u001b[38;5;241;43m.\u001b[39;49m\u001b[43m_dispatch_frame_op\u001b[49m\u001b[43m(\u001b[49m\u001b[43mother\u001b[49m\u001b[43m,\u001b[49m\u001b[43m \u001b[49m\u001b[43mop\u001b[49m\u001b[43m,\u001b[49m\u001b[43m \u001b[49m\u001b[43maxis\u001b[49m\u001b[38;5;241;43m=\u001b[39;49m\u001b[43maxis\u001b[49m\u001b[43m)\u001b[49m\n\u001b[0;32m   7898\u001b[0m \u001b[38;5;28;01mreturn\u001b[39;00m \u001b[38;5;28mself\u001b[39m\u001b[38;5;241m.\u001b[39m_construct_result(new_data)\n",
      "File \u001b[1;32m~\\AppData\\Local\\Packages\\PythonSoftwareFoundation.Python.3.12_qbz5n2kfra8p0\\LocalCache\\local-packages\\Python312\\site-packages\\pandas\\core\\frame.py:7929\u001b[0m, in \u001b[0;36mDataFrame._dispatch_frame_op\u001b[1;34m(self, right, func, axis)\u001b[0m\n\u001b[0;32m   7926\u001b[0m right \u001b[38;5;241m=\u001b[39m lib\u001b[38;5;241m.\u001b[39mitem_from_zerodim(right)\n\u001b[0;32m   7927\u001b[0m \u001b[38;5;28;01mif\u001b[39;00m \u001b[38;5;129;01mnot\u001b[39;00m is_list_like(right):\n\u001b[0;32m   7928\u001b[0m     \u001b[38;5;66;03m# i.e. scalar, faster than checking np.ndim(right) == 0\u001b[39;00m\n\u001b[1;32m-> 7929\u001b[0m     bm \u001b[38;5;241m=\u001b[39m \u001b[38;5;28;43mself\u001b[39;49m\u001b[38;5;241;43m.\u001b[39;49m\u001b[43m_mgr\u001b[49m\u001b[38;5;241;43m.\u001b[39;49m\u001b[43mapply\u001b[49m\u001b[43m(\u001b[49m\u001b[43marray_op\u001b[49m\u001b[43m,\u001b[49m\u001b[43m \u001b[49m\u001b[43mright\u001b[49m\u001b[38;5;241;43m=\u001b[39;49m\u001b[43mright\u001b[49m\u001b[43m)\u001b[49m\n\u001b[0;32m   7930\u001b[0m     \u001b[38;5;28;01mreturn\u001b[39;00m \u001b[38;5;28mself\u001b[39m\u001b[38;5;241m.\u001b[39m_constructor_from_mgr(bm, axes\u001b[38;5;241m=\u001b[39mbm\u001b[38;5;241m.\u001b[39maxes)\n\u001b[0;32m   7932\u001b[0m \u001b[38;5;28;01melif\u001b[39;00m \u001b[38;5;28misinstance\u001b[39m(right, DataFrame):\n",
      "File \u001b[1;32m~\\AppData\\Local\\Packages\\PythonSoftwareFoundation.Python.3.12_qbz5n2kfra8p0\\LocalCache\\local-packages\\Python312\\site-packages\\pandas\\core\\internals\\managers.py:362\u001b[0m, in \u001b[0;36mBaseBlockManager.apply\u001b[1;34m(self, f, align_keys, **kwargs)\u001b[0m\n\u001b[0;32m    359\u001b[0m             kwargs[k] \u001b[38;5;241m=\u001b[39m obj[b\u001b[38;5;241m.\u001b[39mmgr_locs\u001b[38;5;241m.\u001b[39mindexer]\n\u001b[0;32m    361\u001b[0m \u001b[38;5;28;01mif\u001b[39;00m \u001b[38;5;28mcallable\u001b[39m(f):\n\u001b[1;32m--> 362\u001b[0m     applied \u001b[38;5;241m=\u001b[39m \u001b[43mb\u001b[49m\u001b[38;5;241;43m.\u001b[39;49m\u001b[43mapply\u001b[49m\u001b[43m(\u001b[49m\u001b[43mf\u001b[49m\u001b[43m,\u001b[49m\u001b[43m \u001b[49m\u001b[38;5;241;43m*\u001b[39;49m\u001b[38;5;241;43m*\u001b[39;49m\u001b[43mkwargs\u001b[49m\u001b[43m)\u001b[49m\n\u001b[0;32m    363\u001b[0m \u001b[38;5;28;01melse\u001b[39;00m:\n\u001b[0;32m    364\u001b[0m     applied \u001b[38;5;241m=\u001b[39m \u001b[38;5;28mgetattr\u001b[39m(b, f)(\u001b[38;5;241m*\u001b[39m\u001b[38;5;241m*\u001b[39mkwargs)\n",
      "File \u001b[1;32m~\\AppData\\Local\\Packages\\PythonSoftwareFoundation.Python.3.12_qbz5n2kfra8p0\\LocalCache\\local-packages\\Python312\\site-packages\\pandas\\core\\internals\\blocks.py:393\u001b[0m, in \u001b[0;36mBlock.apply\u001b[1;34m(self, func, **kwargs)\u001b[0m\n\u001b[0;32m    387\u001b[0m \u001b[38;5;129m@final\u001b[39m\n\u001b[0;32m    388\u001b[0m \u001b[38;5;28;01mdef\u001b[39;00m \u001b[38;5;21mapply\u001b[39m(\u001b[38;5;28mself\u001b[39m, func, \u001b[38;5;241m*\u001b[39m\u001b[38;5;241m*\u001b[39mkwargs) \u001b[38;5;241m-\u001b[39m\u001b[38;5;241m>\u001b[39m \u001b[38;5;28mlist\u001b[39m[Block]:\n\u001b[0;32m    389\u001b[0m \u001b[38;5;250m    \u001b[39m\u001b[38;5;124;03m\"\"\"\u001b[39;00m\n\u001b[0;32m    390\u001b[0m \u001b[38;5;124;03m    apply the function to my values; return a block if we are not\u001b[39;00m\n\u001b[0;32m    391\u001b[0m \u001b[38;5;124;03m    one\u001b[39;00m\n\u001b[0;32m    392\u001b[0m \u001b[38;5;124;03m    \"\"\"\u001b[39;00m\n\u001b[1;32m--> 393\u001b[0m     result \u001b[38;5;241m=\u001b[39m \u001b[43mfunc\u001b[49m\u001b[43m(\u001b[49m\u001b[38;5;28;43mself\u001b[39;49m\u001b[38;5;241;43m.\u001b[39;49m\u001b[43mvalues\u001b[49m\u001b[43m,\u001b[49m\u001b[43m \u001b[49m\u001b[38;5;241;43m*\u001b[39;49m\u001b[38;5;241;43m*\u001b[39;49m\u001b[43mkwargs\u001b[49m\u001b[43m)\u001b[49m\n\u001b[0;32m    395\u001b[0m     result \u001b[38;5;241m=\u001b[39m maybe_coerce_values(result)\n\u001b[0;32m    396\u001b[0m     \u001b[38;5;28;01mreturn\u001b[39;00m \u001b[38;5;28mself\u001b[39m\u001b[38;5;241m.\u001b[39m_split_op_result(result)\n",
      "File \u001b[1;32m~\\AppData\\Local\\Packages\\PythonSoftwareFoundation.Python.3.12_qbz5n2kfra8p0\\LocalCache\\local-packages\\Python312\\site-packages\\pandas\\core\\ops\\array_ops.py:454\u001b[0m, in \u001b[0;36mlogical_op\u001b[1;34m(left, right, op)\u001b[0m\n\u001b[0;32m    450\u001b[0m \u001b[38;5;28;01melse\u001b[39;00m:\n\u001b[0;32m    451\u001b[0m     \u001b[38;5;66;03m# i.e. scalar\u001b[39;00m\n\u001b[0;32m    452\u001b[0m     is_other_int_dtype \u001b[38;5;241m=\u001b[39m lib\u001b[38;5;241m.\u001b[39mis_integer(rvalues)\n\u001b[1;32m--> 454\u001b[0m res_values \u001b[38;5;241m=\u001b[39m \u001b[43mna_logical_op\u001b[49m\u001b[43m(\u001b[49m\u001b[43mlvalues\u001b[49m\u001b[43m,\u001b[49m\u001b[43m \u001b[49m\u001b[43mrvalues\u001b[49m\u001b[43m,\u001b[49m\u001b[43m \u001b[49m\u001b[43mop\u001b[49m\u001b[43m)\u001b[49m\n\u001b[0;32m    456\u001b[0m \u001b[38;5;66;03m# For int vs int `^`, `|`, `&` are bitwise operators and return\u001b[39;00m\n\u001b[0;32m    457\u001b[0m \u001b[38;5;66;03m#   integer dtypes.  Otherwise these are boolean ops\u001b[39;00m\n\u001b[0;32m    458\u001b[0m \u001b[38;5;28;01mif\u001b[39;00m \u001b[38;5;129;01mnot\u001b[39;00m (left\u001b[38;5;241m.\u001b[39mdtype\u001b[38;5;241m.\u001b[39mkind \u001b[38;5;129;01min\u001b[39;00m \u001b[38;5;124m\"\u001b[39m\u001b[38;5;124miu\u001b[39m\u001b[38;5;124m\"\u001b[39m \u001b[38;5;129;01mand\u001b[39;00m is_other_int_dtype):\n",
      "File \u001b[1;32m~\\AppData\\Local\\Packages\\PythonSoftwareFoundation.Python.3.12_qbz5n2kfra8p0\\LocalCache\\local-packages\\Python312\\site-packages\\pandas\\core\\ops\\array_ops.py:385\u001b[0m, in \u001b[0;36mna_logical_op\u001b[1;34m(x, y, op)\u001b[0m\n\u001b[0;32m    377\u001b[0m         \u001b[38;5;28;01mexcept\u001b[39;00m (\n\u001b[0;32m    378\u001b[0m             \u001b[38;5;167;01mTypeError\u001b[39;00m,\n\u001b[0;32m    379\u001b[0m             \u001b[38;5;167;01mValueError\u001b[39;00m,\n\u001b[1;32m   (...)\u001b[0m\n\u001b[0;32m    382\u001b[0m             \u001b[38;5;167;01mNotImplementedError\u001b[39;00m,\n\u001b[0;32m    383\u001b[0m         ) \u001b[38;5;28;01mas\u001b[39;00m err:\n\u001b[0;32m    384\u001b[0m             typ \u001b[38;5;241m=\u001b[39m \u001b[38;5;28mtype\u001b[39m(y)\u001b[38;5;241m.\u001b[39m\u001b[38;5;18m__name__\u001b[39m\n\u001b[1;32m--> 385\u001b[0m             \u001b[38;5;28;01mraise\u001b[39;00m \u001b[38;5;167;01mTypeError\u001b[39;00m(\n\u001b[0;32m    386\u001b[0m                 \u001b[38;5;124mf\u001b[39m\u001b[38;5;124m\"\u001b[39m\u001b[38;5;124mCannot perform \u001b[39m\u001b[38;5;124m'\u001b[39m\u001b[38;5;132;01m{\u001b[39;00mop\u001b[38;5;241m.\u001b[39m\u001b[38;5;18m__name__\u001b[39m\u001b[38;5;132;01m}\u001b[39;00m\u001b[38;5;124m'\u001b[39m\u001b[38;5;124m with a dtyped [\u001b[39m\u001b[38;5;132;01m{\u001b[39;00mx\u001b[38;5;241m.\u001b[39mdtype\u001b[38;5;132;01m}\u001b[39;00m\u001b[38;5;124m] array \u001b[39m\u001b[38;5;124m\"\u001b[39m\n\u001b[0;32m    387\u001b[0m                 \u001b[38;5;124mf\u001b[39m\u001b[38;5;124m\"\u001b[39m\u001b[38;5;124mand scalar of type [\u001b[39m\u001b[38;5;132;01m{\u001b[39;00mtyp\u001b[38;5;132;01m}\u001b[39;00m\u001b[38;5;124m]\u001b[39m\u001b[38;5;124m\"\u001b[39m\n\u001b[0;32m    388\u001b[0m             ) \u001b[38;5;28;01mfrom\u001b[39;00m \u001b[38;5;21;01merr\u001b[39;00m\n\u001b[0;32m    390\u001b[0m \u001b[38;5;28;01mreturn\u001b[39;00m result\u001b[38;5;241m.\u001b[39mreshape(x\u001b[38;5;241m.\u001b[39mshape)\n",
      "\u001b[1;31mTypeError\u001b[0m: Cannot perform 'ror_' with a dtyped [bool] array and scalar of type [bool]"
     ]
    },
    {
     "data": {
      "text/plain": [
       "<Figure size 1200x800 with 0 Axes>"
      ]
     },
     "metadata": {},
     "output_type": "display_data"
    }
   ],
   "source": [
    "correlations = df.drop(\"customer_id\", axis=1).corr(numeric_only=True)\n",
    "plt.figure(figsize=(12, 8))\n",
    "sns.heatmap(correlations[(correlations) > 0.30 | (correlations < -0.30)], annot=True, cmap=\"coolwarm\", fmt=\".2f\")"
   ]
  },
  {
   "cell_type": "markdown",
   "metadata": {},
   "source": [
    "### Feature Engineering"
   ]
  },
  {
   "cell_type": "code",
   "execution_count": 12,
   "metadata": {},
   "outputs": [
    {
     "data": {
      "application/vnd.microsoft.datawrangler.viewer.v0+json": {
       "columns": [
        {
         "name": "index",
         "rawType": "int64",
         "type": "integer"
        },
        {
         "name": "customer_id",
         "rawType": "int64",
         "type": "integer"
        },
        {
         "name": "age",
         "rawType": "int64",
         "type": "integer"
        },
        {
         "name": "gender",
         "rawType": "int64",
         "type": "integer"
        },
        {
         "name": "dependent_count",
         "rawType": "int64",
         "type": "integer"
        },
        {
         "name": "education_level",
         "rawType": "object",
         "type": "string"
        },
        {
         "name": "marital_status",
         "rawType": "object",
         "type": "string"
        },
        {
         "name": "estimated_income",
         "rawType": "int64",
         "type": "integer"
        },
        {
         "name": "months_on_book",
         "rawType": "int64",
         "type": "integer"
        },
        {
         "name": "total_relationship_count",
         "rawType": "int64",
         "type": "integer"
        },
        {
         "name": "months_inactive_12_mon",
         "rawType": "int64",
         "type": "integer"
        },
        {
         "name": "credit_limit",
         "rawType": "float64",
         "type": "float"
        },
        {
         "name": "total_trans_amount",
         "rawType": "int64",
         "type": "integer"
        },
        {
         "name": "total_trans_count",
         "rawType": "int64",
         "type": "integer"
        },
        {
         "name": "avg_utilization_ratio",
         "rawType": "float64",
         "type": "float"
        }
       ],
       "conversionMethod": "pd.DataFrame",
       "ref": "9f11064b-4f3b-4872-b5a6-f7e171cdc000",
       "rows": [
        [
         "0",
         "768805383",
         "45",
         "1",
         "3",
         "High School",
         "Married",
         "69000",
         "39",
         "5",
         "1",
         "12691.0",
         "1144",
         "42",
         "0.061"
        ],
        [
         "1",
         "818770008",
         "49",
         "0",
         "5",
         "Graduate",
         "Single",
         "24000",
         "44",
         "6",
         "1",
         "8256.0",
         "1291",
         "33",
         "0.105"
        ],
        [
         "2",
         "713982108",
         "51",
         "1",
         "3",
         "Graduate",
         "Married",
         "93000",
         "36",
         "4",
         "1",
         "3418.0",
         "1887",
         "20",
         "0.0"
        ],
        [
         "3",
         "769911858",
         "40",
         "0",
         "4",
         "High School",
         "Unknown",
         "37000",
         "34",
         "3",
         "4",
         "3313.0",
         "1171",
         "20",
         "0.76"
        ],
        [
         "4",
         "709106358",
         "40",
         "1",
         "3",
         "Uneducated",
         "Married",
         "65000",
         "21",
         "5",
         "1",
         "4716.0",
         "816",
         "28",
         "0.0"
        ]
       ],
       "shape": {
        "columns": 14,
        "rows": 5
       }
      },
      "text/html": [
       "<div>\n",
       "<style scoped>\n",
       "    .dataframe tbody tr th:only-of-type {\n",
       "        vertical-align: middle;\n",
       "    }\n",
       "\n",
       "    .dataframe tbody tr th {\n",
       "        vertical-align: top;\n",
       "    }\n",
       "\n",
       "    .dataframe thead th {\n",
       "        text-align: right;\n",
       "    }\n",
       "</style>\n",
       "<table border=\"1\" class=\"dataframe\">\n",
       "  <thead>\n",
       "    <tr style=\"text-align: right;\">\n",
       "      <th></th>\n",
       "      <th>customer_id</th>\n",
       "      <th>age</th>\n",
       "      <th>gender</th>\n",
       "      <th>dependent_count</th>\n",
       "      <th>education_level</th>\n",
       "      <th>marital_status</th>\n",
       "      <th>estimated_income</th>\n",
       "      <th>months_on_book</th>\n",
       "      <th>total_relationship_count</th>\n",
       "      <th>months_inactive_12_mon</th>\n",
       "      <th>credit_limit</th>\n",
       "      <th>total_trans_amount</th>\n",
       "      <th>total_trans_count</th>\n",
       "      <th>avg_utilization_ratio</th>\n",
       "    </tr>\n",
       "  </thead>\n",
       "  <tbody>\n",
       "    <tr>\n",
       "      <th>0</th>\n",
       "      <td>768805383</td>\n",
       "      <td>45</td>\n",
       "      <td>1</td>\n",
       "      <td>3</td>\n",
       "      <td>High School</td>\n",
       "      <td>Married</td>\n",
       "      <td>69000</td>\n",
       "      <td>39</td>\n",
       "      <td>5</td>\n",
       "      <td>1</td>\n",
       "      <td>12691.0</td>\n",
       "      <td>1144</td>\n",
       "      <td>42</td>\n",
       "      <td>0.061</td>\n",
       "    </tr>\n",
       "    <tr>\n",
       "      <th>1</th>\n",
       "      <td>818770008</td>\n",
       "      <td>49</td>\n",
       "      <td>0</td>\n",
       "      <td>5</td>\n",
       "      <td>Graduate</td>\n",
       "      <td>Single</td>\n",
       "      <td>24000</td>\n",
       "      <td>44</td>\n",
       "      <td>6</td>\n",
       "      <td>1</td>\n",
       "      <td>8256.0</td>\n",
       "      <td>1291</td>\n",
       "      <td>33</td>\n",
       "      <td>0.105</td>\n",
       "    </tr>\n",
       "    <tr>\n",
       "      <th>2</th>\n",
       "      <td>713982108</td>\n",
       "      <td>51</td>\n",
       "      <td>1</td>\n",
       "      <td>3</td>\n",
       "      <td>Graduate</td>\n",
       "      <td>Married</td>\n",
       "      <td>93000</td>\n",
       "      <td>36</td>\n",
       "      <td>4</td>\n",
       "      <td>1</td>\n",
       "      <td>3418.0</td>\n",
       "      <td>1887</td>\n",
       "      <td>20</td>\n",
       "      <td>0.000</td>\n",
       "    </tr>\n",
       "    <tr>\n",
       "      <th>3</th>\n",
       "      <td>769911858</td>\n",
       "      <td>40</td>\n",
       "      <td>0</td>\n",
       "      <td>4</td>\n",
       "      <td>High School</td>\n",
       "      <td>Unknown</td>\n",
       "      <td>37000</td>\n",
       "      <td>34</td>\n",
       "      <td>3</td>\n",
       "      <td>4</td>\n",
       "      <td>3313.0</td>\n",
       "      <td>1171</td>\n",
       "      <td>20</td>\n",
       "      <td>0.760</td>\n",
       "    </tr>\n",
       "    <tr>\n",
       "      <th>4</th>\n",
       "      <td>709106358</td>\n",
       "      <td>40</td>\n",
       "      <td>1</td>\n",
       "      <td>3</td>\n",
       "      <td>Uneducated</td>\n",
       "      <td>Married</td>\n",
       "      <td>65000</td>\n",
       "      <td>21</td>\n",
       "      <td>5</td>\n",
       "      <td>1</td>\n",
       "      <td>4716.0</td>\n",
       "      <td>816</td>\n",
       "      <td>28</td>\n",
       "      <td>0.000</td>\n",
       "    </tr>\n",
       "  </tbody>\n",
       "</table>\n",
       "</div>"
      ],
      "text/plain": [
       "   customer_id  age  gender  dependent_count education_level marital_status  \\\n",
       "0    768805383   45       1                3     High School        Married   \n",
       "1    818770008   49       0                5        Graduate         Single   \n",
       "2    713982108   51       1                3        Graduate        Married   \n",
       "3    769911858   40       0                4     High School        Unknown   \n",
       "4    709106358   40       1                3      Uneducated        Married   \n",
       "\n",
       "   estimated_income  months_on_book  total_relationship_count  \\\n",
       "0             69000              39                         5   \n",
       "1             24000              44                         6   \n",
       "2             93000              36                         4   \n",
       "3             37000              34                         3   \n",
       "4             65000              21                         5   \n",
       "\n",
       "   months_inactive_12_mon  credit_limit  total_trans_amount  \\\n",
       "0                       1       12691.0                1144   \n",
       "1                       1        8256.0                1291   \n",
       "2                       1        3418.0                1887   \n",
       "3                       4        3313.0                1171   \n",
       "4                       1        4716.0                 816   \n",
       "\n",
       "   total_trans_count  avg_utilization_ratio  \n",
       "0                 42                  0.061  \n",
       "1                 33                  0.105  \n",
       "2                 20                  0.000  \n",
       "3                 20                  0.760  \n",
       "4                 28                  0.000  "
      ]
     },
     "execution_count": 12,
     "metadata": {},
     "output_type": "execute_result"
    }
   ],
   "source": [
    "customers_modification = df.copy()\n",
    "\n",
    "customers_modification[\"gender\"] = df[\"gender\"].apply(lambda x: 1 if x == \"M\" else 0)\n",
    "customers_modification.head()"
   ]
  },
  {
   "cell_type": "code",
   "execution_count": 13,
   "metadata": {},
   "outputs": [
    {
     "data": {
      "application/vnd.microsoft.datawrangler.viewer.v0+json": {
       "columns": [
        {
         "name": "index",
         "rawType": "int64",
         "type": "integer"
        },
        {
         "name": "customer_id",
         "rawType": "int64",
         "type": "integer"
        },
        {
         "name": "age",
         "rawType": "int64",
         "type": "integer"
        },
        {
         "name": "gender",
         "rawType": "int64",
         "type": "integer"
        },
        {
         "name": "dependent_count",
         "rawType": "int64",
         "type": "integer"
        },
        {
         "name": "education_level",
         "rawType": "float64",
         "type": "float"
        },
        {
         "name": "marital_status",
         "rawType": "object",
         "type": "string"
        },
        {
         "name": "estimated_income",
         "rawType": "int64",
         "type": "integer"
        },
        {
         "name": "months_on_book",
         "rawType": "int64",
         "type": "integer"
        },
        {
         "name": "total_relationship_count",
         "rawType": "int64",
         "type": "integer"
        },
        {
         "name": "months_inactive_12_mon",
         "rawType": "int64",
         "type": "integer"
        },
        {
         "name": "credit_limit",
         "rawType": "float64",
         "type": "float"
        },
        {
         "name": "total_trans_amount",
         "rawType": "int64",
         "type": "integer"
        },
        {
         "name": "total_trans_count",
         "rawType": "int64",
         "type": "integer"
        },
        {
         "name": "avg_utilization_ratio",
         "rawType": "float64",
         "type": "float"
        }
       ],
       "conversionMethod": "pd.DataFrame",
       "ref": "2461a4dd-ca07-4def-9b4d-d2ef741585c9",
       "rows": [
        [
         "0",
         "768805383",
         "45",
         "1",
         "3",
         "1.0",
         "Married",
         "69000",
         "39",
         "5",
         "1",
         "12691.0",
         "1144",
         "42",
         "0.061"
        ],
        [
         "1",
         "818770008",
         "49",
         "0",
         "5",
         "3.0",
         "Single",
         "24000",
         "44",
         "6",
         "1",
         "8256.0",
         "1291",
         "33",
         "0.105"
        ],
        [
         "2",
         "713982108",
         "51",
         "1",
         "3",
         "3.0",
         "Married",
         "93000",
         "36",
         "4",
         "1",
         "3418.0",
         "1887",
         "20",
         "0.0"
        ],
        [
         "3",
         "769911858",
         "40",
         "0",
         "4",
         "1.0",
         "Unknown",
         "37000",
         "34",
         "3",
         "4",
         "3313.0",
         "1171",
         "20",
         "0.76"
        ],
        [
         "4",
         "709106358",
         "40",
         "1",
         "3",
         "0.0",
         "Married",
         "65000",
         "21",
         "5",
         "1",
         "4716.0",
         "816",
         "28",
         "0.0"
        ]
       ],
       "shape": {
        "columns": 14,
        "rows": 5
       }
      },
      "text/html": [
       "<div>\n",
       "<style scoped>\n",
       "    .dataframe tbody tr th:only-of-type {\n",
       "        vertical-align: middle;\n",
       "    }\n",
       "\n",
       "    .dataframe tbody tr th {\n",
       "        vertical-align: top;\n",
       "    }\n",
       "\n",
       "    .dataframe thead th {\n",
       "        text-align: right;\n",
       "    }\n",
       "</style>\n",
       "<table border=\"1\" class=\"dataframe\">\n",
       "  <thead>\n",
       "    <tr style=\"text-align: right;\">\n",
       "      <th></th>\n",
       "      <th>customer_id</th>\n",
       "      <th>age</th>\n",
       "      <th>gender</th>\n",
       "      <th>dependent_count</th>\n",
       "      <th>education_level</th>\n",
       "      <th>marital_status</th>\n",
       "      <th>estimated_income</th>\n",
       "      <th>months_on_book</th>\n",
       "      <th>total_relationship_count</th>\n",
       "      <th>months_inactive_12_mon</th>\n",
       "      <th>credit_limit</th>\n",
       "      <th>total_trans_amount</th>\n",
       "      <th>total_trans_count</th>\n",
       "      <th>avg_utilization_ratio</th>\n",
       "    </tr>\n",
       "  </thead>\n",
       "  <tbody>\n",
       "    <tr>\n",
       "      <th>0</th>\n",
       "      <td>768805383</td>\n",
       "      <td>45</td>\n",
       "      <td>1</td>\n",
       "      <td>3</td>\n",
       "      <td>1.0</td>\n",
       "      <td>Married</td>\n",
       "      <td>69000</td>\n",
       "      <td>39</td>\n",
       "      <td>5</td>\n",
       "      <td>1</td>\n",
       "      <td>12691.0</td>\n",
       "      <td>1144</td>\n",
       "      <td>42</td>\n",
       "      <td>0.061</td>\n",
       "    </tr>\n",
       "    <tr>\n",
       "      <th>1</th>\n",
       "      <td>818770008</td>\n",
       "      <td>49</td>\n",
       "      <td>0</td>\n",
       "      <td>5</td>\n",
       "      <td>3.0</td>\n",
       "      <td>Single</td>\n",
       "      <td>24000</td>\n",
       "      <td>44</td>\n",
       "      <td>6</td>\n",
       "      <td>1</td>\n",
       "      <td>8256.0</td>\n",
       "      <td>1291</td>\n",
       "      <td>33</td>\n",
       "      <td>0.105</td>\n",
       "    </tr>\n",
       "    <tr>\n",
       "      <th>2</th>\n",
       "      <td>713982108</td>\n",
       "      <td>51</td>\n",
       "      <td>1</td>\n",
       "      <td>3</td>\n",
       "      <td>3.0</td>\n",
       "      <td>Married</td>\n",
       "      <td>93000</td>\n",
       "      <td>36</td>\n",
       "      <td>4</td>\n",
       "      <td>1</td>\n",
       "      <td>3418.0</td>\n",
       "      <td>1887</td>\n",
       "      <td>20</td>\n",
       "      <td>0.000</td>\n",
       "    </tr>\n",
       "    <tr>\n",
       "      <th>3</th>\n",
       "      <td>769911858</td>\n",
       "      <td>40</td>\n",
       "      <td>0</td>\n",
       "      <td>4</td>\n",
       "      <td>1.0</td>\n",
       "      <td>Unknown</td>\n",
       "      <td>37000</td>\n",
       "      <td>34</td>\n",
       "      <td>3</td>\n",
       "      <td>4</td>\n",
       "      <td>3313.0</td>\n",
       "      <td>1171</td>\n",
       "      <td>20</td>\n",
       "      <td>0.760</td>\n",
       "    </tr>\n",
       "    <tr>\n",
       "      <th>4</th>\n",
       "      <td>709106358</td>\n",
       "      <td>40</td>\n",
       "      <td>1</td>\n",
       "      <td>3</td>\n",
       "      <td>0.0</td>\n",
       "      <td>Married</td>\n",
       "      <td>65000</td>\n",
       "      <td>21</td>\n",
       "      <td>5</td>\n",
       "      <td>1</td>\n",
       "      <td>4716.0</td>\n",
       "      <td>816</td>\n",
       "      <td>28</td>\n",
       "      <td>0.000</td>\n",
       "    </tr>\n",
       "  </tbody>\n",
       "</table>\n",
       "</div>"
      ],
      "text/plain": [
       "   customer_id  age  gender  dependent_count  education_level marital_status  \\\n",
       "0    768805383   45       1                3              1.0        Married   \n",
       "1    818770008   49       0                5              3.0         Single   \n",
       "2    713982108   51       1                3              3.0        Married   \n",
       "3    769911858   40       0                4              1.0        Unknown   \n",
       "4    709106358   40       1                3              0.0        Married   \n",
       "\n",
       "   estimated_income  months_on_book  total_relationship_count  \\\n",
       "0             69000              39                         5   \n",
       "1             24000              44                         6   \n",
       "2             93000              36                         4   \n",
       "3             37000              34                         3   \n",
       "4             65000              21                         5   \n",
       "\n",
       "   months_inactive_12_mon  credit_limit  total_trans_amount  \\\n",
       "0                       1       12691.0                1144   \n",
       "1                       1        8256.0                1291   \n",
       "2                       1        3418.0                1887   \n",
       "3                       4        3313.0                1171   \n",
       "4                       1        4716.0                 816   \n",
       "\n",
       "   total_trans_count  avg_utilization_ratio  \n",
       "0                 42                  0.061  \n",
       "1                 33                  0.105  \n",
       "2                 20                  0.000  \n",
       "3                 20                  0.760  \n",
       "4                 28                  0.000  "
      ]
     },
     "execution_count": 13,
     "metadata": {},
     "output_type": "execute_result"
    }
   ],
   "source": [
    "education_mapping = {'Uneducated': 0, 'High School': 1, 'College': 2, 'Graduate': 3, 'Post_Graduate': 4, 'Doctorate': 5}\n",
    "customers_modification[\"education_level\"] = df[\"education_level\"].map(education_mapping)\n",
    "customers_modification.head()"
   ]
  },
  {
   "cell_type": "code",
   "execution_count": null,
   "metadata": {},
   "outputs": [],
   "source": []
  }
 ],
 "metadata": {
  "kernelspec": {
   "display_name": "Python 3",
   "language": "python",
   "name": "python3"
  },
  "language_info": {
   "codemirror_mode": {
    "name": "ipython",
    "version": 3
   },
   "file_extension": ".py",
   "mimetype": "text/x-python",
   "name": "python",
   "nbconvert_exporter": "python",
   "pygments_lexer": "ipython3",
   "version": "3.12.10"
  }
 },
 "nbformat": 4,
 "nbformat_minor": 2
}
