{
 "cells": [
  {
   "cell_type": "markdown",
   "metadata": {},
   "source": [
    "### Credit Card Customer Segmentation using K-Means in Python"
   ]
  },
  {
   "cell_type": "code",
   "execution_count": 74,
   "metadata": {},
   "outputs": [],
   "source": [
    "import pandas as pd \n",
    "import numpy as np \n",
    "import seaborn as sns \n",
    "import matplotlib.pyplot as plt \n",
    "\n",
    "from sklearn.preprocessing import StandardScaler \n",
    "from sklearn.cluster import KMeans\n",
    "\n",
    "import warnings\n",
    "warnings.filterwarnings(\"ignore\")"
   ]
  },
  {
   "cell_type": "code",
   "execution_count": 75,
   "metadata": {},
   "outputs": [
    {
     "data": {
      "application/vnd.microsoft.datawrangler.viewer.v0+json": {
       "columns": [
        {
         "name": "index",
         "rawType": "int64",
         "type": "integer"
        },
        {
         "name": "customer_id",
         "rawType": "int64",
         "type": "integer"
        },
        {
         "name": "age",
         "rawType": "int64",
         "type": "integer"
        },
        {
         "name": "gender",
         "rawType": "object",
         "type": "string"
        },
        {
         "name": "dependent_count",
         "rawType": "int64",
         "type": "integer"
        },
        {
         "name": "education_level",
         "rawType": "object",
         "type": "string"
        },
        {
         "name": "marital_status",
         "rawType": "object",
         "type": "string"
        },
        {
         "name": "estimated_income",
         "rawType": "int64",
         "type": "integer"
        },
        {
         "name": "months_on_book",
         "rawType": "int64",
         "type": "integer"
        },
        {
         "name": "total_relationship_count",
         "rawType": "int64",
         "type": "integer"
        },
        {
         "name": "months_inactive_12_mon",
         "rawType": "int64",
         "type": "integer"
        },
        {
         "name": "credit_limit",
         "rawType": "float64",
         "type": "float"
        },
        {
         "name": "total_trans_amount",
         "rawType": "int64",
         "type": "integer"
        },
        {
         "name": "total_trans_count",
         "rawType": "int64",
         "type": "integer"
        },
        {
         "name": "avg_utilization_ratio",
         "rawType": "float64",
         "type": "float"
        }
       ],
       "conversionMethod": "pd.DataFrame",
       "ref": "652eee84-b254-4af0-981f-ee1152e2a3ef",
       "rows": [
        [
         "0",
         "768805383",
         "45",
         "M",
         "3",
         "High School",
         "Married",
         "69000",
         "39",
         "5",
         "1",
         "12691.0",
         "1144",
         "42",
         "0.061"
        ],
        [
         "1",
         "818770008",
         "49",
         "F",
         "5",
         "Graduate",
         "Single",
         "24000",
         "44",
         "6",
         "1",
         "8256.0",
         "1291",
         "33",
         "0.105"
        ],
        [
         "2",
         "713982108",
         "51",
         "M",
         "3",
         "Graduate",
         "Married",
         "93000",
         "36",
         "4",
         "1",
         "3418.0",
         "1887",
         "20",
         "0.0"
        ],
        [
         "3",
         "769911858",
         "40",
         "F",
         "4",
         "High School",
         "Unknown",
         "37000",
         "34",
         "3",
         "4",
         "3313.0",
         "1171",
         "20",
         "0.76"
        ],
        [
         "4",
         "709106358",
         "40",
         "M",
         "3",
         "Uneducated",
         "Married",
         "65000",
         "21",
         "5",
         "1",
         "4716.0",
         "816",
         "28",
         "0.0"
        ]
       ],
       "shape": {
        "columns": 14,
        "rows": 5
       }
      },
      "text/html": [
       "<div>\n",
       "<style scoped>\n",
       "    .dataframe tbody tr th:only-of-type {\n",
       "        vertical-align: middle;\n",
       "    }\n",
       "\n",
       "    .dataframe tbody tr th {\n",
       "        vertical-align: top;\n",
       "    }\n",
       "\n",
       "    .dataframe thead th {\n",
       "        text-align: right;\n",
       "    }\n",
       "</style>\n",
       "<table border=\"1\" class=\"dataframe\">\n",
       "  <thead>\n",
       "    <tr style=\"text-align: right;\">\n",
       "      <th></th>\n",
       "      <th>customer_id</th>\n",
       "      <th>age</th>\n",
       "      <th>gender</th>\n",
       "      <th>dependent_count</th>\n",
       "      <th>education_level</th>\n",
       "      <th>marital_status</th>\n",
       "      <th>estimated_income</th>\n",
       "      <th>months_on_book</th>\n",
       "      <th>total_relationship_count</th>\n",
       "      <th>months_inactive_12_mon</th>\n",
       "      <th>credit_limit</th>\n",
       "      <th>total_trans_amount</th>\n",
       "      <th>total_trans_count</th>\n",
       "      <th>avg_utilization_ratio</th>\n",
       "    </tr>\n",
       "  </thead>\n",
       "  <tbody>\n",
       "    <tr>\n",
       "      <th>0</th>\n",
       "      <td>768805383</td>\n",
       "      <td>45</td>\n",
       "      <td>M</td>\n",
       "      <td>3</td>\n",
       "      <td>High School</td>\n",
       "      <td>Married</td>\n",
       "      <td>69000</td>\n",
       "      <td>39</td>\n",
       "      <td>5</td>\n",
       "      <td>1</td>\n",
       "      <td>12691.0</td>\n",
       "      <td>1144</td>\n",
       "      <td>42</td>\n",
       "      <td>0.061</td>\n",
       "    </tr>\n",
       "    <tr>\n",
       "      <th>1</th>\n",
       "      <td>818770008</td>\n",
       "      <td>49</td>\n",
       "      <td>F</td>\n",
       "      <td>5</td>\n",
       "      <td>Graduate</td>\n",
       "      <td>Single</td>\n",
       "      <td>24000</td>\n",
       "      <td>44</td>\n",
       "      <td>6</td>\n",
       "      <td>1</td>\n",
       "      <td>8256.0</td>\n",
       "      <td>1291</td>\n",
       "      <td>33</td>\n",
       "      <td>0.105</td>\n",
       "    </tr>\n",
       "    <tr>\n",
       "      <th>2</th>\n",
       "      <td>713982108</td>\n",
       "      <td>51</td>\n",
       "      <td>M</td>\n",
       "      <td>3</td>\n",
       "      <td>Graduate</td>\n",
       "      <td>Married</td>\n",
       "      <td>93000</td>\n",
       "      <td>36</td>\n",
       "      <td>4</td>\n",
       "      <td>1</td>\n",
       "      <td>3418.0</td>\n",
       "      <td>1887</td>\n",
       "      <td>20</td>\n",
       "      <td>0.000</td>\n",
       "    </tr>\n",
       "    <tr>\n",
       "      <th>3</th>\n",
       "      <td>769911858</td>\n",
       "      <td>40</td>\n",
       "      <td>F</td>\n",
       "      <td>4</td>\n",
       "      <td>High School</td>\n",
       "      <td>Unknown</td>\n",
       "      <td>37000</td>\n",
       "      <td>34</td>\n",
       "      <td>3</td>\n",
       "      <td>4</td>\n",
       "      <td>3313.0</td>\n",
       "      <td>1171</td>\n",
       "      <td>20</td>\n",
       "      <td>0.760</td>\n",
       "    </tr>\n",
       "    <tr>\n",
       "      <th>4</th>\n",
       "      <td>709106358</td>\n",
       "      <td>40</td>\n",
       "      <td>M</td>\n",
       "      <td>3</td>\n",
       "      <td>Uneducated</td>\n",
       "      <td>Married</td>\n",
       "      <td>65000</td>\n",
       "      <td>21</td>\n",
       "      <td>5</td>\n",
       "      <td>1</td>\n",
       "      <td>4716.0</td>\n",
       "      <td>816</td>\n",
       "      <td>28</td>\n",
       "      <td>0.000</td>\n",
       "    </tr>\n",
       "  </tbody>\n",
       "</table>\n",
       "</div>"
      ],
      "text/plain": [
       "   customer_id  age gender  dependent_count education_level marital_status  \\\n",
       "0    768805383   45      M                3     High School        Married   \n",
       "1    818770008   49      F                5        Graduate         Single   \n",
       "2    713982108   51      M                3        Graduate        Married   \n",
       "3    769911858   40      F                4     High School        Unknown   \n",
       "4    709106358   40      M                3      Uneducated        Married   \n",
       "\n",
       "   estimated_income  months_on_book  total_relationship_count  \\\n",
       "0             69000              39                         5   \n",
       "1             24000              44                         6   \n",
       "2             93000              36                         4   \n",
       "3             37000              34                         3   \n",
       "4             65000              21                         5   \n",
       "\n",
       "   months_inactive_12_mon  credit_limit  total_trans_amount  \\\n",
       "0                       1       12691.0                1144   \n",
       "1                       1        8256.0                1291   \n",
       "2                       1        3418.0                1887   \n",
       "3                       4        3313.0                1171   \n",
       "4                       1        4716.0                 816   \n",
       "\n",
       "   total_trans_count  avg_utilization_ratio  \n",
       "0                 42                  0.061  \n",
       "1                 33                  0.105  \n",
       "2                 20                  0.000  \n",
       "3                 20                  0.760  \n",
       "4                 28                  0.000  "
      ]
     },
     "execution_count": 75,
     "metadata": {},
     "output_type": "execute_result"
    }
   ],
   "source": [
    "df = pd.read_csv(\"customer_segmentation.csv\")\n",
    "df.head()"
   ]
  },
  {
   "cell_type": "code",
   "execution_count": 76,
   "metadata": {},
   "outputs": [
    {
     "name": "stdout",
     "output_type": "stream",
     "text": [
      "<class 'pandas.core.frame.DataFrame'>\n",
      "RangeIndex: 10127 entries, 0 to 10126\n",
      "Data columns (total 14 columns):\n",
      " #   Column                    Non-Null Count  Dtype  \n",
      "---  ------                    --------------  -----  \n",
      " 0   customer_id               10127 non-null  int64  \n",
      " 1   age                       10127 non-null  int64  \n",
      " 2   gender                    10127 non-null  object \n",
      " 3   dependent_count           10127 non-null  int64  \n",
      " 4   education_level           10127 non-null  object \n",
      " 5   marital_status            10127 non-null  object \n",
      " 6   estimated_income          10127 non-null  int64  \n",
      " 7   months_on_book            10127 non-null  int64  \n",
      " 8   total_relationship_count  10127 non-null  int64  \n",
      " 9   months_inactive_12_mon    10127 non-null  int64  \n",
      " 10  credit_limit              10127 non-null  float64\n",
      " 11  total_trans_amount        10127 non-null  int64  \n",
      " 12  total_trans_count         10127 non-null  int64  \n",
      " 13  avg_utilization_ratio     10127 non-null  float64\n",
      "dtypes: float64(2), int64(9), object(3)\n",
      "memory usage: 1.1+ MB\n"
     ]
    }
   ],
   "source": [
    "df.info()"
   ]
  },
  {
   "cell_type": "code",
   "execution_count": 77,
   "metadata": {},
   "outputs": [
    {
     "data": {
      "text/plain": [
       "marital_status\n",
       "Married     4687\n",
       "Single      3943\n",
       "Unknown      749\n",
       "Divorced     748\n",
       "Name: count, dtype: int64"
      ]
     },
     "execution_count": 77,
     "metadata": {},
     "output_type": "execute_result"
    }
   ],
   "source": [
    "df[\"marital_status\"].value_counts()"
   ]
  },
  {
   "cell_type": "code",
   "execution_count": 78,
   "metadata": {},
   "outputs": [
    {
     "data": {
      "text/plain": [
       "gender\n",
       "F    5358\n",
       "M    4769\n",
       "Name: count, dtype: int64"
      ]
     },
     "execution_count": 78,
     "metadata": {},
     "output_type": "execute_result"
    }
   ],
   "source": [
    "df[\"gender\"].value_counts()"
   ]
  },
  {
   "cell_type": "code",
   "execution_count": 79,
   "metadata": {},
   "outputs": [
    {
     "data": {
      "text/plain": [
       "education_level\n",
       "Graduate         3685\n",
       "High School      2351\n",
       "Uneducated       1755\n",
       "College          1192\n",
       "Post-Graduate     616\n",
       "Doctorate         528\n",
       "Name: count, dtype: int64"
      ]
     },
     "execution_count": 79,
     "metadata": {},
     "output_type": "execute_result"
    }
   ],
   "source": [
    "df[\"education_level\"].value_counts()"
   ]
  },
  {
   "cell_type": "code",
   "execution_count": 80,
   "metadata": {},
   "outputs": [
    {
     "data": {
      "application/vnd.microsoft.datawrangler.viewer.v0+json": {
       "columns": [
        {
         "name": "index",
         "rawType": "object",
         "type": "string"
        },
        {
         "name": "customer_id",
         "rawType": "float64",
         "type": "float"
        },
        {
         "name": "age",
         "rawType": "float64",
         "type": "float"
        },
        {
         "name": "dependent_count",
         "rawType": "float64",
         "type": "float"
        },
        {
         "name": "estimated_income",
         "rawType": "float64",
         "type": "float"
        },
        {
         "name": "months_on_book",
         "rawType": "float64",
         "type": "float"
        },
        {
         "name": "total_relationship_count",
         "rawType": "float64",
         "type": "float"
        },
        {
         "name": "months_inactive_12_mon",
         "rawType": "float64",
         "type": "float"
        },
        {
         "name": "credit_limit",
         "rawType": "float64",
         "type": "float"
        },
        {
         "name": "total_trans_amount",
         "rawType": "float64",
         "type": "float"
        },
        {
         "name": "total_trans_count",
         "rawType": "float64",
         "type": "float"
        },
        {
         "name": "avg_utilization_ratio",
         "rawType": "float64",
         "type": "float"
        }
       ],
       "conversionMethod": "pd.DataFrame",
       "ref": "2b7f151b-192b-4758-8307-2a36d517fdb9",
       "rows": [
        [
         "count",
         "10127.0",
         "10127.0",
         "10127.0",
         "10127.0",
         "10127.0",
         "10127.0",
         "10127.0",
         "10127.0",
         "10127.0",
         "10127.0",
         "10127.0"
        ],
        [
         "mean",
         "739177606.3336625",
         "46.32596030413745",
         "2.3462032191172115",
         "62078.206773970574",
         "35.928409203120374",
         "3.8125802310654686",
         "2.3411671768539546",
         "8631.953698034955",
         "4404.086303939963",
         "64.85869457884863",
         "0.2748935518909845"
        ],
        [
         "std",
         "36903783.45023115",
         "8.016814032549028",
         "1.2989083489037903",
         "39372.861290806206",
         "7.986416330872062",
         "1.5544078653388251",
         "1.0106223994182812",
         "9088.776650223155",
         "3397.129253557087",
         "23.472570449232997",
         "0.27569146925238774"
        ],
        [
         "min",
         "708082083.0",
         "26.0",
         "0.0",
         "20000.0",
         "13.0",
         "1.0",
         "0.0",
         "1438.3",
         "510.0",
         "10.0",
         "0.0"
        ],
        [
         "25%",
         "713036770.5",
         "41.0",
         "1.0",
         "32000.0",
         "31.0",
         "3.0",
         "2.0",
         "2555.0",
         "2155.5",
         "45.0",
         "0.023"
        ],
        [
         "50%",
         "717926358.0",
         "46.0",
         "2.0",
         "50000.0",
         "36.0",
         "4.0",
         "2.0",
         "4549.0",
         "3899.0",
         "67.0",
         "0.176"
        ],
        [
         "75%",
         "773143533.0",
         "52.0",
         "3.0",
         "80000.0",
         "40.0",
         "5.0",
         "3.0",
         "11067.5",
         "4741.0",
         "81.0",
         "0.503"
        ],
        [
         "max",
         "828343083.0",
         "73.0",
         "5.0",
         "200000.0",
         "56.0",
         "6.0",
         "6.0",
         "34516.0",
         "18484.0",
         "139.0",
         "0.999"
        ]
       ],
       "shape": {
        "columns": 11,
        "rows": 8
       }
      },
      "text/html": [
       "<div>\n",
       "<style scoped>\n",
       "    .dataframe tbody tr th:only-of-type {\n",
       "        vertical-align: middle;\n",
       "    }\n",
       "\n",
       "    .dataframe tbody tr th {\n",
       "        vertical-align: top;\n",
       "    }\n",
       "\n",
       "    .dataframe thead th {\n",
       "        text-align: right;\n",
       "    }\n",
       "</style>\n",
       "<table border=\"1\" class=\"dataframe\">\n",
       "  <thead>\n",
       "    <tr style=\"text-align: right;\">\n",
       "      <th></th>\n",
       "      <th>customer_id</th>\n",
       "      <th>age</th>\n",
       "      <th>dependent_count</th>\n",
       "      <th>estimated_income</th>\n",
       "      <th>months_on_book</th>\n",
       "      <th>total_relationship_count</th>\n",
       "      <th>months_inactive_12_mon</th>\n",
       "      <th>credit_limit</th>\n",
       "      <th>total_trans_amount</th>\n",
       "      <th>total_trans_count</th>\n",
       "      <th>avg_utilization_ratio</th>\n",
       "    </tr>\n",
       "  </thead>\n",
       "  <tbody>\n",
       "    <tr>\n",
       "      <th>count</th>\n",
       "      <td>1.012700e+04</td>\n",
       "      <td>10127.000000</td>\n",
       "      <td>10127.000000</td>\n",
       "      <td>10127.000000</td>\n",
       "      <td>10127.000000</td>\n",
       "      <td>10127.000000</td>\n",
       "      <td>10127.000000</td>\n",
       "      <td>10127.000000</td>\n",
       "      <td>10127.000000</td>\n",
       "      <td>10127.000000</td>\n",
       "      <td>10127.000000</td>\n",
       "    </tr>\n",
       "    <tr>\n",
       "      <th>mean</th>\n",
       "      <td>7.391776e+08</td>\n",
       "      <td>46.325960</td>\n",
       "      <td>2.346203</td>\n",
       "      <td>62078.206774</td>\n",
       "      <td>35.928409</td>\n",
       "      <td>3.812580</td>\n",
       "      <td>2.341167</td>\n",
       "      <td>8631.953698</td>\n",
       "      <td>4404.086304</td>\n",
       "      <td>64.858695</td>\n",
       "      <td>0.274894</td>\n",
       "    </tr>\n",
       "    <tr>\n",
       "      <th>std</th>\n",
       "      <td>3.690378e+07</td>\n",
       "      <td>8.016814</td>\n",
       "      <td>1.298908</td>\n",
       "      <td>39372.861291</td>\n",
       "      <td>7.986416</td>\n",
       "      <td>1.554408</td>\n",
       "      <td>1.010622</td>\n",
       "      <td>9088.776650</td>\n",
       "      <td>3397.129254</td>\n",
       "      <td>23.472570</td>\n",
       "      <td>0.275691</td>\n",
       "    </tr>\n",
       "    <tr>\n",
       "      <th>min</th>\n",
       "      <td>7.080821e+08</td>\n",
       "      <td>26.000000</td>\n",
       "      <td>0.000000</td>\n",
       "      <td>20000.000000</td>\n",
       "      <td>13.000000</td>\n",
       "      <td>1.000000</td>\n",
       "      <td>0.000000</td>\n",
       "      <td>1438.300000</td>\n",
       "      <td>510.000000</td>\n",
       "      <td>10.000000</td>\n",
       "      <td>0.000000</td>\n",
       "    </tr>\n",
       "    <tr>\n",
       "      <th>25%</th>\n",
       "      <td>7.130368e+08</td>\n",
       "      <td>41.000000</td>\n",
       "      <td>1.000000</td>\n",
       "      <td>32000.000000</td>\n",
       "      <td>31.000000</td>\n",
       "      <td>3.000000</td>\n",
       "      <td>2.000000</td>\n",
       "      <td>2555.000000</td>\n",
       "      <td>2155.500000</td>\n",
       "      <td>45.000000</td>\n",
       "      <td>0.023000</td>\n",
       "    </tr>\n",
       "    <tr>\n",
       "      <th>50%</th>\n",
       "      <td>7.179264e+08</td>\n",
       "      <td>46.000000</td>\n",
       "      <td>2.000000</td>\n",
       "      <td>50000.000000</td>\n",
       "      <td>36.000000</td>\n",
       "      <td>4.000000</td>\n",
       "      <td>2.000000</td>\n",
       "      <td>4549.000000</td>\n",
       "      <td>3899.000000</td>\n",
       "      <td>67.000000</td>\n",
       "      <td>0.176000</td>\n",
       "    </tr>\n",
       "    <tr>\n",
       "      <th>75%</th>\n",
       "      <td>7.731435e+08</td>\n",
       "      <td>52.000000</td>\n",
       "      <td>3.000000</td>\n",
       "      <td>80000.000000</td>\n",
       "      <td>40.000000</td>\n",
       "      <td>5.000000</td>\n",
       "      <td>3.000000</td>\n",
       "      <td>11067.500000</td>\n",
       "      <td>4741.000000</td>\n",
       "      <td>81.000000</td>\n",
       "      <td>0.503000</td>\n",
       "    </tr>\n",
       "    <tr>\n",
       "      <th>max</th>\n",
       "      <td>8.283431e+08</td>\n",
       "      <td>73.000000</td>\n",
       "      <td>5.000000</td>\n",
       "      <td>200000.000000</td>\n",
       "      <td>56.000000</td>\n",
       "      <td>6.000000</td>\n",
       "      <td>6.000000</td>\n",
       "      <td>34516.000000</td>\n",
       "      <td>18484.000000</td>\n",
       "      <td>139.000000</td>\n",
       "      <td>0.999000</td>\n",
       "    </tr>\n",
       "  </tbody>\n",
       "</table>\n",
       "</div>"
      ],
      "text/plain": [
       "        customer_id           age  dependent_count  estimated_income  \\\n",
       "count  1.012700e+04  10127.000000     10127.000000      10127.000000   \n",
       "mean   7.391776e+08     46.325960         2.346203      62078.206774   \n",
       "std    3.690378e+07      8.016814         1.298908      39372.861291   \n",
       "min    7.080821e+08     26.000000         0.000000      20000.000000   \n",
       "25%    7.130368e+08     41.000000         1.000000      32000.000000   \n",
       "50%    7.179264e+08     46.000000         2.000000      50000.000000   \n",
       "75%    7.731435e+08     52.000000         3.000000      80000.000000   \n",
       "max    8.283431e+08     73.000000         5.000000     200000.000000   \n",
       "\n",
       "       months_on_book  total_relationship_count  months_inactive_12_mon  \\\n",
       "count    10127.000000              10127.000000            10127.000000   \n",
       "mean        35.928409                  3.812580                2.341167   \n",
       "std          7.986416                  1.554408                1.010622   \n",
       "min         13.000000                  1.000000                0.000000   \n",
       "25%         31.000000                  3.000000                2.000000   \n",
       "50%         36.000000                  4.000000                2.000000   \n",
       "75%         40.000000                  5.000000                3.000000   \n",
       "max         56.000000                  6.000000                6.000000   \n",
       "\n",
       "       credit_limit  total_trans_amount  total_trans_count  \\\n",
       "count  10127.000000        10127.000000       10127.000000   \n",
       "mean    8631.953698         4404.086304          64.858695   \n",
       "std     9088.776650         3397.129254          23.472570   \n",
       "min     1438.300000          510.000000          10.000000   \n",
       "25%     2555.000000         2155.500000          45.000000   \n",
       "50%     4549.000000         3899.000000          67.000000   \n",
       "75%    11067.500000         4741.000000          81.000000   \n",
       "max    34516.000000        18484.000000         139.000000   \n",
       "\n",
       "       avg_utilization_ratio  \n",
       "count           10127.000000  \n",
       "mean                0.274894  \n",
       "std                 0.275691  \n",
       "min                 0.000000  \n",
       "25%                 0.023000  \n",
       "50%                 0.176000  \n",
       "75%                 0.503000  \n",
       "max                 0.999000  "
      ]
     },
     "execution_count": 80,
     "metadata": {},
     "output_type": "execute_result"
    }
   ],
   "source": [
    "df.describe()"
   ]
  },
  {
   "cell_type": "markdown",
   "metadata": {},
   "source": [
    "### Visualizations"
   ]
  },
  {
   "cell_type": "code",
   "execution_count": 81,
   "metadata": {},
   "outputs": [
    {
     "data": {
      "image/png": "[encoded data removed]",
      "text/plain": [
       "<Figure size 1200x1000 with 12 Axes>"
      ]
     },
     "metadata": {},
     "output_type": "display_data"
    }
   ],
   "source": [
    "fig, ax = plt.subplots(figsize=(12, 10))\n",
    "df.drop(\"customer_id\", axis=1).hist(ax=ax)\n",
    "plt.tight_layout()\n",
    "plt.show();"
   ]
  },
  {
   "cell_type": "code",
   "execution_count": 82,
   "metadata": {},
   "outputs": [
    {
     "data": {
      "image/png": "[encoded data removed]",
      "text/plain": [
       "<Figure size 1200x1000 with 2 Axes>"
      ]
     },
     "metadata": {},
     "output_type": "display_data"
    }
   ],
   "source": [
    "correlations = df.drop(\"customer_id\", axis=1).corr(numeric_only=True)\n",
    "\n",
    "fig, ax = plt.subplots(figsize=(12, 10))\n",
    "# Strongest correlations only\n",
    "sns.heatmap(correlations[(correlations > 0.30) | (correlations < -0.30)], annot=True, cmap=\"coolwarm\", ax=ax) \n",
    "\n",
    "plt.title(\"Correlation Heatmap\")\n",
    "plt.tight_layout()\n",
    "plt.show();"
   ]
  },
  {
   "cell_type": "markdown",
   "metadata": {},
   "source": [
    "### Feature Engineering"
   ]
  },
  {
   "cell_type": "code",
   "execution_count": 83,
   "metadata": {},
   "outputs": [
    {
     "data": {
      "application/vnd.microsoft.datawrangler.viewer.v0+json": {
       "columns": [
        {
         "name": "index",
         "rawType": "int64",
         "type": "integer"
        },
        {
         "name": "customer_id",
         "rawType": "int64",
         "type": "integer"
        },
        {
         "name": "age",
         "rawType": "int64",
         "type": "integer"
        },
        {
         "name": "gender",
         "rawType": "int64",
         "type": "integer"
        },
        {
         "name": "dependent_count",
         "rawType": "int64",
         "type": "integer"
        },
        {
         "name": "education_level",
         "rawType": "object",
         "type": "string"
        },
        {
         "name": "marital_status",
         "rawType": "object",
         "type": "string"
        },
        {
         "name": "estimated_income",
         "rawType": "int64",
         "type": "integer"
        },
        {
         "name": "months_on_book",
         "rawType": "int64",
         "type": "integer"
        },
        {
         "name": "total_relationship_count",
         "rawType": "int64",
         "type": "integer"
        },
        {
         "name": "months_inactive_12_mon",
         "rawType": "int64",
         "type": "integer"
        },
        {
         "name": "credit_limit",
         "rawType": "float64",
         "type": "float"
        },
        {
         "name": "total_trans_amount",
         "rawType": "int64",
         "type": "integer"
        },
        {
         "name": "total_trans_count",
         "rawType": "int64",
         "type": "integer"
        },
        {
         "name": "avg_utilization_ratio",
         "rawType": "float64",
         "type": "float"
        }
       ],
       "conversionMethod": "pd.DataFrame",
       "ref": "563780df-d2ab-487d-908e-9dd97fce222e",
       "rows": [
        [
         "0",
         "768805383",
         "45",
         "1",
         "3",
         "High School",
         "Married",
         "69000",
         "39",
         "5",
         "1",
         "12691.0",
         "1144",
         "42",
         "0.061"
        ],
        [
         "1",
         "818770008",
         "49",
         "0",
         "5",
         "Graduate",
         "Single",
         "24000",
         "44",
         "6",
         "1",
         "8256.0",
         "1291",
         "33",
         "0.105"
        ],
        [
         "2",
         "713982108",
         "51",
         "1",
         "3",
         "Graduate",
         "Married",
         "93000",
         "36",
         "4",
         "1",
         "3418.0",
         "1887",
         "20",
         "0.0"
        ],
        [
         "3",
         "769911858",
         "40",
         "0",
         "4",
         "High School",
         "Unknown",
         "37000",
         "34",
         "3",
         "4",
         "3313.0",
         "1171",
         "20",
         "0.76"
        ],
        [
         "4",
         "709106358",
         "40",
         "1",
         "3",
         "Uneducated",
         "Married",
         "65000",
         "21",
         "5",
         "1",
         "4716.0",
         "816",
         "28",
         "0.0"
        ]
       ],
       "shape": {
        "columns": 14,
        "rows": 5
       }
      },
      "text/html": [
       "<div>\n",
       "<style scoped>\n",
       "    .dataframe tbody tr th:only-of-type {\n",
       "        vertical-align: middle;\n",
       "    }\n",
       "\n",
       "    .dataframe tbody tr th {\n",
       "        vertical-align: top;\n",
       "    }\n",
       "\n",
       "    .dataframe thead th {\n",
       "        text-align: right;\n",
       "    }\n",
       "</style>\n",
       "<table border=\"1\" class=\"dataframe\">\n",
       "  <thead>\n",
       "    <tr style=\"text-align: right;\">\n",
       "      <th></th>\n",
       "      <th>customer_id</th>\n",
       "      <th>age</th>\n",
       "      <th>gender</th>\n",
       "      <th>dependent_count</th>\n",
       "      <th>education_level</th>\n",
       "      <th>marital_status</th>\n",
       "      <th>estimated_income</th>\n",
       "      <th>months_on_book</th>\n",
       "      <th>total_relationship_count</th>\n",
       "      <th>months_inactive_12_mon</th>\n",
       "      <th>credit_limit</th>\n",
       "      <th>total_trans_amount</th>\n",
       "      <th>total_trans_count</th>\n",
       "      <th>avg_utilization_ratio</th>\n",
       "    </tr>\n",
       "  </thead>\n",
       "  <tbody>\n",
       "    <tr>\n",
       "      <th>0</th>\n",
       "      <td>768805383</td>\n",
       "      <td>45</td>\n",
       "      <td>1</td>\n",
       "      <td>3</td>\n",
       "      <td>High School</td>\n",
       "      <td>Married</td>\n",
       "      <td>69000</td>\n",
       "      <td>39</td>\n",
       "      <td>5</td>\n",
       "      <td>1</td>\n",
       "      <td>12691.0</td>\n",
       "      <td>1144</td>\n",
       "      <td>42</td>\n",
       "      <td>0.061</td>\n",
       "    </tr>\n",
       "    <tr>\n",
       "      <th>1</th>\n",
       "      <td>818770008</td>\n",
       "      <td>49</td>\n",
       "      <td>0</td>\n",
       "      <td>5</td>\n",
       "      <td>Graduate</td>\n",
       "      <td>Single</td>\n",
       "      <td>24000</td>\n",
       "      <td>44</td>\n",
       "      <td>6</td>\n",
       "      <td>1</td>\n",
       "      <td>8256.0</td>\n",
       "      <td>1291</td>\n",
       "      <td>33</td>\n",
       "      <td>0.105</td>\n",
       "    </tr>\n",
       "    <tr>\n",
       "      <th>2</th>\n",
       "      <td>713982108</td>\n",
       "      <td>51</td>\n",
       "      <td>1</td>\n",
       "      <td>3</td>\n",
       "      <td>Graduate</td>\n",
       "      <td>Married</td>\n",
       "      <td>93000</td>\n",
       "      <td>36</td>\n",
       "      <td>4</td>\n",
       "      <td>1</td>\n",
       "      <td>3418.0</td>\n",
       "      <td>1887</td>\n",
       "      <td>20</td>\n",
       "      <td>0.000</td>\n",
       "    </tr>\n",
       "    <tr>\n",
       "      <th>3</th>\n",
       "      <td>769911858</td>\n",
       "      <td>40</td>\n",
       "      <td>0</td>\n",
       "      <td>4</td>\n",
       "      <td>High School</td>\n",
       "      <td>Unknown</td>\n",
       "      <td>37000</td>\n",
       "      <td>34</td>\n",
       "      <td>3</td>\n",
       "      <td>4</td>\n",
       "      <td>3313.0</td>\n",
       "      <td>1171</td>\n",
       "      <td>20</td>\n",
       "      <td>0.760</td>\n",
       "    </tr>\n",
       "    <tr>\n",
       "      <th>4</th>\n",
       "      <td>709106358</td>\n",
       "      <td>40</td>\n",
       "      <td>1</td>\n",
       "      <td>3</td>\n",
       "      <td>Uneducated</td>\n",
       "      <td>Married</td>\n",
       "      <td>65000</td>\n",
       "      <td>21</td>\n",
       "      <td>5</td>\n",
       "      <td>1</td>\n",
       "      <td>4716.0</td>\n",
       "      <td>816</td>\n",
       "      <td>28</td>\n",
       "      <td>0.000</td>\n",
       "    </tr>\n",
       "  </tbody>\n",
       "</table>\n",
       "</div>"
      ],
      "text/plain": [
       "   customer_id  age  gender  dependent_count education_level marital_status  \\\n",
       "0    768805383   45       1                3     High School        Married   \n",
       "1    818770008   49       0                5        Graduate         Single   \n",
       "2    713982108   51       1                3        Graduate        Married   \n",
       "3    769911858   40       0                4     High School        Unknown   \n",
       "4    709106358   40       1                3      Uneducated        Married   \n",
       "\n",
       "   estimated_income  months_on_book  total_relationship_count  \\\n",
       "0             69000              39                         5   \n",
       "1             24000              44                         6   \n",
       "2             93000              36                         4   \n",
       "3             37000              34                         3   \n",
       "4             65000              21                         5   \n",
       "\n",
       "   months_inactive_12_mon  credit_limit  total_trans_amount  \\\n",
       "0                       1       12691.0                1144   \n",
       "1                       1        8256.0                1291   \n",
       "2                       1        3418.0                1887   \n",
       "3                       4        3313.0                1171   \n",
       "4                       1        4716.0                 816   \n",
       "\n",
       "   total_trans_count  avg_utilization_ratio  \n",
       "0                 42                  0.061  \n",
       "1                 33                  0.105  \n",
       "2                 20                  0.000  \n",
       "3                 20                  0.760  \n",
       "4                 28                  0.000  "
      ]
     },
     "execution_count": 83,
     "metadata": {},
     "output_type": "execute_result"
    }
   ],
   "source": [
    "customers_modification = df.copy()\n",
    "\n",
    "# Convert gender to numerical values\n",
    "customers_modification[\"gender\"] = df[\"gender\"].apply(lambda x: 1 if x == \"M\" else 0)\n",
    "customers_modification.head()"
   ]
  },
  {
   "cell_type": "code",
   "execution_count": 84,
   "metadata": {},
   "outputs": [
    {
     "data": {
      "application/vnd.microsoft.datawrangler.viewer.v0+json": {
       "columns": [
        {
         "name": "index",
         "rawType": "int64",
         "type": "integer"
        },
        {
         "name": "customer_id",
         "rawType": "int64",
         "type": "integer"
        },
        {
         "name": "age",
         "rawType": "int64",
         "type": "integer"
        },
        {
         "name": "gender",
         "rawType": "int64",
         "type": "integer"
        },
        {
         "name": "dependent_count",
         "rawType": "int64",
         "type": "integer"
        },
        {
         "name": "education_level",
         "rawType": "int64",
         "type": "integer"
        },
        {
         "name": "marital_status",
         "rawType": "object",
         "type": "string"
        },
        {
         "name": "estimated_income",
         "rawType": "int64",
         "type": "integer"
        },
        {
         "name": "months_on_book",
         "rawType": "int64",
         "type": "integer"
        },
        {
         "name": "total_relationship_count",
         "rawType": "int64",
         "type": "integer"
        },
        {
         "name": "months_inactive_12_mon",
         "rawType": "int64",
         "type": "integer"
        },
        {
         "name": "credit_limit",
         "rawType": "float64",
         "type": "float"
        },
        {
         "name": "total_trans_amount",
         "rawType": "int64",
         "type": "integer"
        },
        {
         "name": "total_trans_count",
         "rawType": "int64",
         "type": "integer"
        },
        {
         "name": "avg_utilization_ratio",
         "rawType": "float64",
         "type": "float"
        }
       ],
       "conversionMethod": "pd.DataFrame",
       "ref": "1bcdc7cd-e927-45b2-990b-f36f61431c1c",
       "rows": [
        [
         "0",
         "768805383",
         "45",
         "1",
         "3",
         "1",
         "Married",
         "69000",
         "39",
         "5",
         "1",
         "12691.0",
         "1144",
         "42",
         "0.061"
        ],
        [
         "1",
         "818770008",
         "49",
         "0",
         "5",
         "3",
         "Single",
         "24000",
         "44",
         "6",
         "1",
         "8256.0",
         "1291",
         "33",
         "0.105"
        ],
        [
         "2",
         "713982108",
         "51",
         "1",
         "3",
         "3",
         "Married",
         "93000",
         "36",
         "4",
         "1",
         "3418.0",
         "1887",
         "20",
         "0.0"
        ],
        [
         "3",
         "769911858",
         "40",
         "0",
         "4",
         "1",
         "Unknown",
         "37000",
         "34",
         "3",
         "4",
         "3313.0",
         "1171",
         "20",
         "0.76"
        ],
        [
         "4",
         "709106358",
         "40",
         "1",
         "3",
         "0",
         "Married",
         "65000",
         "21",
         "5",
         "1",
         "4716.0",
         "816",
         "28",
         "0.0"
        ]
       ],
       "shape": {
        "columns": 14,
        "rows": 5
       }
      },
      "text/html": [
       "<div>\n",
       "<style scoped>\n",
       "    .dataframe tbody tr th:only-of-type {\n",
       "        vertical-align: middle;\n",
       "    }\n",
       "\n",
       "    .dataframe tbody tr th {\n",
       "        vertical-align: top;\n",
       "    }\n",
       "\n",
       "    .dataframe thead th {\n",
       "        text-align: right;\n",
       "    }\n",
       "</style>\n",
       "<table border=\"1\" class=\"dataframe\">\n",
       "  <thead>\n",
       "    <tr style=\"text-align: right;\">\n",
       "      <th></th>\n",
       "      <th>customer_id</th>\n",
       "      <th>age</th>\n",
       "      <th>gender</th>\n",
       "      <th>dependent_count</th>\n",
       "      <th>education_level</th>\n",
       "      <th>marital_status</th>\n",
       "      <th>estimated_income</th>\n",
       "      <th>months_on_book</th>\n",
       "      <th>total_relationship_count</th>\n",
       "      <th>months_inactive_12_mon</th>\n",
       "      <th>credit_limit</th>\n",
       "      <th>total_trans_amount</th>\n",
       "      <th>total_trans_count</th>\n",
       "      <th>avg_utilization_ratio</th>\n",
       "    </tr>\n",
       "  </thead>\n",
       "  <tbody>\n",
       "    <tr>\n",
       "      <th>0</th>\n",
       "      <td>768805383</td>\n",
       "      <td>45</td>\n",
       "      <td>1</td>\n",
       "      <td>3</td>\n",
       "      <td>1</td>\n",
       "      <td>Married</td>\n",
       "      <td>69000</td>\n",
       "      <td>39</td>\n",
       "      <td>5</td>\n",
       "      <td>1</td>\n",
       "      <td>12691.0</td>\n",
       "      <td>1144</td>\n",
       "      <td>42</td>\n",
       "      <td>0.061</td>\n",
       "    </tr>\n",
       "    <tr>\n",
       "      <th>1</th>\n",
       "      <td>818770008</td>\n",
       "      <td>49</td>\n",
       "      <td>0</td>\n",
       "      <td>5</td>\n",
       "      <td>3</td>\n",
       "      <td>Single</td>\n",
       "      <td>24000</td>\n",
       "      <td>44</td>\n",
       "      <td>6</td>\n",
       "      <td>1</td>\n",
       "      <td>8256.0</td>\n",
       "      <td>1291</td>\n",
       "      <td>33</td>\n",
       "      <td>0.105</td>\n",
       "    </tr>\n",
       "    <tr>\n",
       "      <th>2</th>\n",
       "      <td>713982108</td>\n",
       "      <td>51</td>\n",
       "      <td>1</td>\n",
       "      <td>3</td>\n",
       "      <td>3</td>\n",
       "      <td>Married</td>\n",
       "      <td>93000</td>\n",
       "      <td>36</td>\n",
       "      <td>4</td>\n",
       "      <td>1</td>\n",
       "      <td>3418.0</td>\n",
       "      <td>1887</td>\n",
       "      <td>20</td>\n",
       "      <td>0.000</td>\n",
       "    </tr>\n",
       "    <tr>\n",
       "      <th>3</th>\n",
       "      <td>769911858</td>\n",
       "      <td>40</td>\n",
       "      <td>0</td>\n",
       "      <td>4</td>\n",
       "      <td>1</td>\n",
       "      <td>Unknown</td>\n",
       "      <td>37000</td>\n",
       "      <td>34</td>\n",
       "      <td>3</td>\n",
       "      <td>4</td>\n",
       "      <td>3313.0</td>\n",
       "      <td>1171</td>\n",
       "      <td>20</td>\n",
       "      <td>0.760</td>\n",
       "    </tr>\n",
       "    <tr>\n",
       "      <th>4</th>\n",
       "      <td>709106358</td>\n",
       "      <td>40</td>\n",
       "      <td>1</td>\n",
       "      <td>3</td>\n",
       "      <td>0</td>\n",
       "      <td>Married</td>\n",
       "      <td>65000</td>\n",
       "      <td>21</td>\n",
       "      <td>5</td>\n",
       "      <td>1</td>\n",
       "      <td>4716.0</td>\n",
       "      <td>816</td>\n",
       "      <td>28</td>\n",
       "      <td>0.000</td>\n",
       "    </tr>\n",
       "  </tbody>\n",
       "</table>\n",
       "</div>"
      ],
      "text/plain": [
       "   customer_id  age  gender  dependent_count  education_level marital_status  \\\n",
       "0    768805383   45       1                3                1        Married   \n",
       "1    818770008   49       0                5                3         Single   \n",
       "2    713982108   51       1                3                3        Married   \n",
       "3    769911858   40       0                4                1        Unknown   \n",
       "4    709106358   40       1                3                0        Married   \n",
       "\n",
       "   estimated_income  months_on_book  total_relationship_count  \\\n",
       "0             69000              39                         5   \n",
       "1             24000              44                         6   \n",
       "2             93000              36                         4   \n",
       "3             37000              34                         3   \n",
       "4             65000              21                         5   \n",
       "\n",
       "   months_inactive_12_mon  credit_limit  total_trans_amount  \\\n",
       "0                       1       12691.0                1144   \n",
       "1                       1        8256.0                1291   \n",
       "2                       1        3418.0                1887   \n",
       "3                       4        3313.0                1171   \n",
       "4                       1        4716.0                 816   \n",
       "\n",
       "   total_trans_count  avg_utilization_ratio  \n",
       "0                 42                  0.061  \n",
       "1                 33                  0.105  \n",
       "2                 20                  0.000  \n",
       "3                 20                  0.760  \n",
       "4                 28                  0.000  "
      ]
     },
     "execution_count": 84,
     "metadata": {},
     "output_type": "execute_result"
    }
   ],
   "source": [
    "# Convert education_level to numerical values\n",
    "education_mapping = {'Uneducated': 0, 'High School': 1, 'College': 2, 'Graduate': 3, 'Post-Graduate': 4, 'Doctorate': 5}\n",
    "customers_modification[\"education_level\"] = customers_modification[\"education_level\"].map(education_mapping)\n",
    "customers_modification.head()\n"
   ]
  },
  {
   "cell_type": "code",
   "execution_count": 85,
   "metadata": {},
   "outputs": [
    {
     "name": "stdout",
     "output_type": "stream",
     "text": [
      "<class 'pandas.core.frame.DataFrame'>\n",
      "RangeIndex: 10127 entries, 0 to 10126\n",
      "Data columns (total 17 columns):\n",
      " #   Column                    Non-Null Count  Dtype  \n",
      "---  ------                    --------------  -----  \n",
      " 0   customer_id               10127 non-null  int64  \n",
      " 1   age                       10127 non-null  int64  \n",
      " 2   gender                    10127 non-null  int64  \n",
      " 3   dependent_count           10127 non-null  int64  \n",
      " 4   education_level           10127 non-null  int64  \n",
      " 5   estimated_income          10127 non-null  int64  \n",
      " 6   months_on_book            10127 non-null  int64  \n",
      " 7   total_relationship_count  10127 non-null  int64  \n",
      " 8   months_inactive_12_mon    10127 non-null  int64  \n",
      " 9   credit_limit              10127 non-null  float64\n",
      " 10  total_trans_amount        10127 non-null  int64  \n",
      " 11  total_trans_count         10127 non-null  int64  \n",
      " 12  avg_utilization_ratio     10127 non-null  float64\n",
      " 13  marital_status_Divorced   10127 non-null  bool   \n",
      " 14  marital_status_Married    10127 non-null  bool   \n",
      " 15  marital_status_Single     10127 non-null  bool   \n",
      " 16  marital_status_Unknown    10127 non-null  bool   \n",
      "dtypes: bool(4), float64(2), int64(11)\n",
      "memory usage: 1.0 MB\n",
      "None\n"
     ]
    },
    {
     "data": {
      "application/vnd.microsoft.datawrangler.viewer.v0+json": {
       "columns": [
        {
         "name": "index",
         "rawType": "int64",
         "type": "integer"
        },
        {
         "name": "customer_id",
         "rawType": "int64",
         "type": "integer"
        },
        {
         "name": "age",
         "rawType": "int64",
         "type": "integer"
        },
        {
         "name": "gender",
         "rawType": "int64",
         "type": "integer"
        },
        {
         "name": "dependent_count",
         "rawType": "int64",
         "type": "integer"
        },
        {
         "name": "education_level",
         "rawType": "int64",
         "type": "integer"
        },
        {
         "name": "estimated_income",
         "rawType": "int64",
         "type": "integer"
        },
        {
         "name": "months_on_book",
         "rawType": "int64",
         "type": "integer"
        },
        {
         "name": "total_relationship_count",
         "rawType": "int64",
         "type": "integer"
        },
        {
         "name": "months_inactive_12_mon",
         "rawType": "int64",
         "type": "integer"
        },
        {
         "name": "credit_limit",
         "rawType": "float64",
         "type": "float"
        },
        {
         "name": "total_trans_amount",
         "rawType": "int64",
         "type": "integer"
        },
        {
         "name": "total_trans_count",
         "rawType": "int64",
         "type": "integer"
        },
        {
         "name": "avg_utilization_ratio",
         "rawType": "float64",
         "type": "float"
        },
        {
         "name": "marital_status_Divorced",
         "rawType": "bool",
         "type": "boolean"
        },
        {
         "name": "marital_status_Married",
         "rawType": "bool",
         "type": "boolean"
        },
        {
         "name": "marital_status_Single",
         "rawType": "bool",
         "type": "boolean"
        },
        {
         "name": "marital_status_Unknown",
         "rawType": "bool",
         "type": "boolean"
        }
       ],
       "conversionMethod": "pd.DataFrame",
       "ref": "3a023d58-aaae-4419-a290-8bf2731ad67c",
       "rows": [
        [
         "0",
         "768805383",
         "45",
         "1",
         "3",
         "1",
         "69000",
         "39",
         "5",
         "1",
         "12691.0",
         "1144",
         "42",
         "0.061",
         "False",
         "True",
         "False",
         "False"
        ],
        [
         "1",
         "818770008",
         "49",
         "0",
         "5",
         "3",
         "24000",
         "44",
         "6",
         "1",
         "8256.0",
         "1291",
         "33",
         "0.105",
         "False",
         "False",
         "True",
         "False"
        ],
        [
         "2",
         "713982108",
         "51",
         "1",
         "3",
         "3",
         "93000",
         "36",
         "4",
         "1",
         "3418.0",
         "1887",
         "20",
         "0.0",
         "False",
         "True",
         "False",
         "False"
        ],
        [
         "3",
         "769911858",
         "40",
         "0",
         "4",
         "1",
         "37000",
         "34",
         "3",
         "4",
         "3313.0",
         "1171",
         "20",
         "0.76",
         "False",
         "False",
         "False",
         "True"
        ],
        [
         "4",
         "709106358",
         "40",
         "1",
         "3",
         "0",
         "65000",
         "21",
         "5",
         "1",
         "4716.0",
         "816",
         "28",
         "0.0",
         "False",
         "True",
         "False",
         "False"
        ]
       ],
       "shape": {
        "columns": 17,
        "rows": 5
       }
      },
      "text/html": [
       "<div>\n",
       "<style scoped>\n",
       "    .dataframe tbody tr th:only-of-type {\n",
       "        vertical-align: middle;\n",
       "    }\n",
       "\n",
       "    .dataframe tbody tr th {\n",
       "        vertical-align: top;\n",
       "    }\n",
       "\n",
       "    .dataframe thead th {\n",
       "        text-align: right;\n",
       "    }\n",
       "</style>\n",
       "<table border=\"1\" class=\"dataframe\">\n",
       "  <thead>\n",
       "    <tr style=\"text-align: right;\">\n",
       "      <th></th>\n",
       "      <th>customer_id</th>\n",
       "      <th>age</th>\n",
       "      <th>gender</th>\n",
       "      <th>dependent_count</th>\n",
       "      <th>education_level</th>\n",
       "      <th>estimated_income</th>\n",
       "      <th>months_on_book</th>\n",
       "      <th>total_relationship_count</th>\n",
       "      <th>months_inactive_12_mon</th>\n",
       "      <th>credit_limit</th>\n",
       "      <th>total_trans_amount</th>\n",
       "      <th>total_trans_count</th>\n",
       "      <th>avg_utilization_ratio</th>\n",
       "      <th>marital_status_Divorced</th>\n",
       "      <th>marital_status_Married</th>\n",
       "      <th>marital_status_Single</th>\n",
       "      <th>marital_status_Unknown</th>\n",
       "    </tr>\n",
       "  </thead>\n",
       "  <tbody>\n",
       "    <tr>\n",
       "      <th>0</th>\n",
       "      <td>768805383</td>\n",
       "      <td>45</td>\n",
       "      <td>1</td>\n",
       "      <td>3</td>\n",
       "      <td>1</td>\n",
       "      <td>69000</td>\n",
       "      <td>39</td>\n",
       "      <td>5</td>\n",
       "      <td>1</td>\n",
       "      <td>12691.0</td>\n",
       "      <td>1144</td>\n",
       "      <td>42</td>\n",
       "      <td>0.061</td>\n",
       "      <td>False</td>\n",
       "      <td>True</td>\n",
       "      <td>False</td>\n",
       "      <td>False</td>\n",
       "    </tr>\n",
       "    <tr>\n",
       "      <th>1</th>\n",
       "      <td>818770008</td>\n",
       "      <td>49</td>\n",
       "      <td>0</td>\n",
       "      <td>5</td>\n",
       "      <td>3</td>\n",
       "      <td>24000</td>\n",
       "      <td>44</td>\n",
       "      <td>6</td>\n",
       "      <td>1</td>\n",
       "      <td>8256.0</td>\n",
       "      <td>1291</td>\n",
       "      <td>33</td>\n",
       "      <td>0.105</td>\n",
       "      <td>False</td>\n",
       "      <td>False</td>\n",
       "      <td>True</td>\n",
       "      <td>False</td>\n",
       "    </tr>\n",
       "    <tr>\n",
       "      <th>2</th>\n",
       "      <td>713982108</td>\n",
       "      <td>51</td>\n",
       "      <td>1</td>\n",
       "      <td>3</td>\n",
       "      <td>3</td>\n",
       "      <td>93000</td>\n",
       "      <td>36</td>\n",
       "      <td>4</td>\n",
       "      <td>1</td>\n",
       "      <td>3418.0</td>\n",
       "      <td>1887</td>\n",
       "      <td>20</td>\n",
       "      <td>0.000</td>\n",
       "      <td>False</td>\n",
       "      <td>True</td>\n",
       "      <td>False</td>\n",
       "      <td>False</td>\n",
       "    </tr>\n",
       "    <tr>\n",
       "      <th>3</th>\n",
       "      <td>769911858</td>\n",
       "      <td>40</td>\n",
       "      <td>0</td>\n",
       "      <td>4</td>\n",
       "      <td>1</td>\n",
       "      <td>37000</td>\n",
       "      <td>34</td>\n",
       "      <td>3</td>\n",
       "      <td>4</td>\n",
       "      <td>3313.0</td>\n",
       "      <td>1171</td>\n",
       "      <td>20</td>\n",
       "      <td>0.760</td>\n",
       "      <td>False</td>\n",
       "      <td>False</td>\n",
       "      <td>False</td>\n",
       "      <td>True</td>\n",
       "    </tr>\n",
       "    <tr>\n",
       "      <th>4</th>\n",
       "      <td>709106358</td>\n",
       "      <td>40</td>\n",
       "      <td>1</td>\n",
       "      <td>3</td>\n",
       "      <td>0</td>\n",
       "      <td>65000</td>\n",
       "      <td>21</td>\n",
       "      <td>5</td>\n",
       "      <td>1</td>\n",
       "      <td>4716.0</td>\n",
       "      <td>816</td>\n",
       "      <td>28</td>\n",
       "      <td>0.000</td>\n",
       "      <td>False</td>\n",
       "      <td>True</td>\n",
       "      <td>False</td>\n",
       "      <td>False</td>\n",
       "    </tr>\n",
       "  </tbody>\n",
       "</table>\n",
       "</div>"
      ],
      "text/plain": [
       "   customer_id  age  gender  dependent_count  education_level  \\\n",
       "0    768805383   45       1                3                1   \n",
       "1    818770008   49       0                5                3   \n",
       "2    713982108   51       1                3                3   \n",
       "3    769911858   40       0                4                1   \n",
       "4    709106358   40       1                3                0   \n",
       "\n",
       "   estimated_income  months_on_book  total_relationship_count  \\\n",
       "0             69000              39                         5   \n",
       "1             24000              44                         6   \n",
       "2             93000              36                         4   \n",
       "3             37000              34                         3   \n",
       "4             65000              21                         5   \n",
       "\n",
       "   months_inactive_12_mon  credit_limit  total_trans_amount  \\\n",
       "0                       1       12691.0                1144   \n",
       "1                       1        8256.0                1291   \n",
       "2                       1        3418.0                1887   \n",
       "3                       4        3313.0                1171   \n",
       "4                       1        4716.0                 816   \n",
       "\n",
       "   total_trans_count  avg_utilization_ratio  marital_status_Divorced  \\\n",
       "0                 42                  0.061                    False   \n",
       "1                 33                  0.105                    False   \n",
       "2                 20                  0.000                    False   \n",
       "3                 20                  0.760                    False   \n",
       "4                 28                  0.000                    False   \n",
       "\n",
       "   marital_status_Married  marital_status_Single  marital_status_Unknown  \n",
       "0                    True                  False                   False  \n",
       "1                   False                   True                   False  \n",
       "2                    True                  False                   False  \n",
       "3                   False                  False                    True  \n",
       "4                    True                  False                   False  "
      ]
     },
     "execution_count": 85,
     "metadata": {},
     "output_type": "execute_result"
    }
   ],
   "source": [
    "# Convert marital_status to numerical values\n",
    "dummies = pd.get_dummies(customers_modification[[\"marital_status\"]], prefix=\"marital_status\") # Testing without drop_first=True\n",
    "\n",
    "customers_modification = pd.concat([customers_modification, dummies], axis=1)\n",
    "customers_modification.drop([\"marital_status\"], axis=1, inplace=True)\n",
    "\n",
    "print(customers_modification.info())\n",
    "customers_modification.head()"
   ]
  },
  {
   "cell_type": "markdown",
   "metadata": {},
   "source": [
    "### Data Scaling"
   ]
  },
  {
   "cell_type": "code",
   "execution_count": 89,
   "metadata": {},
   "outputs": [
    {
     "data": {
      "text/plain": [
       "array([[-0.16540558,  1.05995565,  0.50336813, ...,  1.07733799,\n",
       "        -0.79850685, -0.28260887],\n",
       "       [ 0.33357038, -0.9434357 ,  2.04319867, ..., -0.92821381,\n",
       "         1.2523374 , -0.28260887],\n",
       "       [ 0.58305837,  1.05995565,  0.50336813, ...,  1.07733799,\n",
       "        -0.79850685, -0.28260887],\n",
       "       ...,\n",
       "       [-0.29014957, -0.9434357 , -1.03646242, ...,  1.07733799,\n",
       "        -0.79850685, -0.28260887],\n",
       "       [-2.03656544,  1.05995565, -0.26654715, ..., -0.92821381,\n",
       "        -0.79850685,  3.53845931],\n",
       "       [-0.41489356, -0.9434357 , -0.26654715, ...,  1.07733799,\n",
       "        -0.79850685, -0.28260887]])"
      ]
     },
     "execution_count": 89,
     "metadata": {},
     "output_type": "execute_result"
    }
   ],
   "source": [
    "X = customers_modification.drop([\"customer_id\"], axis=1)\n",
    "\n",
    "scaler = StandardScaler()\n",
    "scaler.fit(X)\n",
    "X_scaled = scaler.transform(X)\n",
    "X_scaled\n",
    "# X_scaled.shape"
   ]
  },
  {
   "cell_type": "code",
   "execution_count": null,
   "metadata": {},
   "outputs": [],
   "source": []
  }
 ],
 "metadata": {
  "kernelspec": {
   "display_name": "Python 3",
   "language": "python",
   "name": "python3"
  },
  "language_info": {
   "codemirror_mode": {
    "name": "ipython",
    "version": 3
   },
   "file_extension": ".py",
   "mimetype": "text/x-python",
   "name": "python",
   "nbconvert_exporter": "python",
   "pygments_lexer": "ipython3",
   "version": "3.12.10"
  }
 },
 "nbformat": 4,
 "nbformat_minor": 2
}
