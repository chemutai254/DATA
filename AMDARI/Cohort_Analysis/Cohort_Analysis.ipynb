{
 "cells": [
  {
   "cell_type": "markdown",
   "metadata": {},
   "source": [
    "# Cohort Analysis"
   ]
  },
  {
   "cell_type": "code",
   "execution_count": 1,
   "metadata": {},
   "outputs": [],
   "source": [
    "# Import important libraries \n",
    "import pandas as pd \n",
    "import numpy as np \n",
    "\n",
    "# Import visualization libraries\n",
    "import seaborn as sns\n",
    "import matplotlib.pyplot as plt\n",
    "\n",
    "import datetime as dt\n",
    "\n",
    "# Import machine learning libraries\n",
    "from sklearn.model_selection import train_test_split"
   ]
  },
  {
   "cell_type": "markdown",
   "metadata": {},
   "source": [
    "## Load Dataset"
   ]
  },
  {
   "cell_type": "code",
   "execution_count": 2,
   "metadata": {},
   "outputs": [
    {
     "data": {
      "application/vnd.microsoft.datawrangler.viewer.v0+json": {
       "columns": [
        {
         "name": "index",
         "rawType": "int64",
         "type": "integer"
        },
        {
         "name": "InvoiceNo",
         "rawType": "object",
         "type": "string"
        },
        {
         "name": "InvoiceDate",
         "rawType": "object",
         "type": "string"
        },
        {
         "name": "CustomerID",
         "rawType": "float64",
         "type": "float"
        },
        {
         "name": "StockCode",
         "rawType": "object",
         "type": "string"
        },
        {
         "name": "Description",
         "rawType": "object",
         "type": "string"
        },
        {
         "name": "Quantity",
         "rawType": "int64",
         "type": "integer"
        },
        {
         "name": "UnitPrice",
         "rawType": "float64",
         "type": "float"
        },
        {
         "name": "Country",
         "rawType": "object",
         "type": "string"
        }
       ],
       "conversionMethod": "pd.DataFrame",
       "ref": "0524a294-3de7-4fb0-8b70-be3a8d5eeb2a",
       "rows": [
        [
         "0",
         "536365",
         "2010-12-01 08:26:00",
         "17850.0",
         "SC1734",
         "Electronics",
         "65",
         "10.23",
         "Egypt"
        ],
        [
         "1",
         "536365",
         "2010-12-01 08:26:00",
         "17850.0",
         "SC2088",
         "Furniture",
         "95",
         "19.61",
         "Mali"
        ],
        [
         "2",
         "536365",
         "2010-12-01 08:26:00",
         "17850.0",
         "SC3463",
         "Books",
         "78",
         "61.49",
         "Mali"
        ],
        [
         "3",
         "536365",
         "2010-12-01 08:26:00",
         "17850.0",
         "SC6228",
         "Toys",
         "15",
         "24.73",
         "South Africa"
        ],
        [
         "4",
         "536365",
         "2010-12-01 08:26:00",
         "17850.0",
         "SC2149",
         "Toys",
         "50",
         "38.83",
         "Rwanda"
        ]
       ],
       "shape": {
        "columns": 8,
        "rows": 5
       }
      },
      "text/html": [
       "<div>\n",
       "<style scoped>\n",
       "    .dataframe tbody tr th:only-of-type {\n",
       "        vertical-align: middle;\n",
       "    }\n",
       "\n",
       "    .dataframe tbody tr th {\n",
       "        vertical-align: top;\n",
       "    }\n",
       "\n",
       "    .dataframe thead th {\n",
       "        text-align: right;\n",
       "    }\n",
       "</style>\n",
       "<table border=\"1\" class=\"dataframe\">\n",
       "  <thead>\n",
       "    <tr style=\"text-align: right;\">\n",
       "      <th></th>\n",
       "      <th>InvoiceNo</th>\n",
       "      <th>InvoiceDate</th>\n",
       "      <th>CustomerID</th>\n",
       "      <th>StockCode</th>\n",
       "      <th>Description</th>\n",
       "      <th>Quantity</th>\n",
       "      <th>UnitPrice</th>\n",
       "      <th>Country</th>\n",
       "    </tr>\n",
       "  </thead>\n",
       "  <tbody>\n",
       "    <tr>\n",
       "      <th>0</th>\n",
       "      <td>536365</td>\n",
       "      <td>2010-12-01 08:26:00</td>\n",
       "      <td>17850.0</td>\n",
       "      <td>SC1734</td>\n",
       "      <td>Electronics</td>\n",
       "      <td>65</td>\n",
       "      <td>10.23</td>\n",
       "      <td>Egypt</td>\n",
       "    </tr>\n",
       "    <tr>\n",
       "      <th>1</th>\n",
       "      <td>536365</td>\n",
       "      <td>2010-12-01 08:26:00</td>\n",
       "      <td>17850.0</td>\n",
       "      <td>SC2088</td>\n",
       "      <td>Furniture</td>\n",
       "      <td>95</td>\n",
       "      <td>19.61</td>\n",
       "      <td>Mali</td>\n",
       "    </tr>\n",
       "    <tr>\n",
       "      <th>2</th>\n",
       "      <td>536365</td>\n",
       "      <td>2010-12-01 08:26:00</td>\n",
       "      <td>17850.0</td>\n",
       "      <td>SC3463</td>\n",
       "      <td>Books</td>\n",
       "      <td>78</td>\n",
       "      <td>61.49</td>\n",
       "      <td>Mali</td>\n",
       "    </tr>\n",
       "    <tr>\n",
       "      <th>3</th>\n",
       "      <td>536365</td>\n",
       "      <td>2010-12-01 08:26:00</td>\n",
       "      <td>17850.0</td>\n",
       "      <td>SC6228</td>\n",
       "      <td>Toys</td>\n",
       "      <td>15</td>\n",
       "      <td>24.73</td>\n",
       "      <td>South Africa</td>\n",
       "    </tr>\n",
       "    <tr>\n",
       "      <th>4</th>\n",
       "      <td>536365</td>\n",
       "      <td>2010-12-01 08:26:00</td>\n",
       "      <td>17850.0</td>\n",
       "      <td>SC2149</td>\n",
       "      <td>Toys</td>\n",
       "      <td>50</td>\n",
       "      <td>38.83</td>\n",
       "      <td>Rwanda</td>\n",
       "    </tr>\n",
       "  </tbody>\n",
       "</table>\n",
       "</div>"
      ],
      "text/plain": [
       "  InvoiceNo          InvoiceDate  CustomerID StockCode  Description  Quantity  \\\n",
       "0    536365  2010-12-01 08:26:00     17850.0    SC1734  Electronics        65   \n",
       "1    536365  2010-12-01 08:26:00     17850.0    SC2088    Furniture        95   \n",
       "2    536365  2010-12-01 08:26:00     17850.0    SC3463        Books        78   \n",
       "3    536365  2010-12-01 08:26:00     17850.0    SC6228         Toys        15   \n",
       "4    536365  2010-12-01 08:26:00     17850.0    SC2149         Toys        50   \n",
       "\n",
       "   UnitPrice       Country  \n",
       "0      10.23         Egypt  \n",
       "1      19.61          Mali  \n",
       "2      61.49          Mali  \n",
       "3      24.73  South Africa  \n",
       "4      38.83        Rwanda  "
      ]
     },
     "execution_count": 2,
     "metadata": {},
     "output_type": "execute_result"
    }
   ],
   "source": [
    "df = pd.read_csv(\"../Cohort_Analysis/Dataset_ecommerce.csv\")\n",
    "df.head()"
   ]
  },
  {
   "cell_type": "code",
   "execution_count": 3,
   "metadata": {},
   "outputs": [
    {
     "data": {
      "application/vnd.microsoft.datawrangler.viewer.v0+json": {
       "columns": [
        {
         "name": "index",
         "rawType": "object",
         "type": "string"
        },
        {
         "name": "InvoiceNo",
         "rawType": "object",
         "type": "unknown"
        },
        {
         "name": "InvoiceDate",
         "rawType": "object",
         "type": "unknown"
        },
        {
         "name": "CustomerID",
         "rawType": "float64",
         "type": "float"
        },
        {
         "name": "StockCode",
         "rawType": "object",
         "type": "unknown"
        },
        {
         "name": "Description",
         "rawType": "object",
         "type": "unknown"
        },
        {
         "name": "Quantity",
         "rawType": "float64",
         "type": "float"
        },
        {
         "name": "UnitPrice",
         "rawType": "float64",
         "type": "float"
        },
        {
         "name": "Country",
         "rawType": "object",
         "type": "unknown"
        }
       ],
       "conversionMethod": "pd.DataFrame",
       "ref": "0d1210e1-4073-43a6-8b92-5ab82969ce35",
       "rows": [
        [
         "count",
         "541909",
         "541909",
         "406829.0",
         "541909",
         "541909",
         "541909.0",
         "541909.0",
         "541909"
        ],
        [
         "unique",
         "25900",
         "23260",
         null,
         "9000",
         "10",
         null,
         null,
         "28"
        ],
        [
         "top",
         "573585",
         "2011-10-31 14:41:00",
         null,
         "SC2014",
         "Sports Equipment",
         null,
         null,
         "Cote d'Ivoire"
        ],
        [
         "freq",
         "1114",
         "1114",
         null,
         "96",
         "54765",
         null,
         null,
         "19651"
        ],
        [
         "mean",
         null,
         null,
         "15287.690570239585",
         null,
         null,
         "50.53474845407624",
         "50.47635368668908",
         null
        ],
        [
         "std",
         null,
         null,
         "1713.600303321598",
         null,
         null,
         "28.849366746511805",
         "28.56477490307392",
         null
        ],
        [
         "min",
         null,
         null,
         "12346.0",
         null,
         null,
         "1.0",
         "1.0",
         null
        ],
        [
         "25%",
         null,
         null,
         "13953.0",
         null,
         null,
         "26.0",
         "25.75",
         null
        ],
        [
         "50%",
         null,
         null,
         "15152.0",
         null,
         null,
         "51.0",
         "50.43",
         null
        ],
        [
         "75%",
         null,
         null,
         "16791.0",
         null,
         null,
         "76.0",
         "75.18",
         null
        ],
        [
         "max",
         null,
         null,
         "18287.0",
         null,
         null,
         "100.0",
         "100.0",
         null
        ]
       ],
       "shape": {
        "columns": 8,
        "rows": 11
       }
      },
      "text/html": [
       "<div>\n",
       "<style scoped>\n",
       "    .dataframe tbody tr th:only-of-type {\n",
       "        vertical-align: middle;\n",
       "    }\n",
       "\n",
       "    .dataframe tbody tr th {\n",
       "        vertical-align: top;\n",
       "    }\n",
       "\n",
       "    .dataframe thead th {\n",
       "        text-align: right;\n",
       "    }\n",
       "</style>\n",
       "<table border=\"1\" class=\"dataframe\">\n",
       "  <thead>\n",
       "    <tr style=\"text-align: right;\">\n",
       "      <th></th>\n",
       "      <th>InvoiceNo</th>\n",
       "      <th>InvoiceDate</th>\n",
       "      <th>CustomerID</th>\n",
       "      <th>StockCode</th>\n",
       "      <th>Description</th>\n",
       "      <th>Quantity</th>\n",
       "      <th>UnitPrice</th>\n",
       "      <th>Country</th>\n",
       "    </tr>\n",
       "  </thead>\n",
       "  <tbody>\n",
       "    <tr>\n",
       "      <th>count</th>\n",
       "      <td>541909</td>\n",
       "      <td>541909</td>\n",
       "      <td>406829.000000</td>\n",
       "      <td>541909</td>\n",
       "      <td>541909</td>\n",
       "      <td>541909.000000</td>\n",
       "      <td>541909.000000</td>\n",
       "      <td>541909</td>\n",
       "    </tr>\n",
       "    <tr>\n",
       "      <th>unique</th>\n",
       "      <td>25900</td>\n",
       "      <td>23260</td>\n",
       "      <td>NaN</td>\n",
       "      <td>9000</td>\n",
       "      <td>10</td>\n",
       "      <td>NaN</td>\n",
       "      <td>NaN</td>\n",
       "      <td>28</td>\n",
       "    </tr>\n",
       "    <tr>\n",
       "      <th>top</th>\n",
       "      <td>573585</td>\n",
       "      <td>2011-10-31 14:41:00</td>\n",
       "      <td>NaN</td>\n",
       "      <td>SC2014</td>\n",
       "      <td>Sports Equipment</td>\n",
       "      <td>NaN</td>\n",
       "      <td>NaN</td>\n",
       "      <td>Cote d'Ivoire</td>\n",
       "    </tr>\n",
       "    <tr>\n",
       "      <th>freq</th>\n",
       "      <td>1114</td>\n",
       "      <td>1114</td>\n",
       "      <td>NaN</td>\n",
       "      <td>96</td>\n",
       "      <td>54765</td>\n",
       "      <td>NaN</td>\n",
       "      <td>NaN</td>\n",
       "      <td>19651</td>\n",
       "    </tr>\n",
       "    <tr>\n",
       "      <th>mean</th>\n",
       "      <td>NaN</td>\n",
       "      <td>NaN</td>\n",
       "      <td>15287.690570</td>\n",
       "      <td>NaN</td>\n",
       "      <td>NaN</td>\n",
       "      <td>50.534748</td>\n",
       "      <td>50.476354</td>\n",
       "      <td>NaN</td>\n",
       "    </tr>\n",
       "    <tr>\n",
       "      <th>std</th>\n",
       "      <td>NaN</td>\n",
       "      <td>NaN</td>\n",
       "      <td>1713.600303</td>\n",
       "      <td>NaN</td>\n",
       "      <td>NaN</td>\n",
       "      <td>28.849367</td>\n",
       "      <td>28.564775</td>\n",
       "      <td>NaN</td>\n",
       "    </tr>\n",
       "    <tr>\n",
       "      <th>min</th>\n",
       "      <td>NaN</td>\n",
       "      <td>NaN</td>\n",
       "      <td>12346.000000</td>\n",
       "      <td>NaN</td>\n",
       "      <td>NaN</td>\n",
       "      <td>1.000000</td>\n",
       "      <td>1.000000</td>\n",
       "      <td>NaN</td>\n",
       "    </tr>\n",
       "    <tr>\n",
       "      <th>25%</th>\n",
       "      <td>NaN</td>\n",
       "      <td>NaN</td>\n",
       "      <td>13953.000000</td>\n",
       "      <td>NaN</td>\n",
       "      <td>NaN</td>\n",
       "      <td>26.000000</td>\n",
       "      <td>25.750000</td>\n",
       "      <td>NaN</td>\n",
       "    </tr>\n",
       "    <tr>\n",
       "      <th>50%</th>\n",
       "      <td>NaN</td>\n",
       "      <td>NaN</td>\n",
       "      <td>15152.000000</td>\n",
       "      <td>NaN</td>\n",
       "      <td>NaN</td>\n",
       "      <td>51.000000</td>\n",
       "      <td>50.430000</td>\n",
       "      <td>NaN</td>\n",
       "    </tr>\n",
       "    <tr>\n",
       "      <th>75%</th>\n",
       "      <td>NaN</td>\n",
       "      <td>NaN</td>\n",
       "      <td>16791.000000</td>\n",
       "      <td>NaN</td>\n",
       "      <td>NaN</td>\n",
       "      <td>76.000000</td>\n",
       "      <td>75.180000</td>\n",
       "      <td>NaN</td>\n",
       "    </tr>\n",
       "    <tr>\n",
       "      <th>max</th>\n",
       "      <td>NaN</td>\n",
       "      <td>NaN</td>\n",
       "      <td>18287.000000</td>\n",
       "      <td>NaN</td>\n",
       "      <td>NaN</td>\n",
       "      <td>100.000000</td>\n",
       "      <td>100.000000</td>\n",
       "      <td>NaN</td>\n",
       "    </tr>\n",
       "  </tbody>\n",
       "</table>\n",
       "</div>"
      ],
      "text/plain": [
       "       InvoiceNo          InvoiceDate     CustomerID StockCode  \\\n",
       "count     541909               541909  406829.000000    541909   \n",
       "unique     25900                23260            NaN      9000   \n",
       "top       573585  2011-10-31 14:41:00            NaN    SC2014   \n",
       "freq        1114                 1114            NaN        96   \n",
       "mean         NaN                  NaN   15287.690570       NaN   \n",
       "std          NaN                  NaN    1713.600303       NaN   \n",
       "min          NaN                  NaN   12346.000000       NaN   \n",
       "25%          NaN                  NaN   13953.000000       NaN   \n",
       "50%          NaN                  NaN   15152.000000       NaN   \n",
       "75%          NaN                  NaN   16791.000000       NaN   \n",
       "max          NaN                  NaN   18287.000000       NaN   \n",
       "\n",
       "             Description       Quantity      UnitPrice        Country  \n",
       "count             541909  541909.000000  541909.000000         541909  \n",
       "unique                10            NaN            NaN             28  \n",
       "top     Sports Equipment            NaN            NaN  Cote d'Ivoire  \n",
       "freq               54765            NaN            NaN          19651  \n",
       "mean                 NaN      50.534748      50.476354            NaN  \n",
       "std                  NaN      28.849367      28.564775            NaN  \n",
       "min                  NaN       1.000000       1.000000            NaN  \n",
       "25%                  NaN      26.000000      25.750000            NaN  \n",
       "50%                  NaN      51.000000      50.430000            NaN  \n",
       "75%                  NaN      76.000000      75.180000            NaN  \n",
       "max                  NaN     100.000000     100.000000            NaN  "
      ]
     },
     "execution_count": 3,
     "metadata": {},
     "output_type": "execute_result"
    }
   ],
   "source": [
    "# Descriptive Statistics\n",
    "df.describe(include='all')"
   ]
  },
  {
   "cell_type": "code",
   "execution_count": 4,
   "metadata": {},
   "outputs": [
    {
     "data": {
      "text/plain": [
       "InvoiceNo           0\n",
       "InvoiceDate         0\n",
       "CustomerID     135080\n",
       "StockCode           0\n",
       "Description         0\n",
       "Quantity            0\n",
       "UnitPrice           0\n",
       "Country             0\n",
       "dtype: int64"
      ]
     },
     "execution_count": 4,
     "metadata": {},
     "output_type": "execute_result"
    }
   ],
   "source": [
    "# Check for missing values\n",
    "# (df.isnull().mean() * 100).round(2) # Percentage of missing values\n",
    "df.isnull().sum()"
   ]
  },
  {
   "cell_type": "code",
   "execution_count": 5,
   "metadata": {},
   "outputs": [],
   "source": [
    "# Drop missing values\n",
    "df.dropna(inplace=True)\n",
    "\n",
    "# Check for missing values\n",
    "# df.isnull().sum()"
   ]
  },
  {
   "cell_type": "code",
   "execution_count": 6,
   "metadata": {},
   "outputs": [
    {
     "name": "stdout",
     "output_type": "stream",
     "text": [
      "<class 'pandas.core.frame.DataFrame'>\n",
      "Index: 406829 entries, 0 to 541908\n",
      "Data columns (total 8 columns):\n",
      " #   Column       Non-Null Count   Dtype  \n",
      "---  ------       --------------   -----  \n",
      " 0   InvoiceNo    406829 non-null  object \n",
      " 1   InvoiceDate  406829 non-null  object \n",
      " 2   CustomerID   406829 non-null  float64\n",
      " 3   StockCode    406829 non-null  object \n",
      " 4   Description  406829 non-null  object \n",
      " 5   Quantity     406829 non-null  int64  \n",
      " 6   UnitPrice    406829 non-null  float64\n",
      " 7   Country      406829 non-null  object \n",
      "dtypes: float64(2), int64(1), object(5)\n",
      "memory usage: 27.9+ MB\n"
     ]
    }
   ],
   "source": [
    "# Check for info on dataframe\n",
    "df.info()"
   ]
  },
  {
   "cell_type": "code",
   "execution_count": 7,
   "metadata": {},
   "outputs": [],
   "source": [
    "# Convert the datatype of the InvoiceDate to datetime\n",
    "df['InvoiceDate'] = pd.to_datetime(df['InvoiceDate'])\n",
    "# df.info()"
   ]
  },
  {
   "cell_type": "markdown",
   "metadata": {},
   "source": [
    "## Exploratory Data Analysis"
   ]
  },
  {
   "cell_type": "markdown",
   "metadata": {},
   "source": [
    "*Analysis by Country*"
   ]
  },
  {
   "cell_type": "code",
   "execution_count": 8,
   "metadata": {},
   "outputs": [
    {
     "data": {
      "application/vnd.microsoft.datawrangler.viewer.v0+json": {
       "columns": [
        {
         "name": "index",
         "rawType": "int64",
         "type": "integer"
        },
        {
         "name": "index",
         "rawType": "int64",
         "type": "integer"
        },
        {
         "name": "Country",
         "rawType": "object",
         "type": "string"
        },
        {
         "name": "Quantity",
         "rawType": "int64",
         "type": "integer"
        }
       ],
       "conversionMethod": "pd.DataFrame",
       "ref": "bf18b202-8c43-4a36-9fff-3d08e3f61503",
       "rows": [
        [
         "0",
         "23",
         "Togo",
         "741223"
        ],
        [
         "1",
         "20",
         "South Africa",
         "740589"
        ],
        [
         "2",
         "4",
         "Cote d'Ivoire",
         "740229"
        ],
        [
         "3",
         "15",
         "Nigeria",
         "739708"
        ],
        [
         "4",
         "9",
         "Libya",
         "739206"
        ]
       ],
       "shape": {
        "columns": 3,
        "rows": 5
       }
      },
      "text/html": [
       "<div>\n",
       "<style scoped>\n",
       "    .dataframe tbody tr th:only-of-type {\n",
       "        vertical-align: middle;\n",
       "    }\n",
       "\n",
       "    .dataframe tbody tr th {\n",
       "        vertical-align: top;\n",
       "    }\n",
       "\n",
       "    .dataframe thead th {\n",
       "        text-align: right;\n",
       "    }\n",
       "</style>\n",
       "<table border=\"1\" class=\"dataframe\">\n",
       "  <thead>\n",
       "    <tr style=\"text-align: right;\">\n",
       "      <th></th>\n",
       "      <th>index</th>\n",
       "      <th>Country</th>\n",
       "      <th>Quantity</th>\n",
       "    </tr>\n",
       "  </thead>\n",
       "  <tbody>\n",
       "    <tr>\n",
       "      <th>0</th>\n",
       "      <td>23</td>\n",
       "      <td>Togo</td>\n",
       "      <td>741223</td>\n",
       "    </tr>\n",
       "    <tr>\n",
       "      <th>1</th>\n",
       "      <td>20</td>\n",
       "      <td>South Africa</td>\n",
       "      <td>740589</td>\n",
       "    </tr>\n",
       "    <tr>\n",
       "      <th>2</th>\n",
       "      <td>4</td>\n",
       "      <td>Cote d'Ivoire</td>\n",
       "      <td>740229</td>\n",
       "    </tr>\n",
       "    <tr>\n",
       "      <th>3</th>\n",
       "      <td>15</td>\n",
       "      <td>Nigeria</td>\n",
       "      <td>739708</td>\n",
       "    </tr>\n",
       "    <tr>\n",
       "      <th>4</th>\n",
       "      <td>9</td>\n",
       "      <td>Libya</td>\n",
       "      <td>739206</td>\n",
       "    </tr>\n",
       "  </tbody>\n",
       "</table>\n",
       "</div>"
      ],
      "text/plain": [
       "   index        Country  Quantity\n",
       "0     23           Togo    741223\n",
       "1     20   South Africa    740589\n",
       "2      4  Cote d'Ivoire    740229\n",
       "3     15        Nigeria    739708\n",
       "4      9          Libya    739206"
      ]
     },
     "execution_count": 8,
     "metadata": {},
     "output_type": "execute_result"
    }
   ],
   "source": [
    "quantity_by_country = df.groupby(['Country'])['Quantity'].sum().reset_index()\n",
    "quantity_by_country = quantity_by_country.sort_values(\"Quantity\", ascending = False).reset_index()\n",
    "quantity_by_country.head()"
   ]
  },
  {
   "cell_type": "code",
   "execution_count": 9,
   "metadata": {},
   "outputs": [
    {
     "data": {
      "image/png": "[encoded data removed]",
      "text/plain": [
       "<Figure size 1500x800 with 1 Axes>"
      ]
     },
     "metadata": {},
     "output_type": "display_data"
    }
   ],
   "source": [
    "# Top 10 Countries with the highest quantity of items sold\n",
    "top_10_country = quantity_by_country.head(10)\n",
    "\n",
    "# Visualize\n",
    "plt.figure(figsize=(15, 8))\n",
    "ax = sns.barplot(x='Country', y='Quantity', data=top_10_country)\n",
    "plt.title('Barchart of top 10 Countries with the highest purchase')\n",
    "plt.xlabel('Countries')\n",
    "plt.ylabel('Quantity of Product Sold')\n",
    "plt.xticks(rotation=45)\n",
    "plt.show()"
   ]
  },
  {
   "cell_type": "code",
   "execution_count": 10,
   "metadata": {},
   "outputs": [
    {
     "data": {
      "image/png": "[encoded data removed]",
      "text/plain": [
       "<Figure size 1500x800 with 1 Axes>"
      ]
     },
     "metadata": {},
     "output_type": "display_data"
    }
   ],
   "source": [
    "# Least 10 Countries with the lowest quantity of items sold\n",
    "least_10_country = quantity_by_country.tail(10)\n",
    "\n",
    "# Visualize\n",
    "plt.figure(figsize=(15, 8))\n",
    "ax = sns.barplot(x='Country', y='Quantity', data=least_10_country)\n",
    "plt.title('Barchart of bottom 10 Countries with the least purchase')\n",
    "plt.xlabel('Countries')\n",
    "plt.ylabel('Quantity of Product Sold')\n",
    "plt.xticks(rotation=45)\n",
    "plt.show()"
   ]
  },
  {
   "cell_type": "markdown",
   "metadata": {},
   "source": [
    "*Analysis of countries and number of customers*"
   ]
  },
  {
   "cell_type": "code",
   "execution_count": 11,
   "metadata": {},
   "outputs": [
    {
     "data": {
      "application/vnd.microsoft.datawrangler.viewer.v0+json": {
       "columns": [
        {
         "name": "index",
         "rawType": "int64",
         "type": "integer"
        },
        {
         "name": "index",
         "rawType": "int64",
         "type": "integer"
        },
        {
         "name": "Country",
         "rawType": "object",
         "type": "string"
        },
        {
         "name": "CustomerID",
         "rawType": "int64",
         "type": "integer"
        }
       ],
       "conversionMethod": "pd.DataFrame",
       "ref": "9a7a8f3a-ed5c-4533-8cb6-588dcfcca98e",
       "rows": [
        [
         "0",
         "13",
         "Mozambique",
         "3072"
        ],
        [
         "1",
         "1",
         "Benin",
         "3054"
        ],
        [
         "2",
         "23",
         "Togo",
         "3053"
        ],
        [
         "3",
         "15",
         "Nigeria",
         "3051"
        ],
        [
         "4",
         "2",
         "Burkina Faso",
         "3049"
        ]
       ],
       "shape": {
        "columns": 3,
        "rows": 5
       }
      },
      "text/html": [
       "<div>\n",
       "<style scoped>\n",
       "    .dataframe tbody tr th:only-of-type {\n",
       "        vertical-align: middle;\n",
       "    }\n",
       "\n",
       "    .dataframe tbody tr th {\n",
       "        vertical-align: top;\n",
       "    }\n",
       "\n",
       "    .dataframe thead th {\n",
       "        text-align: right;\n",
       "    }\n",
       "</style>\n",
       "<table border=\"1\" class=\"dataframe\">\n",
       "  <thead>\n",
       "    <tr style=\"text-align: right;\">\n",
       "      <th></th>\n",
       "      <th>index</th>\n",
       "      <th>Country</th>\n",
       "      <th>CustomerID</th>\n",
       "    </tr>\n",
       "  </thead>\n",
       "  <tbody>\n",
       "    <tr>\n",
       "      <th>0</th>\n",
       "      <td>13</td>\n",
       "      <td>Mozambique</td>\n",
       "      <td>3072</td>\n",
       "    </tr>\n",
       "    <tr>\n",
       "      <th>1</th>\n",
       "      <td>1</td>\n",
       "      <td>Benin</td>\n",
       "      <td>3054</td>\n",
       "    </tr>\n",
       "    <tr>\n",
       "      <th>2</th>\n",
       "      <td>23</td>\n",
       "      <td>Togo</td>\n",
       "      <td>3053</td>\n",
       "    </tr>\n",
       "    <tr>\n",
       "      <th>3</th>\n",
       "      <td>15</td>\n",
       "      <td>Nigeria</td>\n",
       "      <td>3051</td>\n",
       "    </tr>\n",
       "    <tr>\n",
       "      <th>4</th>\n",
       "      <td>2</td>\n",
       "      <td>Burkina Faso</td>\n",
       "      <td>3049</td>\n",
       "    </tr>\n",
       "  </tbody>\n",
       "</table>\n",
       "</div>"
      ],
      "text/plain": [
       "   index       Country  CustomerID\n",
       "0     13    Mozambique        3072\n",
       "1      1         Benin        3054\n",
       "2     23          Togo        3053\n",
       "3     15       Nigeria        3051\n",
       "4      2  Burkina Faso        3049"
      ]
     },
     "execution_count": 11,
     "metadata": {},
     "output_type": "execute_result"
    }
   ],
   "source": [
    "# Countries with the highest number of customers\n",
    "customer_by_country = df.groupby(['Country'])['CustomerID'].nunique().reset_index()\n",
    "customer_by_country = customer_by_country.sort_values(\"CustomerID\", ascending=False).reset_index()\n",
    "customer_by_country.head()"
   ]
  },
  {
   "cell_type": "code",
   "execution_count": 12,
   "metadata": {},
   "outputs": [
    {
     "data": {
      "image/png": "[encoded data removed]",
      "text/plain": [
       "<Figure size 1500x800 with 1 Axes>"
      ]
     },
     "metadata": {},
     "output_type": "display_data"
    }
   ],
   "source": [
    "# Visualize\n",
    "customer_by_country = customer_by_country.head(10)\n",
    "\n",
    "plt.figure(figsize=(15, 8))\n",
    "ax = sns.barplot(x='Country', y='CustomerID', data=customer_by_country)\n",
    "plt.title('Barchart of top 10 Countries with the highest number of customers')\n",
    "plt.xlabel('Countries')\n",
    "plt.ylabel('Number of Customers')\n",
    "plt.xticks(rotation=45)\n",
    "plt.show()"
   ]
  },
  {
   "cell_type": "markdown",
   "metadata": {},
   "source": [
    "*Sales Trend Visualization*"
   ]
  },
  {
   "cell_type": "code",
   "execution_count": 17,
   "metadata": {},
   "outputs": [],
   "source": [
    "monthly_sales = df.groupby(df[\"InvoiceDate\"].dt.to_period(\"M\"))[\"Quantity\"].sum()\n",
    "# monthly_sales.head()"
   ]
  },
  {
   "cell_type": "code",
   "execution_count": 24,
   "metadata": {},
   "outputs": [
    {
     "data": {
      "image/png": "[encoded data removed]",
      "text/plain": [
       "<Figure size 1500x800 with 1 Axes>"
      ]
     },
     "metadata": {},
     "output_type": "display_data"
    }
   ],
   "source": [
    "# Create a line plot\n",
    "plt.figure(figsize=(15, 8))\n",
    "plt.plot(monthly_sales.index.strftime(\"%y-%m\"), (monthly_sales.values)/1e6, marker='o')\n",
    "plt.title('Monthly Sales Trend')\n",
    "plt.xlabel('Month')\n",
    "plt.ylabel('Total Sales')\n",
    "# plt.xticks(rotation=45)\n",
    "plt.grid(True)\n",
    "plt.show()"
   ]
  },
  {
   "cell_type": "markdown",
   "metadata": {},
   "source": [
    "*Cohort Analysis*"
   ]
  },
  {
   "cell_type": "code",
   "execution_count": 25,
   "metadata": {},
   "outputs": [
    {
     "data": {
      "application/vnd.microsoft.datawrangler.viewer.v0+json": {
       "columns": [
        {
         "name": "index",
         "rawType": "int64",
         "type": "integer"
        },
        {
         "name": "InvoiceNo",
         "rawType": "object",
         "type": "string"
        },
        {
         "name": "InvoiceDate",
         "rawType": "datetime64[ns]",
         "type": "datetime"
        },
        {
         "name": "CustomerID",
         "rawType": "float64",
         "type": "float"
        },
        {
         "name": "StockCode",
         "rawType": "object",
         "type": "string"
        },
        {
         "name": "Description",
         "rawType": "object",
         "type": "string"
        },
        {
         "name": "Quantity",
         "rawType": "int64",
         "type": "integer"
        },
        {
         "name": "UnitPrice",
         "rawType": "float64",
         "type": "float"
        },
        {
         "name": "Country",
         "rawType": "object",
         "type": "string"
        }
       ],
       "conversionMethod": "pd.DataFrame",
       "ref": "97d03cce-cf24-46f3-9ef0-2cafd478a2a7",
       "rows": [
        [
         "0",
         "536365",
         "2010-12-01 08:26:00",
         "17850.0",
         "SC1734",
         "Electronics",
         "65",
         "10.23",
         "Egypt"
        ],
        [
         "1",
         "536365",
         "2010-12-01 08:26:00",
         "17850.0",
         "SC2088",
         "Furniture",
         "95",
         "19.61",
         "Mali"
        ],
        [
         "2",
         "536365",
         "2010-12-01 08:26:00",
         "17850.0",
         "SC3463",
         "Books",
         "78",
         "61.49",
         "Mali"
        ],
        [
         "3",
         "536365",
         "2010-12-01 08:26:00",
         "17850.0",
         "SC6228",
         "Toys",
         "15",
         "24.73",
         "South Africa"
        ],
        [
         "4",
         "536365",
         "2010-12-01 08:26:00",
         "17850.0",
         "SC2149",
         "Toys",
         "50",
         "38.83",
         "Rwanda"
        ]
       ],
       "shape": {
        "columns": 8,
        "rows": 5
       }
      },
      "text/html": [
       "<div>\n",
       "<style scoped>\n",
       "    .dataframe tbody tr th:only-of-type {\n",
       "        vertical-align: middle;\n",
       "    }\n",
       "\n",
       "    .dataframe tbody tr th {\n",
       "        vertical-align: top;\n",
       "    }\n",
       "\n",
       "    .dataframe thead th {\n",
       "        text-align: right;\n",
       "    }\n",
       "</style>\n",
       "<table border=\"1\" class=\"dataframe\">\n",
       "  <thead>\n",
       "    <tr style=\"text-align: right;\">\n",
       "      <th></th>\n",
       "      <th>InvoiceNo</th>\n",
       "      <th>InvoiceDate</th>\n",
       "      <th>CustomerID</th>\n",
       "      <th>StockCode</th>\n",
       "      <th>Description</th>\n",
       "      <th>Quantity</th>\n",
       "      <th>UnitPrice</th>\n",
       "      <th>Country</th>\n",
       "    </tr>\n",
       "  </thead>\n",
       "  <tbody>\n",
       "    <tr>\n",
       "      <th>0</th>\n",
       "      <td>536365</td>\n",
       "      <td>2010-12-01 08:26:00</td>\n",
       "      <td>17850.0</td>\n",
       "      <td>SC1734</td>\n",
       "      <td>Electronics</td>\n",
       "      <td>65</td>\n",
       "      <td>10.23</td>\n",
       "      <td>Egypt</td>\n",
       "    </tr>\n",
       "    <tr>\n",
       "      <th>1</th>\n",
       "      <td>536365</td>\n",
       "      <td>2010-12-01 08:26:00</td>\n",
       "      <td>17850.0</td>\n",
       "      <td>SC2088</td>\n",
       "      <td>Furniture</td>\n",
       "      <td>95</td>\n",
       "      <td>19.61</td>\n",
       "      <td>Mali</td>\n",
       "    </tr>\n",
       "    <tr>\n",
       "      <th>2</th>\n",
       "      <td>536365</td>\n",
       "      <td>2010-12-01 08:26:00</td>\n",
       "      <td>17850.0</td>\n",
       "      <td>SC3463</td>\n",
       "      <td>Books</td>\n",
       "      <td>78</td>\n",
       "      <td>61.49</td>\n",
       "      <td>Mali</td>\n",
       "    </tr>\n",
       "    <tr>\n",
       "      <th>3</th>\n",
       "      <td>536365</td>\n",
       "      <td>2010-12-01 08:26:00</td>\n",
       "      <td>17850.0</td>\n",
       "      <td>SC6228</td>\n",
       "      <td>Toys</td>\n",
       "      <td>15</td>\n",
       "      <td>24.73</td>\n",
       "      <td>South Africa</td>\n",
       "    </tr>\n",
       "    <tr>\n",
       "      <th>4</th>\n",
       "      <td>536365</td>\n",
       "      <td>2010-12-01 08:26:00</td>\n",
       "      <td>17850.0</td>\n",
       "      <td>SC2149</td>\n",
       "      <td>Toys</td>\n",
       "      <td>50</td>\n",
       "      <td>38.83</td>\n",
       "      <td>Rwanda</td>\n",
       "    </tr>\n",
       "  </tbody>\n",
       "</table>\n",
       "</div>"
      ],
      "text/plain": [
       "  InvoiceNo         InvoiceDate  CustomerID StockCode  Description  Quantity  \\\n",
       "0    536365 2010-12-01 08:26:00     17850.0    SC1734  Electronics        65   \n",
       "1    536365 2010-12-01 08:26:00     17850.0    SC2088    Furniture        95   \n",
       "2    536365 2010-12-01 08:26:00     17850.0    SC3463        Books        78   \n",
       "3    536365 2010-12-01 08:26:00     17850.0    SC6228         Toys        15   \n",
       "4    536365 2010-12-01 08:26:00     17850.0    SC2149         Toys        50   \n",
       "\n",
       "   UnitPrice       Country  \n",
       "0      10.23         Egypt  \n",
       "1      19.61          Mali  \n",
       "2      61.49          Mali  \n",
       "3      24.73  South Africa  \n",
       "4      38.83        Rwanda  "
      ]
     },
     "execution_count": 25,
     "metadata": {},
     "output_type": "execute_result"
    }
   ],
   "source": [
    "df.head()"
   ]
  },
  {
   "cell_type": "code",
   "execution_count": 28,
   "metadata": {},
   "outputs": [],
   "source": [
    "# Function to extract the year and month from the InvoiceDate\n",
    "def get_month(x):\n",
    "    return dt.datetime(x.year, x.month, 1)\n",
    "\n",
    "# Create a new column for the InvoiceMonth\n",
    "df['InvoiceDate'] = df['InvoiceDate'].apply(get_month)\n",
    "# df.head()"
   ]
  },
  {
   "cell_type": "code",
   "execution_count": 42,
   "metadata": {},
   "outputs": [],
   "source": [
    "# First date the customer makes purchase\n",
    "def get_cohort_date(df):\n",
    "    df[\"cohort_date\"] = df.groupby(\"CustomerID\")[\"InvoiceDate\"].transform(\"min\")\n",
    "    return df[\"cohort_date\"]"
   ]
  },
  {
   "cell_type": "code",
   "execution_count": 43,
   "metadata": {},
   "outputs": [
    {
     "data": {
      "application/vnd.microsoft.datawrangler.viewer.v0+json": {
       "columns": [
        {
         "name": "index",
         "rawType": "int64",
         "type": "integer"
        },
        {
         "name": "InvoiceNo",
         "rawType": "object",
         "type": "string"
        },
        {
         "name": "InvoiceDate",
         "rawType": "datetime64[ns]",
         "type": "datetime"
        },
        {
         "name": "CustomerID",
         "rawType": "float64",
         "type": "float"
        },
        {
         "name": "StockCode",
         "rawType": "object",
         "type": "string"
        },
        {
         "name": "Description",
         "rawType": "object",
         "type": "string"
        },
        {
         "name": "Quantity",
         "rawType": "int64",
         "type": "integer"
        },
        {
         "name": "UnitPrice",
         "rawType": "float64",
         "type": "float"
        },
        {
         "name": "Country",
         "rawType": "object",
         "type": "string"
        },
        {
         "name": "cohort_date",
         "rawType": "datetime64[ns]",
         "type": "datetime"
        }
       ],
       "conversionMethod": "pd.DataFrame",
       "ref": "98360e80-bd3d-46d5-9909-9f31097657ba",
       "rows": [
        [
         "0",
         "536365",
         "2010-12-01 00:00:00",
         "17850.0",
         "SC1734",
         "Electronics",
         "65",
         "10.23",
         "Egypt",
         "2010-12-01 00:00:00"
        ],
        [
         "1",
         "536365",
         "2010-12-01 00:00:00",
         "17850.0",
         "SC2088",
         "Furniture",
         "95",
         "19.61",
         "Mali",
         "2010-12-01 00:00:00"
        ],
        [
         "2",
         "536365",
         "2010-12-01 00:00:00",
         "17850.0",
         "SC3463",
         "Books",
         "78",
         "61.49",
         "Mali",
         "2010-12-01 00:00:00"
        ],
        [
         "3",
         "536365",
         "2010-12-01 00:00:00",
         "17850.0",
         "SC6228",
         "Toys",
         "15",
         "24.73",
         "South Africa",
         "2010-12-01 00:00:00"
        ],
        [
         "4",
         "536365",
         "2010-12-01 00:00:00",
         "17850.0",
         "SC2149",
         "Toys",
         "50",
         "38.83",
         "Rwanda",
         "2010-12-01 00:00:00"
        ],
        [
         "5",
         "536365",
         "2010-12-01 00:00:00",
         "17850.0",
         "SC7895",
         "Toys",
         "41",
         "45.31",
         "Sierra Leone",
         "2010-12-01 00:00:00"
        ],
        [
         "6",
         "536365",
         "2010-12-01 00:00:00",
         "17850.0",
         "SC8608",
         "Books",
         "44",
         "39.31",
         "Benin",
         "2010-12-01 00:00:00"
        ],
        [
         "7",
         "536366",
         "2010-12-01 00:00:00",
         "17850.0",
         "SC3216",
         "Toys",
         "47",
         "77.35",
         "Burkina Faso",
         "2010-12-01 00:00:00"
        ],
        [
         "8",
         "536366",
         "2010-12-01 00:00:00",
         "17850.0",
         "SC1236",
         "Kitchenware",
         "19",
         "35.11",
         "Nigeria",
         "2010-12-01 00:00:00"
        ],
        [
         "9",
         "536367",
         "2010-12-01 00:00:00",
         "13047.0",
         "SC4513",
         "Furniture",
         "55",
         "3.21",
         "Cote d'Ivoire",
         "2010-12-01 00:00:00"
        ],
        [
         "10",
         "536367",
         "2010-12-01 00:00:00",
         "13047.0",
         "SC1259",
         "Electronics",
         "89",
         "38.57",
         "Somalia",
         "2010-12-01 00:00:00"
        ],
        [
         "11",
         "536367",
         "2010-12-01 00:00:00",
         "13047.0",
         "SC3669",
         "Cosmetics",
         "58",
         "28.85",
         "Egypt",
         "2010-12-01 00:00:00"
        ],
        [
         "12",
         "536367",
         "2010-12-01 00:00:00",
         "13047.0",
         "SC2849",
         "Sports Equipment",
         "3",
         "76.29",
         "Cameroon",
         "2010-12-01 00:00:00"
        ],
        [
         "13",
         "536367",
         "2010-12-01 00:00:00",
         "13047.0",
         "SC7503",
         "Electronics",
         "2",
         "16.6",
         "Tanzania",
         "2010-12-01 00:00:00"
        ],
        [
         "14",
         "536367",
         "2010-12-01 00:00:00",
         "13047.0",
         "SC2582",
         "Furniture",
         "64",
         "40.27",
         "Somalia",
         "2010-12-01 00:00:00"
        ],
        [
         "15",
         "536367",
         "2010-12-01 00:00:00",
         "13047.0",
         "SC5631",
         "Shoes",
         "99",
         "66.66",
         "Cote d'Ivoire",
         "2010-12-01 00:00:00"
        ],
        [
         "16",
         "536367",
         "2010-12-01 00:00:00",
         "13047.0",
         "SC1232",
         "Kitchenware",
         "75",
         "95.72",
         "Egypt",
         "2010-12-01 00:00:00"
        ],
        [
         "17",
         "536367",
         "2010-12-01 00:00:00",
         "13047.0",
         "SC3348",
         "Toys",
         "26",
         "63.64",
         "Sudan",
         "2010-12-01 00:00:00"
        ],
        [
         "18",
         "536367",
         "2010-12-01 00:00:00",
         "13047.0",
         "SC6602",
         "Toys",
         "69",
         "65.16",
         "Egypt",
         "2010-12-01 00:00:00"
        ],
        [
         "19",
         "536367",
         "2010-12-01 00:00:00",
         "13047.0",
         "SC9722",
         "Electronics",
         "56",
         "87.89",
         "Madagascar",
         "2010-12-01 00:00:00"
        ],
        [
         "20",
         "536367",
         "2010-12-01 00:00:00",
         "13047.0",
         "SC7701",
         "Cosmetics",
         "7",
         "88.98",
         "Sudan",
         "2010-12-01 00:00:00"
        ],
        [
         "21",
         "536368",
         "2010-12-01 00:00:00",
         "13047.0",
         "SC1622",
         "Cloths",
         "10",
         "45.6",
         "Sierra Leone",
         "2010-12-01 00:00:00"
        ],
        [
         "22",
         "536368",
         "2010-12-01 00:00:00",
         "13047.0",
         "SC2553",
         "Toys",
         "58",
         "67.53",
         "Tunisia",
         "2010-12-01 00:00:00"
        ],
        [
         "23",
         "536368",
         "2010-12-01 00:00:00",
         "13047.0",
         "SC3349",
         "Jewelry",
         "62",
         "62.89",
         "Mozambique",
         "2010-12-01 00:00:00"
        ],
        [
         "24",
         "536368",
         "2010-12-01 00:00:00",
         "13047.0",
         "SC3319",
         "Cloths",
         "23",
         "31.8",
         "Sierra Leone",
         "2010-12-01 00:00:00"
        ],
        [
         "25",
         "536369",
         "2010-12-01 00:00:00",
         "13047.0",
         "SC5713",
         "Books",
         "42",
         "46.3",
         "Cote d'Ivoire",
         "2010-12-01 00:00:00"
        ],
        [
         "26",
         "536370",
         "2010-12-01 00:00:00",
         "12583.0",
         "SC6747",
         "Jewelry",
         "43",
         "47.11",
         "Cote d'Ivoire",
         "2010-12-01 00:00:00"
        ],
        [
         "27",
         "536370",
         "2010-12-01 00:00:00",
         "12583.0",
         "SC7422",
         "Kitchenware",
         "91",
         "94.45",
         "Zimbabwe",
         "2010-12-01 00:00:00"
        ],
        [
         "28",
         "536370",
         "2010-12-01 00:00:00",
         "12583.0",
         "SC8304",
         "Electronics",
         "45",
         "75.85",
         "Uganda",
         "2010-12-01 00:00:00"
        ],
        [
         "29",
         "536370",
         "2010-12-01 00:00:00",
         "12583.0",
         "SC1967",
         "Shoes",
         "92",
         "10.71",
         "Libya",
         "2010-12-01 00:00:00"
        ],
        [
         "30",
         "536370",
         "2010-12-01 00:00:00",
         "12583.0",
         "SC2597",
         "Sports Equipment",
         "15",
         "98.27",
         "Mali",
         "2010-12-01 00:00:00"
        ],
        [
         "31",
         "536370",
         "2010-12-01 00:00:00",
         "12583.0",
         "SC3067",
         "Jewelry",
         "30",
         "63.3",
         "Morocco",
         "2010-12-01 00:00:00"
        ],
        [
         "32",
         "536370",
         "2010-12-01 00:00:00",
         "12583.0",
         "SC4536",
         "Shoes",
         "71",
         "5.54",
         "Cote d'Ivoire",
         "2010-12-01 00:00:00"
        ],
        [
         "33",
         "536370",
         "2010-12-01 00:00:00",
         "12583.0",
         "SC2664",
         "Cosmetics",
         "84",
         "74.21",
         "Somalia",
         "2010-12-01 00:00:00"
        ],
        [
         "34",
         "536370",
         "2010-12-01 00:00:00",
         "12583.0",
         "SC3985",
         "Electronics",
         "39",
         "40.07",
         "Burkina Faso",
         "2010-12-01 00:00:00"
        ],
        [
         "35",
         "536370",
         "2010-12-01 00:00:00",
         "12583.0",
         "SC2291",
         "Cloths",
         "88",
         "14.47",
         "Burkina Faso",
         "2010-12-01 00:00:00"
        ],
        [
         "36",
         "536370",
         "2010-12-01 00:00:00",
         "12583.0",
         "SC3842",
         "Furniture",
         "6",
         "57.68",
         "Cote d'Ivoire",
         "2010-12-01 00:00:00"
        ],
        [
         "37",
         "536370",
         "2010-12-01 00:00:00",
         "12583.0",
         "SC6449",
         "Sports Equipment",
         "54",
         "13.1",
         "Sudan",
         "2010-12-01 00:00:00"
        ],
        [
         "38",
         "536370",
         "2010-12-01 00:00:00",
         "12583.0",
         "SC8699",
         "Shoes",
         "32",
         "30.69",
         "Ethiopia",
         "2010-12-01 00:00:00"
        ],
        [
         "39",
         "536370",
         "2010-12-01 00:00:00",
         "12583.0",
         "SC9719",
         "Jewelry",
         "91",
         "38.16",
         "Burkina Faso",
         "2010-12-01 00:00:00"
        ],
        [
         "40",
         "536370",
         "2010-12-01 00:00:00",
         "12583.0",
         "SC8403",
         "Jewelry",
         "70",
         "92.0",
         "Algeria",
         "2010-12-01 00:00:00"
        ],
        [
         "41",
         "536370",
         "2010-12-01 00:00:00",
         "12583.0",
         "SC9432",
         "Cosmetics",
         "68",
         "9.2",
         "Somalia",
         "2010-12-01 00:00:00"
        ],
        [
         "42",
         "536370",
         "2010-12-01 00:00:00",
         "12583.0",
         "SC8536",
         "Sports Equipment",
         "32",
         "30.73",
         "Tunisia",
         "2010-12-01 00:00:00"
        ],
        [
         "43",
         "536370",
         "2010-12-01 00:00:00",
         "12583.0",
         "SC9849",
         "Cloths",
         "15",
         "71.16",
         "Sudan",
         "2010-12-01 00:00:00"
        ],
        [
         "44",
         "536370",
         "2010-12-01 00:00:00",
         "12583.0",
         "SC4035",
         "Furniture",
         "38",
         "61.78",
         "Cote d'Ivoire",
         "2010-12-01 00:00:00"
        ],
        [
         "45",
         "536370",
         "2010-12-01 00:00:00",
         "12583.0",
         "SC5787",
         "Cosmetics",
         "15",
         "71.87",
         "Ghana",
         "2010-12-01 00:00:00"
        ],
        [
         "46",
         "536371",
         "2010-12-01 00:00:00",
         "13748.0",
         "SC8079",
         "Cloths",
         "18",
         "63.54",
         "Algeria",
         "2010-12-01 00:00:00"
        ],
        [
         "47",
         "536372",
         "2010-12-01 00:00:00",
         "17850.0",
         "SC1943",
         "Sports Equipment",
         "63",
         "91.05",
         "Madagascar",
         "2010-12-01 00:00:00"
        ],
        [
         "48",
         "536372",
         "2010-12-01 00:00:00",
         "17850.0",
         "SC4346",
         "Sports Equipment",
         "22",
         "65.46",
         "Ethiopia",
         "2010-12-01 00:00:00"
        ],
        [
         "49",
         "536373",
         "2010-12-01 00:00:00",
         "17850.0",
         "SC9018",
         "Shoes",
         "13",
         "55.49",
         "Ghana",
         "2010-12-01 00:00:00"
        ]
       ],
       "shape": {
        "columns": 9,
        "rows": 406829
       }
      },
      "text/html": [
       "<div>\n",
       "<style scoped>\n",
       "    .dataframe tbody tr th:only-of-type {\n",
       "        vertical-align: middle;\n",
       "    }\n",
       "\n",
       "    .dataframe tbody tr th {\n",
       "        vertical-align: top;\n",
       "    }\n",
       "\n",
       "    .dataframe thead th {\n",
       "        text-align: right;\n",
       "    }\n",
       "</style>\n",
       "<table border=\"1\" class=\"dataframe\">\n",
       "  <thead>\n",
       "    <tr style=\"text-align: right;\">\n",
       "      <th></th>\n",
       "      <th>InvoiceNo</th>\n",
       "      <th>InvoiceDate</th>\n",
       "      <th>CustomerID</th>\n",
       "      <th>StockCode</th>\n",
       "      <th>Description</th>\n",
       "      <th>Quantity</th>\n",
       "      <th>UnitPrice</th>\n",
       "      <th>Country</th>\n",
       "      <th>cohort_date</th>\n",
       "    </tr>\n",
       "  </thead>\n",
       "  <tbody>\n",
       "    <tr>\n",
       "      <th>0</th>\n",
       "      <td>536365</td>\n",
       "      <td>2010-12-01</td>\n",
       "      <td>17850.0</td>\n",
       "      <td>SC1734</td>\n",
       "      <td>Electronics</td>\n",
       "      <td>65</td>\n",
       "      <td>10.23</td>\n",
       "      <td>Egypt</td>\n",
       "      <td>2010-12-01</td>\n",
       "    </tr>\n",
       "    <tr>\n",
       "      <th>1</th>\n",
       "      <td>536365</td>\n",
       "      <td>2010-12-01</td>\n",
       "      <td>17850.0</td>\n",
       "      <td>SC2088</td>\n",
       "      <td>Furniture</td>\n",
       "      <td>95</td>\n",
       "      <td>19.61</td>\n",
       "      <td>Mali</td>\n",
       "      <td>2010-12-01</td>\n",
       "    </tr>\n",
       "    <tr>\n",
       "      <th>2</th>\n",
       "      <td>536365</td>\n",
       "      <td>2010-12-01</td>\n",
       "      <td>17850.0</td>\n",
       "      <td>SC3463</td>\n",
       "      <td>Books</td>\n",
       "      <td>78</td>\n",
       "      <td>61.49</td>\n",
       "      <td>Mali</td>\n",
       "      <td>2010-12-01</td>\n",
       "    </tr>\n",
       "    <tr>\n",
       "      <th>3</th>\n",
       "      <td>536365</td>\n",
       "      <td>2010-12-01</td>\n",
       "      <td>17850.0</td>\n",
       "      <td>SC6228</td>\n",
       "      <td>Toys</td>\n",
       "      <td>15</td>\n",
       "      <td>24.73</td>\n",
       "      <td>South Africa</td>\n",
       "      <td>2010-12-01</td>\n",
       "    </tr>\n",
       "    <tr>\n",
       "      <th>4</th>\n",
       "      <td>536365</td>\n",
       "      <td>2010-12-01</td>\n",
       "      <td>17850.0</td>\n",
       "      <td>SC2149</td>\n",
       "      <td>Toys</td>\n",
       "      <td>50</td>\n",
       "      <td>38.83</td>\n",
       "      <td>Rwanda</td>\n",
       "      <td>2010-12-01</td>\n",
       "    </tr>\n",
       "    <tr>\n",
       "      <th>...</th>\n",
       "      <td>...</td>\n",
       "      <td>...</td>\n",
       "      <td>...</td>\n",
       "      <td>...</td>\n",
       "      <td>...</td>\n",
       "      <td>...</td>\n",
       "      <td>...</td>\n",
       "      <td>...</td>\n",
       "      <td>...</td>\n",
       "    </tr>\n",
       "    <tr>\n",
       "      <th>541904</th>\n",
       "      <td>581587</td>\n",
       "      <td>2011-12-01</td>\n",
       "      <td>12680.0</td>\n",
       "      <td>SC5440</td>\n",
       "      <td>Furniture</td>\n",
       "      <td>25</td>\n",
       "      <td>36.53</td>\n",
       "      <td>Mozambique</td>\n",
       "      <td>2011-08-01</td>\n",
       "    </tr>\n",
       "    <tr>\n",
       "      <th>541905</th>\n",
       "      <td>581587</td>\n",
       "      <td>2011-12-01</td>\n",
       "      <td>12680.0</td>\n",
       "      <td>SC3576</td>\n",
       "      <td>Cloths</td>\n",
       "      <td>94</td>\n",
       "      <td>90.65</td>\n",
       "      <td>Tunisia</td>\n",
       "      <td>2011-08-01</td>\n",
       "    </tr>\n",
       "    <tr>\n",
       "      <th>541906</th>\n",
       "      <td>581587</td>\n",
       "      <td>2011-12-01</td>\n",
       "      <td>12680.0</td>\n",
       "      <td>SC5283</td>\n",
       "      <td>Furniture</td>\n",
       "      <td>14</td>\n",
       "      <td>40.07</td>\n",
       "      <td>Somalia</td>\n",
       "      <td>2011-08-01</td>\n",
       "    </tr>\n",
       "    <tr>\n",
       "      <th>541907</th>\n",
       "      <td>581587</td>\n",
       "      <td>2011-12-01</td>\n",
       "      <td>12680.0</td>\n",
       "      <td>SC1099</td>\n",
       "      <td>Cosmetics</td>\n",
       "      <td>45</td>\n",
       "      <td>79.83</td>\n",
       "      <td>Senegal</td>\n",
       "      <td>2011-08-01</td>\n",
       "    </tr>\n",
       "    <tr>\n",
       "      <th>541908</th>\n",
       "      <td>581587</td>\n",
       "      <td>2011-12-01</td>\n",
       "      <td>12680.0</td>\n",
       "      <td>SC9276</td>\n",
       "      <td>Toys</td>\n",
       "      <td>6</td>\n",
       "      <td>46.62</td>\n",
       "      <td>Ethiopia</td>\n",
       "      <td>2011-08-01</td>\n",
       "    </tr>\n",
       "  </tbody>\n",
       "</table>\n",
       "<p>406829 rows × 9 columns</p>\n",
       "</div>"
      ],
      "text/plain": [
       "       InvoiceNo InvoiceDate  CustomerID StockCode  Description  Quantity  \\\n",
       "0         536365  2010-12-01     17850.0    SC1734  Electronics        65   \n",
       "1         536365  2010-12-01     17850.0    SC2088    Furniture        95   \n",
       "2         536365  2010-12-01     17850.0    SC3463        Books        78   \n",
       "3         536365  2010-12-01     17850.0    SC6228         Toys        15   \n",
       "4         536365  2010-12-01     17850.0    SC2149         Toys        50   \n",
       "...          ...         ...         ...       ...          ...       ...   \n",
       "541904    581587  2011-12-01     12680.0    SC5440    Furniture        25   \n",
       "541905    581587  2011-12-01     12680.0    SC3576       Cloths        94   \n",
       "541906    581587  2011-12-01     12680.0    SC5283    Furniture        14   \n",
       "541907    581587  2011-12-01     12680.0    SC1099    Cosmetics        45   \n",
       "541908    581587  2011-12-01     12680.0    SC9276         Toys         6   \n",
       "\n",
       "        UnitPrice       Country cohort_date  \n",
       "0           10.23         Egypt  2010-12-01  \n",
       "1           19.61          Mali  2010-12-01  \n",
       "2           61.49          Mali  2010-12-01  \n",
       "3           24.73  South Africa  2010-12-01  \n",
       "4           38.83        Rwanda  2010-12-01  \n",
       "...           ...           ...         ...  \n",
       "541904      36.53    Mozambique  2011-08-01  \n",
       "541905      90.65       Tunisia  2011-08-01  \n",
       "541906      40.07       Somalia  2011-08-01  \n",
       "541907      79.83       Senegal  2011-08-01  \n",
       "541908      46.62      Ethiopia  2011-08-01  \n",
       "\n",
       "[406829 rows x 9 columns]"
      ]
     },
     "execution_count": 43,
     "metadata": {},
     "output_type": "execute_result"
    }
   ],
   "source": [
    "df[\"cohort_date\"] = get_cohort_date(df)\n",
    "df"
   ]
  },
  {
   "cell_type": "markdown",
   "metadata": {},
   "source": [
    "## Cohort Index"
   ]
  },
  {
   "cell_type": "code",
   "execution_count": 34,
   "metadata": {},
   "outputs": [],
   "source": [
    "# Function to extract the year and month from the InvoiceDate\n",
    "def get_year_month(df, col):\n",
    "    year = df[col].dt.year\n",
    "    month = df[col].dt.month\n",
    "    return year, month"
   ]
  },
  {
   "cell_type": "code",
   "execution_count": 36,
   "metadata": {},
   "outputs": [
    {
     "data": {
      "text/plain": [
       "0         2010\n",
       "1         2010\n",
       "2         2010\n",
       "3         2010\n",
       "4         2010\n",
       "          ... \n",
       "541904    2011\n",
       "541905    2011\n",
       "541906    2011\n",
       "541907    2011\n",
       "541908    2011\n",
       "Name: cohort_date, Length: 406829, dtype: int32"
      ]
     },
     "execution_count": 36,
     "metadata": {},
     "output_type": "execute_result"
    }
   ],
   "source": [
    "first_month, first_year = get_year_month(df, \"cohort_date\")\n",
    "first_month"
   ]
  },
  {
   "cell_type": "code",
   "execution_count": 37,
   "metadata": {},
   "outputs": [
    {
     "data": {
      "text/plain": [
       "0         12\n",
       "1         12\n",
       "2         12\n",
       "3         12\n",
       "4         12\n",
       "          ..\n",
       "541904     8\n",
       "541905     8\n",
       "541906     8\n",
       "541907     8\n",
       "541908     8\n",
       "Name: cohort_date, Length: 406829, dtype: int32"
      ]
     },
     "execution_count": 37,
     "metadata": {},
     "output_type": "execute_result"
    }
   ],
   "source": [
    "first_year"
   ]
  },
  {
   "cell_type": "code",
   "execution_count": 38,
   "metadata": {},
   "outputs": [],
   "source": [
    "latest_month, latest_year = get_year_month(df, \"InvoiceDate\")"
   ]
  },
  {
   "cell_type": "code",
   "execution_count": 39,
   "metadata": {},
   "outputs": [
    {
     "data": {
      "text/plain": [
       "0         2010\n",
       "1         2010\n",
       "2         2010\n",
       "3         2010\n",
       "4         2010\n",
       "          ... \n",
       "541904    2011\n",
       "541905    2011\n",
       "541906    2011\n",
       "541907    2011\n",
       "541908    2011\n",
       "Name: InvoiceDate, Length: 406829, dtype: int32"
      ]
     },
     "execution_count": 39,
     "metadata": {},
     "output_type": "execute_result"
    }
   ],
   "source": [
    "latest_month"
   ]
  },
  {
   "cell_type": "code",
   "execution_count": 40,
   "metadata": {},
   "outputs": [
    {
     "data": {
      "text/plain": [
       "0         12\n",
       "1         12\n",
       "2         12\n",
       "3         12\n",
       "4         12\n",
       "          ..\n",
       "541904    12\n",
       "541905    12\n",
       "541906    12\n",
       "541907    12\n",
       "541908    12\n",
       "Name: InvoiceDate, Length: 406829, dtype: int32"
      ]
     },
     "execution_count": 40,
     "metadata": {},
     "output_type": "execute_result"
    }
   ],
   "source": [
    "latest_year"
   ]
  },
  {
   "cell_type": "code",
   "execution_count": null,
   "metadata": {},
   "outputs": [],
   "source": [
    "# Function to create a cohort index\n",
    "def create_cohort_index(first_month, first_year, latest_month, latest_year):\n",
    "    year_diff = latest_year - first_year\n",
    "    month_diff = latest_month - first_month\n",
    "    cohort_index = year_diff * 12 + month_diff + 1\n",
    "    return cohort_index\n"
   ]
  },
  {
   "cell_type": "code",
   "execution_count": 45,
   "metadata": {},
   "outputs": [
    {
     "data": {
      "application/vnd.microsoft.datawrangler.viewer.v0+json": {
       "columns": [
        {
         "name": "index",
         "rawType": "int64",
         "type": "integer"
        },
        {
         "name": "InvoiceNo",
         "rawType": "object",
         "type": "string"
        },
        {
         "name": "InvoiceDate",
         "rawType": "datetime64[ns]",
         "type": "datetime"
        },
        {
         "name": "CustomerID",
         "rawType": "float64",
         "type": "float"
        },
        {
         "name": "StockCode",
         "rawType": "object",
         "type": "string"
        },
        {
         "name": "Description",
         "rawType": "object",
         "type": "string"
        },
        {
         "name": "Quantity",
         "rawType": "int64",
         "type": "integer"
        },
        {
         "name": "UnitPrice",
         "rawType": "float64",
         "type": "float"
        },
        {
         "name": "Country",
         "rawType": "object",
         "type": "string"
        },
        {
         "name": "cohort_date",
         "rawType": "datetime64[ns]",
         "type": "datetime"
        },
        {
         "name": "cohort_index",
         "rawType": "int32",
         "type": "integer"
        }
       ],
       "conversionMethod": "pd.DataFrame",
       "ref": "1635ca45-5fb5-4545-95e9-7d649f4a8215",
       "rows": [
        [
         "0",
         "536365",
         "2010-12-01 00:00:00",
         "17850.0",
         "SC1734",
         "Electronics",
         "65",
         "10.23",
         "Egypt",
         "2010-12-01 00:00:00",
         "1"
        ],
        [
         "1",
         "536365",
         "2010-12-01 00:00:00",
         "17850.0",
         "SC2088",
         "Furniture",
         "95",
         "19.61",
         "Mali",
         "2010-12-01 00:00:00",
         "1"
        ],
        [
         "2",
         "536365",
         "2010-12-01 00:00:00",
         "17850.0",
         "SC3463",
         "Books",
         "78",
         "61.49",
         "Mali",
         "2010-12-01 00:00:00",
         "1"
        ],
        [
         "3",
         "536365",
         "2010-12-01 00:00:00",
         "17850.0",
         "SC6228",
         "Toys",
         "15",
         "24.73",
         "South Africa",
         "2010-12-01 00:00:00",
         "1"
        ],
        [
         "4",
         "536365",
         "2010-12-01 00:00:00",
         "17850.0",
         "SC2149",
         "Toys",
         "50",
         "38.83",
         "Rwanda",
         "2010-12-01 00:00:00",
         "1"
        ],
        [
         "5",
         "536365",
         "2010-12-01 00:00:00",
         "17850.0",
         "SC7895",
         "Toys",
         "41",
         "45.31",
         "Sierra Leone",
         "2010-12-01 00:00:00",
         "1"
        ],
        [
         "6",
         "536365",
         "2010-12-01 00:00:00",
         "17850.0",
         "SC8608",
         "Books",
         "44",
         "39.31",
         "Benin",
         "2010-12-01 00:00:00",
         "1"
        ],
        [
         "7",
         "536366",
         "2010-12-01 00:00:00",
         "17850.0",
         "SC3216",
         "Toys",
         "47",
         "77.35",
         "Burkina Faso",
         "2010-12-01 00:00:00",
         "1"
        ],
        [
         "8",
         "536366",
         "2010-12-01 00:00:00",
         "17850.0",
         "SC1236",
         "Kitchenware",
         "19",
         "35.11",
         "Nigeria",
         "2010-12-01 00:00:00",
         "1"
        ],
        [
         "9",
         "536367",
         "2010-12-01 00:00:00",
         "13047.0",
         "SC4513",
         "Furniture",
         "55",
         "3.21",
         "Cote d'Ivoire",
         "2010-12-01 00:00:00",
         "1"
        ],
        [
         "10",
         "536367",
         "2010-12-01 00:00:00",
         "13047.0",
         "SC1259",
         "Electronics",
         "89",
         "38.57",
         "Somalia",
         "2010-12-01 00:00:00",
         "1"
        ],
        [
         "11",
         "536367",
         "2010-12-01 00:00:00",
         "13047.0",
         "SC3669",
         "Cosmetics",
         "58",
         "28.85",
         "Egypt",
         "2010-12-01 00:00:00",
         "1"
        ],
        [
         "12",
         "536367",
         "2010-12-01 00:00:00",
         "13047.0",
         "SC2849",
         "Sports Equipment",
         "3",
         "76.29",
         "Cameroon",
         "2010-12-01 00:00:00",
         "1"
        ],
        [
         "13",
         "536367",
         "2010-12-01 00:00:00",
         "13047.0",
         "SC7503",
         "Electronics",
         "2",
         "16.6",
         "Tanzania",
         "2010-12-01 00:00:00",
         "1"
        ],
        [
         "14",
         "536367",
         "2010-12-01 00:00:00",
         "13047.0",
         "SC2582",
         "Furniture",
         "64",
         "40.27",
         "Somalia",
         "2010-12-01 00:00:00",
         "1"
        ],
        [
         "15",
         "536367",
         "2010-12-01 00:00:00",
         "13047.0",
         "SC5631",
         "Shoes",
         "99",
         "66.66",
         "Cote d'Ivoire",
         "2010-12-01 00:00:00",
         "1"
        ],
        [
         "16",
         "536367",
         "2010-12-01 00:00:00",
         "13047.0",
         "SC1232",
         "Kitchenware",
         "75",
         "95.72",
         "Egypt",
         "2010-12-01 00:00:00",
         "1"
        ],
        [
         "17",
         "536367",
         "2010-12-01 00:00:00",
         "13047.0",
         "SC3348",
         "Toys",
         "26",
         "63.64",
         "Sudan",
         "2010-12-01 00:00:00",
         "1"
        ],
        [
         "18",
         "536367",
         "2010-12-01 00:00:00",
         "13047.0",
         "SC6602",
         "Toys",
         "69",
         "65.16",
         "Egypt",
         "2010-12-01 00:00:00",
         "1"
        ],
        [
         "19",
         "536367",
         "2010-12-01 00:00:00",
         "13047.0",
         "SC9722",
         "Electronics",
         "56",
         "87.89",
         "Madagascar",
         "2010-12-01 00:00:00",
         "1"
        ],
        [
         "20",
         "536367",
         "2010-12-01 00:00:00",
         "13047.0",
         "SC7701",
         "Cosmetics",
         "7",
         "88.98",
         "Sudan",
         "2010-12-01 00:00:00",
         "1"
        ],
        [
         "21",
         "536368",
         "2010-12-01 00:00:00",
         "13047.0",
         "SC1622",
         "Cloths",
         "10",
         "45.6",
         "Sierra Leone",
         "2010-12-01 00:00:00",
         "1"
        ],
        [
         "22",
         "536368",
         "2010-12-01 00:00:00",
         "13047.0",
         "SC2553",
         "Toys",
         "58",
         "67.53",
         "Tunisia",
         "2010-12-01 00:00:00",
         "1"
        ],
        [
         "23",
         "536368",
         "2010-12-01 00:00:00",
         "13047.0",
         "SC3349",
         "Jewelry",
         "62",
         "62.89",
         "Mozambique",
         "2010-12-01 00:00:00",
         "1"
        ],
        [
         "24",
         "536368",
         "2010-12-01 00:00:00",
         "13047.0",
         "SC3319",
         "Cloths",
         "23",
         "31.8",
         "Sierra Leone",
         "2010-12-01 00:00:00",
         "1"
        ],
        [
         "25",
         "536369",
         "2010-12-01 00:00:00",
         "13047.0",
         "SC5713",
         "Books",
         "42",
         "46.3",
         "Cote d'Ivoire",
         "2010-12-01 00:00:00",
         "1"
        ],
        [
         "26",
         "536370",
         "2010-12-01 00:00:00",
         "12583.0",
         "SC6747",
         "Jewelry",
         "43",
         "47.11",
         "Cote d'Ivoire",
         "2010-12-01 00:00:00",
         "1"
        ],
        [
         "27",
         "536370",
         "2010-12-01 00:00:00",
         "12583.0",
         "SC7422",
         "Kitchenware",
         "91",
         "94.45",
         "Zimbabwe",
         "2010-12-01 00:00:00",
         "1"
        ],
        [
         "28",
         "536370",
         "2010-12-01 00:00:00",
         "12583.0",
         "SC8304",
         "Electronics",
         "45",
         "75.85",
         "Uganda",
         "2010-12-01 00:00:00",
         "1"
        ],
        [
         "29",
         "536370",
         "2010-12-01 00:00:00",
         "12583.0",
         "SC1967",
         "Shoes",
         "92",
         "10.71",
         "Libya",
         "2010-12-01 00:00:00",
         "1"
        ],
        [
         "30",
         "536370",
         "2010-12-01 00:00:00",
         "12583.0",
         "SC2597",
         "Sports Equipment",
         "15",
         "98.27",
         "Mali",
         "2010-12-01 00:00:00",
         "1"
        ],
        [
         "31",
         "536370",
         "2010-12-01 00:00:00",
         "12583.0",
         "SC3067",
         "Jewelry",
         "30",
         "63.3",
         "Morocco",
         "2010-12-01 00:00:00",
         "1"
        ],
        [
         "32",
         "536370",
         "2010-12-01 00:00:00",
         "12583.0",
         "SC4536",
         "Shoes",
         "71",
         "5.54",
         "Cote d'Ivoire",
         "2010-12-01 00:00:00",
         "1"
        ],
        [
         "33",
         "536370",
         "2010-12-01 00:00:00",
         "12583.0",
         "SC2664",
         "Cosmetics",
         "84",
         "74.21",
         "Somalia",
         "2010-12-01 00:00:00",
         "1"
        ],
        [
         "34",
         "536370",
         "2010-12-01 00:00:00",
         "12583.0",
         "SC3985",
         "Electronics",
         "39",
         "40.07",
         "Burkina Faso",
         "2010-12-01 00:00:00",
         "1"
        ],
        [
         "35",
         "536370",
         "2010-12-01 00:00:00",
         "12583.0",
         "SC2291",
         "Cloths",
         "88",
         "14.47",
         "Burkina Faso",
         "2010-12-01 00:00:00",
         "1"
        ],
        [
         "36",
         "536370",
         "2010-12-01 00:00:00",
         "12583.0",
         "SC3842",
         "Furniture",
         "6",
         "57.68",
         "Cote d'Ivoire",
         "2010-12-01 00:00:00",
         "1"
        ],
        [
         "37",
         "536370",
         "2010-12-01 00:00:00",
         "12583.0",
         "SC6449",
         "Sports Equipment",
         "54",
         "13.1",
         "Sudan",
         "2010-12-01 00:00:00",
         "1"
        ],
        [
         "38",
         "536370",
         "2010-12-01 00:00:00",
         "12583.0",
         "SC8699",
         "Shoes",
         "32",
         "30.69",
         "Ethiopia",
         "2010-12-01 00:00:00",
         "1"
        ],
        [
         "39",
         "536370",
         "2010-12-01 00:00:00",
         "12583.0",
         "SC9719",
         "Jewelry",
         "91",
         "38.16",
         "Burkina Faso",
         "2010-12-01 00:00:00",
         "1"
        ],
        [
         "40",
         "536370",
         "2010-12-01 00:00:00",
         "12583.0",
         "SC8403",
         "Jewelry",
         "70",
         "92.0",
         "Algeria",
         "2010-12-01 00:00:00",
         "1"
        ],
        [
         "41",
         "536370",
         "2010-12-01 00:00:00",
         "12583.0",
         "SC9432",
         "Cosmetics",
         "68",
         "9.2",
         "Somalia",
         "2010-12-01 00:00:00",
         "1"
        ],
        [
         "42",
         "536370",
         "2010-12-01 00:00:00",
         "12583.0",
         "SC8536",
         "Sports Equipment",
         "32",
         "30.73",
         "Tunisia",
         "2010-12-01 00:00:00",
         "1"
        ],
        [
         "43",
         "536370",
         "2010-12-01 00:00:00",
         "12583.0",
         "SC9849",
         "Cloths",
         "15",
         "71.16",
         "Sudan",
         "2010-12-01 00:00:00",
         "1"
        ],
        [
         "44",
         "536370",
         "2010-12-01 00:00:00",
         "12583.0",
         "SC4035",
         "Furniture",
         "38",
         "61.78",
         "Cote d'Ivoire",
         "2010-12-01 00:00:00",
         "1"
        ],
        [
         "45",
         "536370",
         "2010-12-01 00:00:00",
         "12583.0",
         "SC5787",
         "Cosmetics",
         "15",
         "71.87",
         "Ghana",
         "2010-12-01 00:00:00",
         "1"
        ],
        [
         "46",
         "536371",
         "2010-12-01 00:00:00",
         "13748.0",
         "SC8079",
         "Cloths",
         "18",
         "63.54",
         "Algeria",
         "2010-12-01 00:00:00",
         "1"
        ],
        [
         "47",
         "536372",
         "2010-12-01 00:00:00",
         "17850.0",
         "SC1943",
         "Sports Equipment",
         "63",
         "91.05",
         "Madagascar",
         "2010-12-01 00:00:00",
         "1"
        ],
        [
         "48",
         "536372",
         "2010-12-01 00:00:00",
         "17850.0",
         "SC4346",
         "Sports Equipment",
         "22",
         "65.46",
         "Ethiopia",
         "2010-12-01 00:00:00",
         "1"
        ],
        [
         "49",
         "536373",
         "2010-12-01 00:00:00",
         "17850.0",
         "SC9018",
         "Shoes",
         "13",
         "55.49",
         "Ghana",
         "2010-12-01 00:00:00",
         "1"
        ]
       ],
       "shape": {
        "columns": 10,
        "rows": 406829
       }
      },
      "text/html": [
       "<div>\n",
       "<style scoped>\n",
       "    .dataframe tbody tr th:only-of-type {\n",
       "        vertical-align: middle;\n",
       "    }\n",
       "\n",
       "    .dataframe tbody tr th {\n",
       "        vertical-align: top;\n",
       "    }\n",
       "\n",
       "    .dataframe thead th {\n",
       "        text-align: right;\n",
       "    }\n",
       "</style>\n",
       "<table border=\"1\" class=\"dataframe\">\n",
       "  <thead>\n",
       "    <tr style=\"text-align: right;\">\n",
       "      <th></th>\n",
       "      <th>InvoiceNo</th>\n",
       "      <th>InvoiceDate</th>\n",
       "      <th>CustomerID</th>\n",
       "      <th>StockCode</th>\n",
       "      <th>Description</th>\n",
       "      <th>Quantity</th>\n",
       "      <th>UnitPrice</th>\n",
       "      <th>Country</th>\n",
       "      <th>cohort_date</th>\n",
       "      <th>cohort_index</th>\n",
       "    </tr>\n",
       "  </thead>\n",
       "  <tbody>\n",
       "    <tr>\n",
       "      <th>0</th>\n",
       "      <td>536365</td>\n",
       "      <td>2010-12-01</td>\n",
       "      <td>17850.0</td>\n",
       "      <td>SC1734</td>\n",
       "      <td>Electronics</td>\n",
       "      <td>65</td>\n",
       "      <td>10.23</td>\n",
       "      <td>Egypt</td>\n",
       "      <td>2010-12-01</td>\n",
       "      <td>1</td>\n",
       "    </tr>\n",
       "    <tr>\n",
       "      <th>1</th>\n",
       "      <td>536365</td>\n",
       "      <td>2010-12-01</td>\n",
       "      <td>17850.0</td>\n",
       "      <td>SC2088</td>\n",
       "      <td>Furniture</td>\n",
       "      <td>95</td>\n",
       "      <td>19.61</td>\n",
       "      <td>Mali</td>\n",
       "      <td>2010-12-01</td>\n",
       "      <td>1</td>\n",
       "    </tr>\n",
       "    <tr>\n",
       "      <th>2</th>\n",
       "      <td>536365</td>\n",
       "      <td>2010-12-01</td>\n",
       "      <td>17850.0</td>\n",
       "      <td>SC3463</td>\n",
       "      <td>Books</td>\n",
       "      <td>78</td>\n",
       "      <td>61.49</td>\n",
       "      <td>Mali</td>\n",
       "      <td>2010-12-01</td>\n",
       "      <td>1</td>\n",
       "    </tr>\n",
       "    <tr>\n",
       "      <th>3</th>\n",
       "      <td>536365</td>\n",
       "      <td>2010-12-01</td>\n",
       "      <td>17850.0</td>\n",
       "      <td>SC6228</td>\n",
       "      <td>Toys</td>\n",
       "      <td>15</td>\n",
       "      <td>24.73</td>\n",
       "      <td>South Africa</td>\n",
       "      <td>2010-12-01</td>\n",
       "      <td>1</td>\n",
       "    </tr>\n",
       "    <tr>\n",
       "      <th>4</th>\n",
       "      <td>536365</td>\n",
       "      <td>2010-12-01</td>\n",
       "      <td>17850.0</td>\n",
       "      <td>SC2149</td>\n",
       "      <td>Toys</td>\n",
       "      <td>50</td>\n",
       "      <td>38.83</td>\n",
       "      <td>Rwanda</td>\n",
       "      <td>2010-12-01</td>\n",
       "      <td>1</td>\n",
       "    </tr>\n",
       "    <tr>\n",
       "      <th>...</th>\n",
       "      <td>...</td>\n",
       "      <td>...</td>\n",
       "      <td>...</td>\n",
       "      <td>...</td>\n",
       "      <td>...</td>\n",
       "      <td>...</td>\n",
       "      <td>...</td>\n",
       "      <td>...</td>\n",
       "      <td>...</td>\n",
       "      <td>...</td>\n",
       "    </tr>\n",
       "    <tr>\n",
       "      <th>541904</th>\n",
       "      <td>581587</td>\n",
       "      <td>2011-12-01</td>\n",
       "      <td>12680.0</td>\n",
       "      <td>SC5440</td>\n",
       "      <td>Furniture</td>\n",
       "      <td>25</td>\n",
       "      <td>36.53</td>\n",
       "      <td>Mozambique</td>\n",
       "      <td>2011-08-01</td>\n",
       "      <td>49</td>\n",
       "    </tr>\n",
       "    <tr>\n",
       "      <th>541905</th>\n",
       "      <td>581587</td>\n",
       "      <td>2011-12-01</td>\n",
       "      <td>12680.0</td>\n",
       "      <td>SC3576</td>\n",
       "      <td>Cloths</td>\n",
       "      <td>94</td>\n",
       "      <td>90.65</td>\n",
       "      <td>Tunisia</td>\n",
       "      <td>2011-08-01</td>\n",
       "      <td>49</td>\n",
       "    </tr>\n",
       "    <tr>\n",
       "      <th>541906</th>\n",
       "      <td>581587</td>\n",
       "      <td>2011-12-01</td>\n",
       "      <td>12680.0</td>\n",
       "      <td>SC5283</td>\n",
       "      <td>Furniture</td>\n",
       "      <td>14</td>\n",
       "      <td>40.07</td>\n",
       "      <td>Somalia</td>\n",
       "      <td>2011-08-01</td>\n",
       "      <td>49</td>\n",
       "    </tr>\n",
       "    <tr>\n",
       "      <th>541907</th>\n",
       "      <td>581587</td>\n",
       "      <td>2011-12-01</td>\n",
       "      <td>12680.0</td>\n",
       "      <td>SC1099</td>\n",
       "      <td>Cosmetics</td>\n",
       "      <td>45</td>\n",
       "      <td>79.83</td>\n",
       "      <td>Senegal</td>\n",
       "      <td>2011-08-01</td>\n",
       "      <td>49</td>\n",
       "    </tr>\n",
       "    <tr>\n",
       "      <th>541908</th>\n",
       "      <td>581587</td>\n",
       "      <td>2011-12-01</td>\n",
       "      <td>12680.0</td>\n",
       "      <td>SC9276</td>\n",
       "      <td>Toys</td>\n",
       "      <td>6</td>\n",
       "      <td>46.62</td>\n",
       "      <td>Ethiopia</td>\n",
       "      <td>2011-08-01</td>\n",
       "      <td>49</td>\n",
       "    </tr>\n",
       "  </tbody>\n",
       "</table>\n",
       "<p>406829 rows × 10 columns</p>\n",
       "</div>"
      ],
      "text/plain": [
       "       InvoiceNo InvoiceDate  CustomerID StockCode  Description  Quantity  \\\n",
       "0         536365  2010-12-01     17850.0    SC1734  Electronics        65   \n",
       "1         536365  2010-12-01     17850.0    SC2088    Furniture        95   \n",
       "2         536365  2010-12-01     17850.0    SC3463        Books        78   \n",
       "3         536365  2010-12-01     17850.0    SC6228         Toys        15   \n",
       "4         536365  2010-12-01     17850.0    SC2149         Toys        50   \n",
       "...          ...         ...         ...       ...          ...       ...   \n",
       "541904    581587  2011-12-01     12680.0    SC5440    Furniture        25   \n",
       "541905    581587  2011-12-01     12680.0    SC3576       Cloths        94   \n",
       "541906    581587  2011-12-01     12680.0    SC5283    Furniture        14   \n",
       "541907    581587  2011-12-01     12680.0    SC1099    Cosmetics        45   \n",
       "541908    581587  2011-12-01     12680.0    SC9276         Toys         6   \n",
       "\n",
       "        UnitPrice       Country cohort_date  cohort_index  \n",
       "0           10.23         Egypt  2010-12-01             1  \n",
       "1           19.61          Mali  2010-12-01             1  \n",
       "2           61.49          Mali  2010-12-01             1  \n",
       "3           24.73  South Africa  2010-12-01             1  \n",
       "4           38.83        Rwanda  2010-12-01             1  \n",
       "...           ...           ...         ...           ...  \n",
       "541904      36.53    Mozambique  2011-08-01            49  \n",
       "541905      90.65       Tunisia  2011-08-01            49  \n",
       "541906      40.07       Somalia  2011-08-01            49  \n",
       "541907      79.83       Senegal  2011-08-01            49  \n",
       "541908      46.62      Ethiopia  2011-08-01            49  \n",
       "\n",
       "[406829 rows x 10 columns]"
      ]
     },
     "execution_count": 45,
     "metadata": {},
     "output_type": "execute_result"
    }
   ],
   "source": [
    "df[\"cohort_index\"] = create_cohort_index(first_month, first_year, latest_month, latest_year)\n",
    "df"
   ]
  },
  {
   "cell_type": "code",
   "execution_count": null,
   "metadata": {},
   "outputs": [],
   "source": []
  }
 ],
 "metadata": {
  "kernelspec": {
   "display_name": "Python 3",
   "language": "python",
   "name": "python3"
  },
  "language_info": {
   "codemirror_mode": {
    "name": "ipython",
    "version": 3
   },
   "file_extension": ".py",
   "mimetype": "text/x-python",
   "name": "python",
   "nbconvert_exporter": "python",
   "pygments_lexer": "ipython3",
   "version": "3.12.9"
  }
 },
 "nbformat": 4,
 "nbformat_minor": 2
}
