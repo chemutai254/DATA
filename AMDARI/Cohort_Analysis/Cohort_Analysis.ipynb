{
 "cells": [
  {
   "cell_type": "markdown",
   "metadata": {},
   "source": [
    "# Cohort Analysis"
   ]
  },
  {
   "cell_type": "code",
   "execution_count": 55,
   "metadata": {},
   "outputs": [],
   "source": [
    "# Import important libraries \n",
    "import pandas as pd \n",
    "import numpy as np \n",
    "\n",
    "# Import visualization libraries\n",
    "import seaborn as sns\n",
    "import matplotlib.pyplot as plt\n",
    "\n",
    "import datetime as dt\n",
    "\n",
    "# Import machine learning libraries\n",
    "from sklearn.model_selection import train_test_split"
   ]
  },
  {
   "cell_type": "markdown",
   "metadata": {},
   "source": [
    "## Load Dataset"
   ]
  },
  {
   "cell_type": "code",
   "execution_count": 56,
   "metadata": {},
   "outputs": [
    {
     "data": {
      "application/vnd.microsoft.datawrangler.viewer.v0+json": {
       "columns": [
        {
         "name": "index",
         "rawType": "int64",
         "type": "integer"
        },
        {
         "name": "InvoiceNo",
         "rawType": "object",
         "type": "string"
        },
        {
         "name": "InvoiceDate",
         "rawType": "object",
         "type": "string"
        },
        {
         "name": "CustomerID",
         "rawType": "float64",
         "type": "float"
        },
        {
         "name": "StockCode",
         "rawType": "object",
         "type": "string"
        },
        {
         "name": "Description",
         "rawType": "object",
         "type": "string"
        },
        {
         "name": "Quantity",
         "rawType": "int64",
         "type": "integer"
        },
        {
         "name": "UnitPrice",
         "rawType": "float64",
         "type": "float"
        },
        {
         "name": "Country",
         "rawType": "object",
         "type": "string"
        }
       ],
       "conversionMethod": "pd.DataFrame",
       "ref": "b36a80ff-d1c8-4f36-8bbc-fb478854b914",
       "rows": [
        [
         "0",
         "536365",
         "2010-12-01 08:26:00",
         "17850.0",
         "SC1734",
         "Electronics",
         "65",
         "10.23",
         "Egypt"
        ],
        [
         "1",
         "536365",
         "2010-12-01 08:26:00",
         "17850.0",
         "SC2088",
         "Furniture",
         "95",
         "19.61",
         "Mali"
        ],
        [
         "2",
         "536365",
         "2010-12-01 08:26:00",
         "17850.0",
         "SC3463",
         "Books",
         "78",
         "61.49",
         "Mali"
        ],
        [
         "3",
         "536365",
         "2010-12-01 08:26:00",
         "17850.0",
         "SC6228",
         "Toys",
         "15",
         "24.73",
         "South Africa"
        ],
        [
         "4",
         "536365",
         "2010-12-01 08:26:00",
         "17850.0",
         "SC2149",
         "Toys",
         "50",
         "38.83",
         "Rwanda"
        ]
       ],
       "shape": {
        "columns": 8,
        "rows": 5
       }
      },
      "text/html": [
       "<div>\n",
       "<style scoped>\n",
       "    .dataframe tbody tr th:only-of-type {\n",
       "        vertical-align: middle;\n",
       "    }\n",
       "\n",
       "    .dataframe tbody tr th {\n",
       "        vertical-align: top;\n",
       "    }\n",
       "\n",
       "    .dataframe thead th {\n",
       "        text-align: right;\n",
       "    }\n",
       "</style>\n",
       "<table border=\"1\" class=\"dataframe\">\n",
       "  <thead>\n",
       "    <tr style=\"text-align: right;\">\n",
       "      <th></th>\n",
       "      <th>InvoiceNo</th>\n",
       "      <th>InvoiceDate</th>\n",
       "      <th>CustomerID</th>\n",
       "      <th>StockCode</th>\n",
       "      <th>Description</th>\n",
       "      <th>Quantity</th>\n",
       "      <th>UnitPrice</th>\n",
       "      <th>Country</th>\n",
       "    </tr>\n",
       "  </thead>\n",
       "  <tbody>\n",
       "    <tr>\n",
       "      <th>0</th>\n",
       "      <td>536365</td>\n",
       "      <td>2010-12-01 08:26:00</td>\n",
       "      <td>17850.0</td>\n",
       "      <td>SC1734</td>\n",
       "      <td>Electronics</td>\n",
       "      <td>65</td>\n",
       "      <td>10.23</td>\n",
       "      <td>Egypt</td>\n",
       "    </tr>\n",
       "    <tr>\n",
       "      <th>1</th>\n",
       "      <td>536365</td>\n",
       "      <td>2010-12-01 08:26:00</td>\n",
       "      <td>17850.0</td>\n",
       "      <td>SC2088</td>\n",
       "      <td>Furniture</td>\n",
       "      <td>95</td>\n",
       "      <td>19.61</td>\n",
       "      <td>Mali</td>\n",
       "    </tr>\n",
       "    <tr>\n",
       "      <th>2</th>\n",
       "      <td>536365</td>\n",
       "      <td>2010-12-01 08:26:00</td>\n",
       "      <td>17850.0</td>\n",
       "      <td>SC3463</td>\n",
       "      <td>Books</td>\n",
       "      <td>78</td>\n",
       "      <td>61.49</td>\n",
       "      <td>Mali</td>\n",
       "    </tr>\n",
       "    <tr>\n",
       "      <th>3</th>\n",
       "      <td>536365</td>\n",
       "      <td>2010-12-01 08:26:00</td>\n",
       "      <td>17850.0</td>\n",
       "      <td>SC6228</td>\n",
       "      <td>Toys</td>\n",
       "      <td>15</td>\n",
       "      <td>24.73</td>\n",
       "      <td>South Africa</td>\n",
       "    </tr>\n",
       "    <tr>\n",
       "      <th>4</th>\n",
       "      <td>536365</td>\n",
       "      <td>2010-12-01 08:26:00</td>\n",
       "      <td>17850.0</td>\n",
       "      <td>SC2149</td>\n",
       "      <td>Toys</td>\n",
       "      <td>50</td>\n",
       "      <td>38.83</td>\n",
       "      <td>Rwanda</td>\n",
       "    </tr>\n",
       "  </tbody>\n",
       "</table>\n",
       "</div>"
      ],
      "text/plain": [
       "  InvoiceNo          InvoiceDate  CustomerID StockCode  Description  Quantity  \\\n",
       "0    536365  2010-12-01 08:26:00     17850.0    SC1734  Electronics        65   \n",
       "1    536365  2010-12-01 08:26:00     17850.0    SC2088    Furniture        95   \n",
       "2    536365  2010-12-01 08:26:00     17850.0    SC3463        Books        78   \n",
       "3    536365  2010-12-01 08:26:00     17850.0    SC6228         Toys        15   \n",
       "4    536365  2010-12-01 08:26:00     17850.0    SC2149         Toys        50   \n",
       "\n",
       "   UnitPrice       Country  \n",
       "0      10.23         Egypt  \n",
       "1      19.61          Mali  \n",
       "2      61.49          Mali  \n",
       "3      24.73  South Africa  \n",
       "4      38.83        Rwanda  "
      ]
     },
     "execution_count": 56,
     "metadata": {},
     "output_type": "execute_result"
    }
   ],
   "source": [
    "df = pd.read_csv(\"../Cohort_Analysis/Dataset_ecommerce.csv\")\n",
    "df.head()"
   ]
  },
  {
   "cell_type": "code",
   "execution_count": 57,
   "metadata": {},
   "outputs": [
    {
     "data": {
      "application/vnd.microsoft.datawrangler.viewer.v0+json": {
       "columns": [
        {
         "name": "index",
         "rawType": "object",
         "type": "string"
        },
        {
         "name": "InvoiceNo",
         "rawType": "object",
         "type": "unknown"
        },
        {
         "name": "InvoiceDate",
         "rawType": "object",
         "type": "unknown"
        },
        {
         "name": "CustomerID",
         "rawType": "float64",
         "type": "float"
        },
        {
         "name": "StockCode",
         "rawType": "object",
         "type": "unknown"
        },
        {
         "name": "Description",
         "rawType": "object",
         "type": "unknown"
        },
        {
         "name": "Quantity",
         "rawType": "float64",
         "type": "float"
        },
        {
         "name": "UnitPrice",
         "rawType": "float64",
         "type": "float"
        },
        {
         "name": "Country",
         "rawType": "object",
         "type": "unknown"
        }
       ],
       "conversionMethod": "pd.DataFrame",
       "ref": "da1a441d-592b-42a2-a50b-8e7f72fda6a8",
       "rows": [
        [
         "count",
         "541909",
         "541909",
         "406829.0",
         "541909",
         "541909",
         "541909.0",
         "541909.0",
         "541909"
        ],
        [
         "unique",
         "25900",
         "23260",
         null,
         "9000",
         "10",
         null,
         null,
         "28"
        ],
        [
         "top",
         "573585",
         "2011-10-31 14:41:00",
         null,
         "SC2014",
         "Sports Equipment",
         null,
         null,
         "Cote d'Ivoire"
        ],
        [
         "freq",
         "1114",
         "1114",
         null,
         "96",
         "54765",
         null,
         null,
         "19651"
        ],
        [
         "mean",
         null,
         null,
         "15287.690570239585",
         null,
         null,
         "50.53474845407624",
         "50.47635368668908",
         null
        ],
        [
         "std",
         null,
         null,
         "1713.600303321598",
         null,
         null,
         "28.849366746511805",
         "28.56477490307392",
         null
        ],
        [
         "min",
         null,
         null,
         "12346.0",
         null,
         null,
         "1.0",
         "1.0",
         null
        ],
        [
         "25%",
         null,
         null,
         "13953.0",
         null,
         null,
         "26.0",
         "25.75",
         null
        ],
        [
         "50%",
         null,
         null,
         "15152.0",
         null,
         null,
         "51.0",
         "50.43",
         null
        ],
        [
         "75%",
         null,
         null,
         "16791.0",
         null,
         null,
         "76.0",
         "75.18",
         null
        ],
        [
         "max",
         null,
         null,
         "18287.0",
         null,
         null,
         "100.0",
         "100.0",
         null
        ]
       ],
       "shape": {
        "columns": 8,
        "rows": 11
       }
      },
      "text/html": [
       "<div>\n",
       "<style scoped>\n",
       "    .dataframe tbody tr th:only-of-type {\n",
       "        vertical-align: middle;\n",
       "    }\n",
       "\n",
       "    .dataframe tbody tr th {\n",
       "        vertical-align: top;\n",
       "    }\n",
       "\n",
       "    .dataframe thead th {\n",
       "        text-align: right;\n",
       "    }\n",
       "</style>\n",
       "<table border=\"1\" class=\"dataframe\">\n",
       "  <thead>\n",
       "    <tr style=\"text-align: right;\">\n",
       "      <th></th>\n",
       "      <th>InvoiceNo</th>\n",
       "      <th>InvoiceDate</th>\n",
       "      <th>CustomerID</th>\n",
       "      <th>StockCode</th>\n",
       "      <th>Description</th>\n",
       "      <th>Quantity</th>\n",
       "      <th>UnitPrice</th>\n",
       "      <th>Country</th>\n",
       "    </tr>\n",
       "  </thead>\n",
       "  <tbody>\n",
       "    <tr>\n",
       "      <th>count</th>\n",
       "      <td>541909</td>\n",
       "      <td>541909</td>\n",
       "      <td>406829.000000</td>\n",
       "      <td>541909</td>\n",
       "      <td>541909</td>\n",
       "      <td>541909.000000</td>\n",
       "      <td>541909.000000</td>\n",
       "      <td>541909</td>\n",
       "    </tr>\n",
       "    <tr>\n",
       "      <th>unique</th>\n",
       "      <td>25900</td>\n",
       "      <td>23260</td>\n",
       "      <td>NaN</td>\n",
       "      <td>9000</td>\n",
       "      <td>10</td>\n",
       "      <td>NaN</td>\n",
       "      <td>NaN</td>\n",
       "      <td>28</td>\n",
       "    </tr>\n",
       "    <tr>\n",
       "      <th>top</th>\n",
       "      <td>573585</td>\n",
       "      <td>2011-10-31 14:41:00</td>\n",
       "      <td>NaN</td>\n",
       "      <td>SC2014</td>\n",
       "      <td>Sports Equipment</td>\n",
       "      <td>NaN</td>\n",
       "      <td>NaN</td>\n",
       "      <td>Cote d'Ivoire</td>\n",
       "    </tr>\n",
       "    <tr>\n",
       "      <th>freq</th>\n",
       "      <td>1114</td>\n",
       "      <td>1114</td>\n",
       "      <td>NaN</td>\n",
       "      <td>96</td>\n",
       "      <td>54765</td>\n",
       "      <td>NaN</td>\n",
       "      <td>NaN</td>\n",
       "      <td>19651</td>\n",
       "    </tr>\n",
       "    <tr>\n",
       "      <th>mean</th>\n",
       "      <td>NaN</td>\n",
       "      <td>NaN</td>\n",
       "      <td>15287.690570</td>\n",
       "      <td>NaN</td>\n",
       "      <td>NaN</td>\n",
       "      <td>50.534748</td>\n",
       "      <td>50.476354</td>\n",
       "      <td>NaN</td>\n",
       "    </tr>\n",
       "    <tr>\n",
       "      <th>std</th>\n",
       "      <td>NaN</td>\n",
       "      <td>NaN</td>\n",
       "      <td>1713.600303</td>\n",
       "      <td>NaN</td>\n",
       "      <td>NaN</td>\n",
       "      <td>28.849367</td>\n",
       "      <td>28.564775</td>\n",
       "      <td>NaN</td>\n",
       "    </tr>\n",
       "    <tr>\n",
       "      <th>min</th>\n",
       "      <td>NaN</td>\n",
       "      <td>NaN</td>\n",
       "      <td>12346.000000</td>\n",
       "      <td>NaN</td>\n",
       "      <td>NaN</td>\n",
       "      <td>1.000000</td>\n",
       "      <td>1.000000</td>\n",
       "      <td>NaN</td>\n",
       "    </tr>\n",
       "    <tr>\n",
       "      <th>25%</th>\n",
       "      <td>NaN</td>\n",
       "      <td>NaN</td>\n",
       "      <td>13953.000000</td>\n",
       "      <td>NaN</td>\n",
       "      <td>NaN</td>\n",
       "      <td>26.000000</td>\n",
       "      <td>25.750000</td>\n",
       "      <td>NaN</td>\n",
       "    </tr>\n",
       "    <tr>\n",
       "      <th>50%</th>\n",
       "      <td>NaN</td>\n",
       "      <td>NaN</td>\n",
       "      <td>15152.000000</td>\n",
       "      <td>NaN</td>\n",
       "      <td>NaN</td>\n",
       "      <td>51.000000</td>\n",
       "      <td>50.430000</td>\n",
       "      <td>NaN</td>\n",
       "    </tr>\n",
       "    <tr>\n",
       "      <th>75%</th>\n",
       "      <td>NaN</td>\n",
       "      <td>NaN</td>\n",
       "      <td>16791.000000</td>\n",
       "      <td>NaN</td>\n",
       "      <td>NaN</td>\n",
       "      <td>76.000000</td>\n",
       "      <td>75.180000</td>\n",
       "      <td>NaN</td>\n",
       "    </tr>\n",
       "    <tr>\n",
       "      <th>max</th>\n",
       "      <td>NaN</td>\n",
       "      <td>NaN</td>\n",
       "      <td>18287.000000</td>\n",
       "      <td>NaN</td>\n",
       "      <td>NaN</td>\n",
       "      <td>100.000000</td>\n",
       "      <td>100.000000</td>\n",
       "      <td>NaN</td>\n",
       "    </tr>\n",
       "  </tbody>\n",
       "</table>\n",
       "</div>"
      ],
      "text/plain": [
       "       InvoiceNo          InvoiceDate     CustomerID StockCode  \\\n",
       "count     541909               541909  406829.000000    541909   \n",
       "unique     25900                23260            NaN      9000   \n",
       "top       573585  2011-10-31 14:41:00            NaN    SC2014   \n",
       "freq        1114                 1114            NaN        96   \n",
       "mean         NaN                  NaN   15287.690570       NaN   \n",
       "std          NaN                  NaN    1713.600303       NaN   \n",
       "min          NaN                  NaN   12346.000000       NaN   \n",
       "25%          NaN                  NaN   13953.000000       NaN   \n",
       "50%          NaN                  NaN   15152.000000       NaN   \n",
       "75%          NaN                  NaN   16791.000000       NaN   \n",
       "max          NaN                  NaN   18287.000000       NaN   \n",
       "\n",
       "             Description       Quantity      UnitPrice        Country  \n",
       "count             541909  541909.000000  541909.000000         541909  \n",
       "unique                10            NaN            NaN             28  \n",
       "top     Sports Equipment            NaN            NaN  Cote d'Ivoire  \n",
       "freq               54765            NaN            NaN          19651  \n",
       "mean                 NaN      50.534748      50.476354            NaN  \n",
       "std                  NaN      28.849367      28.564775            NaN  \n",
       "min                  NaN       1.000000       1.000000            NaN  \n",
       "25%                  NaN      26.000000      25.750000            NaN  \n",
       "50%                  NaN      51.000000      50.430000            NaN  \n",
       "75%                  NaN      76.000000      75.180000            NaN  \n",
       "max                  NaN     100.000000     100.000000            NaN  "
      ]
     },
     "execution_count": 57,
     "metadata": {},
     "output_type": "execute_result"
    }
   ],
   "source": [
    "# Descriptive Statistics\n",
    "df.describe(include='all')"
   ]
  },
  {
   "cell_type": "code",
   "execution_count": 58,
   "metadata": {},
   "outputs": [
    {
     "data": {
      "text/plain": [
       "InvoiceNo       0.00\n",
       "InvoiceDate     0.00\n",
       "CustomerID     24.93\n",
       "StockCode       0.00\n",
       "Description     0.00\n",
       "Quantity        0.00\n",
       "UnitPrice       0.00\n",
       "Country         0.00\n",
       "dtype: float64"
      ]
     },
     "execution_count": 58,
     "metadata": {},
     "output_type": "execute_result"
    }
   ],
   "source": [
    "# Check for percentage of missing values\n",
    "(df.isnull().mean() * 100).round(2)"
   ]
  },
  {
   "cell_type": "code",
   "execution_count": 59,
   "metadata": {},
   "outputs": [
    {
     "data": {
      "text/plain": [
       "InvoiceNo      0\n",
       "InvoiceDate    0\n",
       "CustomerID     0\n",
       "StockCode      0\n",
       "Description    0\n",
       "Quantity       0\n",
       "UnitPrice      0\n",
       "Country        0\n",
       "dtype: int64"
      ]
     },
     "execution_count": 59,
     "metadata": {},
     "output_type": "execute_result"
    }
   ],
   "source": [
    "# Drop missing values\n",
    "df.dropna(inplace=True)\n",
    "\n",
    "# Check for missing values\n",
    "df.isnull().sum()"
   ]
  },
  {
   "cell_type": "code",
   "execution_count": 60,
   "metadata": {},
   "outputs": [
    {
     "name": "stdout",
     "output_type": "stream",
     "text": [
      "<class 'pandas.core.frame.DataFrame'>\n",
      "Index: 406829 entries, 0 to 541908\n",
      "Data columns (total 8 columns):\n",
      " #   Column       Non-Null Count   Dtype  \n",
      "---  ------       --------------   -----  \n",
      " 0   InvoiceNo    406829 non-null  object \n",
      " 1   InvoiceDate  406829 non-null  object \n",
      " 2   CustomerID   406829 non-null  float64\n",
      " 3   StockCode    406829 non-null  object \n",
      " 4   Description  406829 non-null  object \n",
      " 5   Quantity     406829 non-null  int64  \n",
      " 6   UnitPrice    406829 non-null  float64\n",
      " 7   Country      406829 non-null  object \n",
      "dtypes: float64(2), int64(1), object(5)\n",
      "memory usage: 27.9+ MB\n"
     ]
    }
   ],
   "source": [
    "# Check for datatypes\n",
    "df.info()"
   ]
  },
  {
   "cell_type": "code",
   "execution_count": 61,
   "metadata": {},
   "outputs": [
    {
     "name": "stdout",
     "output_type": "stream",
     "text": [
      "<class 'pandas.core.frame.DataFrame'>\n",
      "Index: 406829 entries, 0 to 541908\n",
      "Data columns (total 8 columns):\n",
      " #   Column       Non-Null Count   Dtype         \n",
      "---  ------       --------------   -----         \n",
      " 0   InvoiceNo    406829 non-null  object        \n",
      " 1   InvoiceDate  406829 non-null  datetime64[ns]\n",
      " 2   CustomerID   406829 non-null  float64       \n",
      " 3   StockCode    406829 non-null  object        \n",
      " 4   Description  406829 non-null  object        \n",
      " 5   Quantity     406829 non-null  int64         \n",
      " 6   UnitPrice    406829 non-null  float64       \n",
      " 7   Country      406829 non-null  object        \n",
      "dtypes: datetime64[ns](1), float64(2), int64(1), object(4)\n",
      "memory usage: 27.9+ MB\n"
     ]
    }
   ],
   "source": [
    "# Convert the datatype of the InvoiceDate to datetime\n",
    "df['InvoiceDate'] = pd.to_datetime(df['InvoiceDate'])\n",
    "df.info()"
   ]
  },
  {
   "cell_type": "markdown",
   "metadata": {},
   "source": [
    "## Exploratory Data Analysis"
   ]
  },
  {
   "cell_type": "markdown",
   "metadata": {},
   "source": [
    "*Analysis by Country*"
   ]
  },
  {
   "cell_type": "code",
   "execution_count": 65,
   "metadata": {},
   "outputs": [
    {
     "data": {
      "application/vnd.microsoft.datawrangler.viewer.v0+json": {
       "columns": [
        {
         "name": "index",
         "rawType": "int64",
         "type": "integer"
        },
        {
         "name": "index",
         "rawType": "int64",
         "type": "integer"
        },
        {
         "name": "Country",
         "rawType": "object",
         "type": "string"
        },
        {
         "name": "Quantity",
         "rawType": "int64",
         "type": "integer"
        }
       ],
       "conversionMethod": "pd.DataFrame",
       "ref": "2db35188-16bd-48a5-9d6a-50cc70134d0d",
       "rows": [
        [
         "0",
         "23",
         "Togo",
         "741223"
        ],
        [
         "1",
         "20",
         "South Africa",
         "740589"
        ],
        [
         "2",
         "4",
         "Cote d'Ivoire",
         "740229"
        ],
        [
         "3",
         "15",
         "Nigeria",
         "739708"
        ],
        [
         "4",
         "9",
         "Libya",
         "739206"
        ]
       ],
       "shape": {
        "columns": 3,
        "rows": 5
       }
      },
      "text/html": [
       "<div>\n",
       "<style scoped>\n",
       "    .dataframe tbody tr th:only-of-type {\n",
       "        vertical-align: middle;\n",
       "    }\n",
       "\n",
       "    .dataframe tbody tr th {\n",
       "        vertical-align: top;\n",
       "    }\n",
       "\n",
       "    .dataframe thead th {\n",
       "        text-align: right;\n",
       "    }\n",
       "</style>\n",
       "<table border=\"1\" class=\"dataframe\">\n",
       "  <thead>\n",
       "    <tr style=\"text-align: right;\">\n",
       "      <th></th>\n",
       "      <th>index</th>\n",
       "      <th>Country</th>\n",
       "      <th>Quantity</th>\n",
       "    </tr>\n",
       "  </thead>\n",
       "  <tbody>\n",
       "    <tr>\n",
       "      <th>0</th>\n",
       "      <td>23</td>\n",
       "      <td>Togo</td>\n",
       "      <td>741223</td>\n",
       "    </tr>\n",
       "    <tr>\n",
       "      <th>1</th>\n",
       "      <td>20</td>\n",
       "      <td>South Africa</td>\n",
       "      <td>740589</td>\n",
       "    </tr>\n",
       "    <tr>\n",
       "      <th>2</th>\n",
       "      <td>4</td>\n",
       "      <td>Cote d'Ivoire</td>\n",
       "      <td>740229</td>\n",
       "    </tr>\n",
       "    <tr>\n",
       "      <th>3</th>\n",
       "      <td>15</td>\n",
       "      <td>Nigeria</td>\n",
       "      <td>739708</td>\n",
       "    </tr>\n",
       "    <tr>\n",
       "      <th>4</th>\n",
       "      <td>9</td>\n",
       "      <td>Libya</td>\n",
       "      <td>739206</td>\n",
       "    </tr>\n",
       "  </tbody>\n",
       "</table>\n",
       "</div>"
      ],
      "text/plain": [
       "   index        Country  Quantity\n",
       "0     23           Togo    741223\n",
       "1     20   South Africa    740589\n",
       "2      4  Cote d'Ivoire    740229\n",
       "3     15        Nigeria    739708\n",
       "4      9          Libya    739206"
      ]
     },
     "execution_count": 65,
     "metadata": {},
     "output_type": "execute_result"
    }
   ],
   "source": [
    "quantity_by_country = df.groupby(['Country'])['Quantity'].sum().reset_index()\n",
    "quantity_by_country = quantity_by_country.sort_values(\"Quantity\", ascending=False).reset_index()\n",
    "quantity_by_country.head()"
   ]
  },
  {
   "cell_type": "code",
   "execution_count": 70,
   "metadata": {},
   "outputs": [
    {
     "data": {
      "image/png": "[encoded data removed]",
      "text/plain": [
       "<Figure size 1500x800 with 1 Axes>"
      ]
     },
     "metadata": {},
     "output_type": "display_data"
    }
   ],
   "source": [
    "# Top 10 Countries with the highest quantity of items sold\n",
    "top_10_country = quantity_by_country.head(10)\n",
    "\n",
    "# Visualize\n",
    "plt.figure(figsize=(15, 8))\n",
    "ax = sns.barplot(x='Country', y='Quantity', data=top_10_country)\n",
    "plt.title('Top 10 Countries with the highest purchase')\n",
    "plt.xlabel('Countries')\n",
    "plt.ylabel('Quantity of Product Sold')\n",
    "plt.xticks(rotation=45)\n",
    "plt.show()"
   ]
  },
  {
   "cell_type": "code",
   "execution_count": 68,
   "metadata": {},
   "outputs": [
    {
     "data": {
      "image/png": "[encoded data removed]",
      "text/plain": [
       "<Figure size 1500x800 with 1 Axes>"
      ]
     },
     "metadata": {},
     "output_type": "display_data"
    }
   ],
   "source": [
    "# Least 10 Countries with the lowest quantity of items sold\n",
    "least_10_country = quantity_by_country.tail(10)\n",
    "\n",
    "# Visualize\n",
    "plt.figure(figsize=(15, 8))\n",
    "ax = sns.barplot(x='Country', y='Quantity', data=least_10_country)\n",
    "plt.title('Bottom 10 Countries with the least purchase')\n",
    "plt.xlabel('Countries')\n",
    "plt.ylabel('Quantity of Product Sold')\n",
    "plt.xticks(rotation=45)\n",
    "plt.show()"
   ]
  },
  {
   "cell_type": "markdown",
   "metadata": {},
   "source": [
    "*Analysis fo countries and number of customers*"
   ]
  },
  {
   "cell_type": "code",
   "execution_count": 71,
   "metadata": {},
   "outputs": [
    {
     "data": {
      "application/vnd.microsoft.datawrangler.viewer.v0+json": {
       "columns": [
        {
         "name": "index",
         "rawType": "int64",
         "type": "integer"
        },
        {
         "name": "index",
         "rawType": "int64",
         "type": "integer"
        },
        {
         "name": "Country",
         "rawType": "object",
         "type": "string"
        },
        {
         "name": "CustomerID",
         "rawType": "int64",
         "type": "integer"
        }
       ],
       "conversionMethod": "pd.DataFrame",
       "ref": "92b68136-71f8-4769-809e-7d534022db10",
       "rows": [
        [
         "0",
         "13",
         "Mozambique",
         "3072"
        ],
        [
         "1",
         "1",
         "Benin",
         "3054"
        ],
        [
         "2",
         "23",
         "Togo",
         "3053"
        ],
        [
         "3",
         "15",
         "Nigeria",
         "3051"
        ],
        [
         "4",
         "2",
         "Burkina Faso",
         "3049"
        ]
       ],
       "shape": {
        "columns": 3,
        "rows": 5
       }
      },
      "text/html": [
       "<div>\n",
       "<style scoped>\n",
       "    .dataframe tbody tr th:only-of-type {\n",
       "        vertical-align: middle;\n",
       "    }\n",
       "\n",
       "    .dataframe tbody tr th {\n",
       "        vertical-align: top;\n",
       "    }\n",
       "\n",
       "    .dataframe thead th {\n",
       "        text-align: right;\n",
       "    }\n",
       "</style>\n",
       "<table border=\"1\" class=\"dataframe\">\n",
       "  <thead>\n",
       "    <tr style=\"text-align: right;\">\n",
       "      <th></th>\n",
       "      <th>index</th>\n",
       "      <th>Country</th>\n",
       "      <th>CustomerID</th>\n",
       "    </tr>\n",
       "  </thead>\n",
       "  <tbody>\n",
       "    <tr>\n",
       "      <th>0</th>\n",
       "      <td>13</td>\n",
       "      <td>Mozambique</td>\n",
       "      <td>3072</td>\n",
       "    </tr>\n",
       "    <tr>\n",
       "      <th>1</th>\n",
       "      <td>1</td>\n",
       "      <td>Benin</td>\n",
       "      <td>3054</td>\n",
       "    </tr>\n",
       "    <tr>\n",
       "      <th>2</th>\n",
       "      <td>23</td>\n",
       "      <td>Togo</td>\n",
       "      <td>3053</td>\n",
       "    </tr>\n",
       "    <tr>\n",
       "      <th>3</th>\n",
       "      <td>15</td>\n",
       "      <td>Nigeria</td>\n",
       "      <td>3051</td>\n",
       "    </tr>\n",
       "    <tr>\n",
       "      <th>4</th>\n",
       "      <td>2</td>\n",
       "      <td>Burkina Faso</td>\n",
       "      <td>3049</td>\n",
       "    </tr>\n",
       "  </tbody>\n",
       "</table>\n",
       "</div>"
      ],
      "text/plain": [
       "   index       Country  CustomerID\n",
       "0     13    Mozambique        3072\n",
       "1      1         Benin        3054\n",
       "2     23          Togo        3053\n",
       "3     15       Nigeria        3051\n",
       "4      2  Burkina Faso        3049"
      ]
     },
     "execution_count": 71,
     "metadata": {},
     "output_type": "execute_result"
    }
   ],
   "source": [
    "# Countries with the highest number of customers\n",
    "customer_by_country = df.groupby(['Country'])['CustomerID'].nunique().reset_index()\n",
    "customer_by_country = customer_by_country.sort_values(\"CustomerID\", ascending=False).reset_index()\n",
    "customer_by_country.head()"
   ]
  },
  {
   "cell_type": "code",
   "execution_count": null,
   "metadata": {},
   "outputs": [],
   "source": []
  }
 ],
 "metadata": {
  "kernelspec": {
   "display_name": "Python 3",
   "language": "python",
   "name": "python3"
  },
  "language_info": {
   "codemirror_mode": {
    "name": "ipython",
    "version": 3
   },
   "file_extension": ".py",
   "mimetype": "text/x-python",
   "name": "python",
   "nbconvert_exporter": "python",
   "pygments_lexer": "ipython3",
   "version": "3.12.9"
  }
 },
 "nbformat": 4,
 "nbformat_minor": 2
}
